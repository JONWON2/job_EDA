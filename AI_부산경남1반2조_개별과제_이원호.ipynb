{
 "nbformat": 4,
 "nbformat_minor": 0,
 "metadata": {
  "colab": {
   "name": "과제1. 직원 이직 분석_이변량분석.ipynb",
   "provenance": [],
   "collapsed_sections": [
    "4UMjF0sTkr-4",
    "F_Mugk3f_y3X",
    "UVjP9xEt2pVn",
    "CfOiGI1D2pne"
   ],
   "toc_visible": true
  },
  "kernelspec": {
   "name": "python3",
   "display_name": "Python 3"
  },
  "language_info": {
   "name": "python"
  }
 },
 "cells": [
  {
   "cell_type": "markdown",
   "metadata": {
    "id": "mTt7qGUTCcFs"
   },
   "source": [
    "# 과제1. 직원 이직 분석"
   ]
  },
  {
   "cell_type": "markdown",
   "source": [
    "* 회사 인사팀에서는 AIVLER 들에게 직원의 이직여부과 관련해서 분석을 요청하였습니다.\n",
    "* 최근 이직율이 증가하는 것에 대해 우려를 갖고 있기에, 이직여부에 영향을 주는 요인에 대해 분석하여, 직원들이 회사를 떠나지 않도록 인사 프로그램을 준비하려고 합니다.\n",
    "* 필요하다면, 검색을 통해 '직원이 회사를 떠나는 이유' 등을 찾아보는 것은 데이터 분석을 하는데 도움이 될 것입니다.\n",
    "* 자, 이제 인사팀에서 제공한 데이터를 바탕으로 각각 개별 변수의 분포를 살펴보며, 비즈니스 인사이트를 최대한 도출해 봅시다.\n"
   ],
   "metadata": {
    "id": "t42CZ_o2iHvT"
   }
  },
  {
   "cell_type": "markdown",
   "source": [
    "![](https://adoptostaging.blob.core.windows.net/media/employee-attrition-reasons-9LIqMv.jpg)"
   ],
   "metadata": {
    "id": "0wuYJKZHjA3d"
   }
  },
  {
   "cell_type": "markdown",
   "metadata": {
    "id": "AHmt88Q5EVsj"
   },
   "source": [
    "## 0.환경설정"
   ]
  },
  {
   "cell_type": "markdown",
   "source": [
    "### 1) 라이브러리 로딩"
   ],
   "metadata": {
    "id": "KnzVh2LmkLDU"
   }
  },
  {
   "cell_type": "code",
   "metadata": {
    "id": "3rsQerEaELwI"
   },
   "source": [
    "import pandas as pd\n",
    "import numpy as np\n",
    "import matplotlib.pyplot as plt\n",
    "import seaborn as sns\n",
    "\n",
    "from statsmodels.graphics.mosaicplot import mosaic\n",
    "from scipy import stats as spst\n",
    "import statsmodels.api as sm\n",
    "\n",
    "from IPython.display import display\n"
   ],
   "execution_count": 18,
   "outputs": []
  },
  {
   "cell_type": "markdown",
   "source": [
    "### 2) 데이터 로딩"
   ],
   "metadata": {
    "id": "5Qh5KYWokO_N"
   }
  },
  {
   "cell_type": "code",
   "metadata": {
    "id": "Bw5yZwT0MJKx"
   },
   "source": [
    "# data data\n",
    "path = \"https://raw.githubusercontent.com/DA4BAM/dataset/master/Attrition_NA.CSV\"\n",
    "data = pd.read_csv(path)\n",
    "data.drop(['EducationField', 'Education','JobInvolvement', 'StockOptionLevel', 'BusinessTravel','YearsWithCurrManager'\n",
    ",'YearsInCurrentRole','JobRole', 'Department','EmployeeNumber','EnvironmentSatisfaction','TrainingTimesLastYear','YearsAtCompany']\n",
    "          , axis = 1, inplace = True)\n",
    "data['Attrition'] = np.where(data['Attrition']=='Yes', 1, 0)\n",
    "data.head(10)"
   ],
   "execution_count": 2,
   "outputs": [
    {
     "data": {
      "text/plain": "   Attrition  Age  DistanceFromHome  Gender  JobSatisfaction MaritalStatus  \\\n0          0   33               7.0    Male                3       Married   \n1          0   35              18.0    Male                4        Single   \n2          0   42               6.0    Male                1       Married   \n3          0   46               2.0  Female                1       Married   \n4          0   39               NaN    Male                4      Divorced   \n5          1   22               4.0    Male                3        Single   \n6          0   24              21.0    Male                1      Divorced   \n7          0   34               8.0    Male                3       Married   \n8          0   30              20.0    Male                1       Married   \n9          0   26               6.0  Female                4       Married   \n\n   MonthlyIncome  NumCompaniesWorked OverTime  PercentSalaryHike  \\\n0          11691                 0.0       No                 11   \n1           9362                 2.0       No                 11   \n2          13348                 9.0       No                 13   \n3          17048                 8.0       No                 23   \n4           4127                 2.0       No                 18   \n5           3894                 5.0       No                 16   \n6           2296                 0.0       No                 14   \n7           4404                 2.0       No                 12   \n8           9957                 0.0       No                 15   \n9           2659                 1.0      Yes                 13   \n\n   RelationshipSatisfaction  TotalWorkingYears  WorkLifeBalance  \n0                         4                 14                4  \n1                         3                 10                3  \n2                         2                 18                4  \n3                         1                 28                3  \n4                         4                  7                3  \n5                         3                  4                3  \n6                         2                  2                3  \n7                         1                  6                4  \n8                         3                  7                2  \n9                         3                  3                3  ",
      "text/html": "<div>\n<style scoped>\n    .dataframe tbody tr th:only-of-type {\n        vertical-align: middle;\n    }\n\n    .dataframe tbody tr th {\n        vertical-align: top;\n    }\n\n    .dataframe thead th {\n        text-align: right;\n    }\n</style>\n<table border=\"1\" class=\"dataframe\">\n  <thead>\n    <tr style=\"text-align: right;\">\n      <th></th>\n      <th>Attrition</th>\n      <th>Age</th>\n      <th>DistanceFromHome</th>\n      <th>Gender</th>\n      <th>JobSatisfaction</th>\n      <th>MaritalStatus</th>\n      <th>MonthlyIncome</th>\n      <th>NumCompaniesWorked</th>\n      <th>OverTime</th>\n      <th>PercentSalaryHike</th>\n      <th>RelationshipSatisfaction</th>\n      <th>TotalWorkingYears</th>\n      <th>WorkLifeBalance</th>\n    </tr>\n  </thead>\n  <tbody>\n    <tr>\n      <th>0</th>\n      <td>0</td>\n      <td>33</td>\n      <td>7.0</td>\n      <td>Male</td>\n      <td>3</td>\n      <td>Married</td>\n      <td>11691</td>\n      <td>0.0</td>\n      <td>No</td>\n      <td>11</td>\n      <td>4</td>\n      <td>14</td>\n      <td>4</td>\n    </tr>\n    <tr>\n      <th>1</th>\n      <td>0</td>\n      <td>35</td>\n      <td>18.0</td>\n      <td>Male</td>\n      <td>4</td>\n      <td>Single</td>\n      <td>9362</td>\n      <td>2.0</td>\n      <td>No</td>\n      <td>11</td>\n      <td>3</td>\n      <td>10</td>\n      <td>3</td>\n    </tr>\n    <tr>\n      <th>2</th>\n      <td>0</td>\n      <td>42</td>\n      <td>6.0</td>\n      <td>Male</td>\n      <td>1</td>\n      <td>Married</td>\n      <td>13348</td>\n      <td>9.0</td>\n      <td>No</td>\n      <td>13</td>\n      <td>2</td>\n      <td>18</td>\n      <td>4</td>\n    </tr>\n    <tr>\n      <th>3</th>\n      <td>0</td>\n      <td>46</td>\n      <td>2.0</td>\n      <td>Female</td>\n      <td>1</td>\n      <td>Married</td>\n      <td>17048</td>\n      <td>8.0</td>\n      <td>No</td>\n      <td>23</td>\n      <td>1</td>\n      <td>28</td>\n      <td>3</td>\n    </tr>\n    <tr>\n      <th>4</th>\n      <td>0</td>\n      <td>39</td>\n      <td>NaN</td>\n      <td>Male</td>\n      <td>4</td>\n      <td>Divorced</td>\n      <td>4127</td>\n      <td>2.0</td>\n      <td>No</td>\n      <td>18</td>\n      <td>4</td>\n      <td>7</td>\n      <td>3</td>\n    </tr>\n    <tr>\n      <th>5</th>\n      <td>1</td>\n      <td>22</td>\n      <td>4.0</td>\n      <td>Male</td>\n      <td>3</td>\n      <td>Single</td>\n      <td>3894</td>\n      <td>5.0</td>\n      <td>No</td>\n      <td>16</td>\n      <td>3</td>\n      <td>4</td>\n      <td>3</td>\n    </tr>\n    <tr>\n      <th>6</th>\n      <td>0</td>\n      <td>24</td>\n      <td>21.0</td>\n      <td>Male</td>\n      <td>1</td>\n      <td>Divorced</td>\n      <td>2296</td>\n      <td>0.0</td>\n      <td>No</td>\n      <td>14</td>\n      <td>2</td>\n      <td>2</td>\n      <td>3</td>\n    </tr>\n    <tr>\n      <th>7</th>\n      <td>0</td>\n      <td>34</td>\n      <td>8.0</td>\n      <td>Male</td>\n      <td>3</td>\n      <td>Married</td>\n      <td>4404</td>\n      <td>2.0</td>\n      <td>No</td>\n      <td>12</td>\n      <td>1</td>\n      <td>6</td>\n      <td>4</td>\n    </tr>\n    <tr>\n      <th>8</th>\n      <td>0</td>\n      <td>30</td>\n      <td>20.0</td>\n      <td>Male</td>\n      <td>1</td>\n      <td>Married</td>\n      <td>9957</td>\n      <td>0.0</td>\n      <td>No</td>\n      <td>15</td>\n      <td>3</td>\n      <td>7</td>\n      <td>2</td>\n    </tr>\n    <tr>\n      <th>9</th>\n      <td>0</td>\n      <td>26</td>\n      <td>6.0</td>\n      <td>Female</td>\n      <td>4</td>\n      <td>Married</td>\n      <td>2659</td>\n      <td>1.0</td>\n      <td>Yes</td>\n      <td>13</td>\n      <td>3</td>\n      <td>3</td>\n      <td>3</td>\n    </tr>\n  </tbody>\n</table>\n</div>"
     },
     "execution_count": 2,
     "metadata": {},
     "output_type": "execute_result"
    }
   ]
  },
  {
   "cell_type": "markdown",
   "source": [
    "|\t구분\t|\t변수 명\t|\t내용\t|\ttype\t|\t비고\t|\n",
    "|\t----\t|\t----\t|\t----\t|\t----\t|\t----\t|\n",
    "|\t**Target**\t|\t**Attrition**\t|\t이직여부, Yes , No\t|\t범주\t| 1- 이직, 0- 잔류\t\t|\n",
    "|\tfeature\t|\tAge\t|\t나이\t|\t숫자\t|\t\t|\n",
    "|\tfeature\t|\tDistanceFromHome\t|\t집-직장 거리\t|\t숫자\t|\t마일\t|\n",
    "|\tfeature\t|\tGender\t|\t성별\t|\t범주\t| Male, Female\t\t|\n",
    "|\tfeature\t|\tJobSatisfaction\t|\t직무 만족도\t|\t범주\t|\t1 Low, 2 Medium, 3 High, 4 Very High\t|\n",
    "|\tfeature\t|\tMaritalStatus\t|\t결혼상태\t|\t범주\t| Single, Married, Divorced\t\t|\n",
    "|\tfeature\t|\tMonthlyIncome\t|\t월급\t|\t숫자\t| 달러\t|\n",
    "|\tfeature\t|\tNumCompaniesWorked\t|\t입사 전 근무한 회사 수\t|\t숫자\t|\t0 - 우리회사가 첫 직장\t|\n",
    "|\tfeature\t|\tRelationshipSatisfaction\t|\t동료와의 관계\t|\t범주\t| 1 Low, 2 Medium, 3 High, 4 Very High\t\t|\n",
    "|\tfeature\t|\tOverTime\t|\t야근여부\t|\t범주\t|\tYes, No\t|\n",
    "|\tfeature\t|\tPercentSalaryHike\t|\t전년대비 급여인상율\t|\t숫자\t|\t%\t|\n",
    "|\tfeature\t|\tTotalWorkingYears\t|\t총 경력 연수\t|\t숫자\t|\t\t|\n",
    "|\tfeature\t|\tWorkLifeBalance\t|\t워라밸. 일-삶 균형도\t|\t범주\t|\t1 Bad, 2 Good, 3 Better, 4 Best\t|"
   ],
   "metadata": {
    "id": "v50TP8BhMJKx"
   }
  },
  {
   "cell_type": "markdown",
   "source": [
    "----"
   ],
   "metadata": {
    "id": "bKimk8qVm8oC"
   }
  },
  {
   "cell_type": "markdown",
   "source": [
    "## 1.가설수립"
   ],
   "metadata": {
    "id": "0bouXLxGkSSd"
   }
  },
  {
   "cell_type": "markdown",
   "source": [
    "* 여기서는 가설을 생략합니다."
   ],
   "metadata": {
    "id": "nb3mes75kUSt"
   }
  },
  {
   "cell_type": "markdown",
   "source": [
    "----"
   ],
   "metadata": {
    "id": "82xzJIZhnAaX"
   }
  },
  {
   "cell_type": "markdown",
   "metadata": {
    "id": "1hYPpnplEedX"
   },
   "source": [
    "## 2.단변량 분석\n",
    "\n",
    "① 변수의 비즈니스 의미  \n",
    "\n",
    "② 숫자? 범주?  \n",
    "\n",
    "③ NaN 존재 여부 및 조치 방안  \n",
    "\n",
    "④ 기초통계량  \n",
    "\n",
    "⑤ 분포  \n",
    "\n",
    "⑥ 위 정보로부터 파악한 내용(비즈니스!) 정리  \n",
    "\n",
    "⑦ 추가 분석해볼 사항 도출"
   ]
  },
  {
   "cell_type": "markdown",
   "metadata": {
    "id": "ZghJJ7yLEpDA"
   },
   "source": [
    "## 3.이변량 분석 \n",
    "* 자료의 종류에 맞게 X --> Y 에 대해서 그래프(시각화)와 가설검정(수치화)를 수행하고 결과를 평가합니다.\n",
    "* 가설검정시 다음의 항목을 참조하여 수행합니다.\n",
    "    * 유의수준 : 5%\n",
    "    * 숫자 --> 숫자 : 상관분석\n",
    "    * 범주 --> 범주 : 카이제곱검정\n",
    "    * 범주 --> 숫자 : t검정, 분산분석\n",
    "    * 숫자 --> 범주 : 로지스틱 회귀모형을 통해, 회귀계수의 P.value로 검정을 수행합니다.\n",
    "* (옵션)자료에 대한 가정 검정.(정규성, 등분산성 등)"
   ]
  },
  {
   "cell_type": "code",
   "execution_count": 15,
   "outputs": [],
   "source": [
    "target = \"Attrition\"\n",
    "\n",
    "# 이직률 평균\n",
    "attrition_mean = data[target].mean()"
   ],
   "metadata": {
    "collapsed": false,
    "pycharm": {
     "name": "#%%\n"
    }
   }
  },
  {
   "cell_type": "code",
   "source": [
    "data.isna().sum()"
   ],
   "metadata": {
    "id": "tUUucWz3AuhR"
   },
   "execution_count": 13,
   "outputs": [
    {
     "data": {
      "text/plain": "Attrition                    0\nAge                          0\nDistanceFromHome            54\nGender                       0\nJobSatisfaction              0\nMaritalStatus                0\nMonthlyIncome                0\nNumCompaniesWorked          21\nOverTime                     0\nPercentSalaryHike            0\nRelationshipSatisfaction     0\nTotalWorkingYears            0\nWorkLifeBalance              0\ndtype: int64"
     },
     "execution_count": 13,
     "metadata": {},
     "output_type": "execute_result"
    }
   ]
  },
  {
   "cell_type": "markdown",
   "metadata": {
    "id": "fap08wfEMqtY"
   },
   "source": [
    "### (1) 범주형 Feature --> Target\n",
    "* 모든 범주형 Feature에 대해서 Y와 비교하여 차트를 그리고 수치화 하시오.  \n",
    "    ① 교차표(pd.crosstab())  \n",
    "    ② 시각화( Stacked Bar, Mosaic)  \n",
    "    ③ 가설검정(카이제곱검정)\n",
    "* 각 feature 별로 관계의 정도를 3가지로 정리해봅시다. "
   ]
  },
  {
   "cell_type": "markdown",
   "metadata": {
    "id": "6G2XVI7sklqQ"
   },
   "source": [
    "#### 1) Gender --> Attrtion"
   ]
  },
  {
   "cell_type": "code",
   "source": [
    "val = \"Gender\""
   ],
   "metadata": {
    "id": "EWXtZEr_X0ok"
   },
   "execution_count": 3,
   "outputs": []
  },
  {
   "cell_type": "markdown",
   "source": [
    "① 교차표(pd.crosstab())"
   ],
   "metadata": {
    "id": "sq4qjPyrXkS3"
   }
  },
  {
   "cell_type": "code",
   "source": [
    "table = pd.crosstab(data[val], data[target], normalize=\"index\")\n",
    "display(table)"
   ],
   "metadata": {
    "id": "qkS8v_BxX3Gk"
   },
   "execution_count": 19,
   "outputs": [
    {
     "data": {
      "text/plain": "Attrition         0         1\nGender                       \nFemale     0.859184  0.140816\nMale       0.827632  0.172368",
      "text/html": "<div>\n<style scoped>\n    .dataframe tbody tr th:only-of-type {\n        vertical-align: middle;\n    }\n\n    .dataframe tbody tr th {\n        vertical-align: top;\n    }\n\n    .dataframe thead th {\n        text-align: right;\n    }\n</style>\n<table border=\"1\" class=\"dataframe\">\n  <thead>\n    <tr style=\"text-align: right;\">\n      <th>Attrition</th>\n      <th>0</th>\n      <th>1</th>\n    </tr>\n    <tr>\n      <th>Gender</th>\n      <th></th>\n      <th></th>\n    </tr>\n  </thead>\n  <tbody>\n    <tr>\n      <th>Female</th>\n      <td>0.859184</td>\n      <td>0.140816</td>\n    </tr>\n    <tr>\n      <th>Male</th>\n      <td>0.827632</td>\n      <td>0.172368</td>\n    </tr>\n  </tbody>\n</table>\n</div>"
     },
     "metadata": {},
     "output_type": "display_data"
    }
   ]
  },
  {
   "cell_type": "markdown",
   "source": [
    "② 시각화( Stacked Bar, Mosaic)"
   ],
   "metadata": {
    "id": "s2QiOyPmZ1Sy"
   }
  },
  {
   "cell_type": "code",
   "source": [
    "table.plot.bar(stacked=True)\n",
    "plt.axhline(1-attrition_mean, color='r')\n",
    "plt.xticks(rotation=0)\n",
    "plt.show()"
   ],
   "metadata": {
    "id": "eLZgTrQqYciB"
   },
   "execution_count": 23,
   "outputs": [
    {
     "data": {
      "text/plain": "<Figure size 432x288 with 1 Axes>",
      "image/png": "[encoded data removed]"
     },
     "metadata": {
      "needs_background": "light"
     },
     "output_type": "display_data"
    }
   ]
  },
  {
   "cell_type": "code",
   "source": [
    "mosaic(data.sort_values([val, target]), [val, target], gap=.01)\n",
    "plt.axhline(1-attrition_mean, color='r')\n",
    "plt.show()\n"
   ],
   "metadata": {
    "id": "RVjIC6RsaQfv"
   },
   "execution_count": 26,
   "outputs": [
    {
     "data": {
      "text/plain": "<Figure size 432x288 with 3 Axes>",
      "image/png": "[encoded data removed]"
     },
     "metadata": {
      "needs_background": "light"
     },
     "output_type": "display_data"
    }
   ]
  },
  {
   "cell_type": "markdown",
   "source": [
    "시각화를 통해 파악한 내용을 적어 봅시다."
   ],
   "metadata": {
    "id": "V1pyYZ3ibCyO"
   }
  },
  {
   "cell_type": "markdown",
   "source": [
    "* 이직률과 성별에는 유의미한 차이는 보이지가 않는다\n",
    "* 다른 변수들과 합쳐서 이직률과의 연관성을 찾아보자\n",
    "*"
   ],
   "metadata": {
    "id": "ACUmG-fj_k9m",
    "pycharm": {
     "name": "#%% md\n"
    }
   }
  },
  {
   "cell_type": "markdown",
   "source": [
    "③ 가설검정(카이제곱검정)"
   ],
   "metadata": {
    "id": "8MX4b9jZbGal"
   }
  },
  {
   "cell_type": "code",
   "metadata": {
    "id": "ZIhdTgsSnE_P"
   },
   "source": [
    "table = pd.crosstab(data[val], data[target])\n",
    "\n",
    "# 카이제곱검정\n",
    "result = spst.chi2_contingency(table)\n",
    "print(f\"카이제곱통계량 : {result[0]:.5f}, p-value : {result[1]}\")"
   ],
   "execution_count": 30,
   "outputs": [
    {
     "name": "stdout",
     "output_type": "stream",
     "text": [
      "카이제곱통계량 : 1.97825, p-value : 0.15957492990528155\n"
     ]
    }
   ]
  },
  {
   "cell_type": "markdown",
   "source": [
    "④ 시각화와 가설검정을 통해서 파악한 내용을 적어 봅시다."
   ],
   "metadata": {
    "id": "wuH_fPA6bTE1"
   }
  },
  {
   "cell_type": "markdown",
   "source": [
    "* 시각화에서 확인했던것처럼 가설검정에서도 성별과 이직률에는 유의미한 차이가 보이지 않는다."
   ],
   "metadata": {
    "id": "w0z8Jopd_neN",
    "pycharm": {
     "name": "#%% md\n"
    }
   }
  },
  {
   "cell_type": "markdown",
   "metadata": {
    "id": "Dh2UW7_S-yoq"
   },
   "source": [
    "#### 2) MaritalStatus --> Attrtion"
   ]
  },
  {
   "cell_type": "code",
   "source": [
    "val = \"MaritalStatus\""
   ],
   "metadata": {
    "id": "f1VqOTCI_r5B"
   },
   "execution_count": 31,
   "outputs": []
  },
  {
   "cell_type": "markdown",
   "source": [
    "① 교차표(pd.crosstab())"
   ],
   "metadata": {
    "id": "_pZCSo7a_r5B"
   }
  },
  {
   "cell_type": "code",
   "source": [
    "table = pd.crosstab(data[val], data[target], normalize=\"index\")\n",
    "display(table)"
   ],
   "metadata": {
    "id": "cxeF94rX_r5B"
   },
   "execution_count": 32,
   "outputs": [
    {
     "data": {
      "text/plain": "Attrition             0         1\nMaritalStatus                    \nDivorced       0.916667  0.083333\nMarried        0.878947  0.121053\nSingle         0.732673  0.267327",
      "text/html": "<div>\n<style scoped>\n    .dataframe tbody tr th:only-of-type {\n        vertical-align: middle;\n    }\n\n    .dataframe tbody tr th {\n        vertical-align: top;\n    }\n\n    .dataframe thead th {\n        text-align: right;\n    }\n</style>\n<table border=\"1\" class=\"dataframe\">\n  <thead>\n    <tr style=\"text-align: right;\">\n      <th>Attrition</th>\n      <th>0</th>\n      <th>1</th>\n    </tr>\n    <tr>\n      <th>MaritalStatus</th>\n      <th></th>\n      <th></th>\n    </tr>\n  </thead>\n  <tbody>\n    <tr>\n      <th>Divorced</th>\n      <td>0.916667</td>\n      <td>0.083333</td>\n    </tr>\n    <tr>\n      <th>Married</th>\n      <td>0.878947</td>\n      <td>0.121053</td>\n    </tr>\n    <tr>\n      <th>Single</th>\n      <td>0.732673</td>\n      <td>0.267327</td>\n    </tr>\n  </tbody>\n</table>\n</div>"
     },
     "metadata": {},
     "output_type": "display_data"
    }
   ]
  },
  {
   "cell_type": "markdown",
   "source": [
    "② 시각화( Stacked Bar, Mosaic)"
   ],
   "metadata": {
    "id": "inJiW9SV_r5B"
   }
  },
  {
   "cell_type": "code",
   "source": [
    "table.plot.bar(stacked=True)\n",
    "plt.axhline(1-attrition_mean, color='r')\n",
    "plt.xticks(rotation=0)\n",
    "plt.show()"
   ],
   "metadata": {
    "id": "6kNlRTmg_r5B"
   },
   "execution_count": 33,
   "outputs": [
    {
     "data": {
      "text/plain": "<Figure size 432x288 with 1 Axes>",
      "image/png": "[encoded data removed]"
     },
     "metadata": {
      "needs_background": "light"
     },
     "output_type": "display_data"
    }
   ]
  },
  {
   "cell_type": "code",
   "source": [
    "mosaic(data.sort_values([val, target]), [val, target], gap=.01)\n",
    "plt.axhline(1-attrition_mean, color='r')\n",
    "plt.show()\n"
   ],
   "metadata": {
    "id": "Ao19t9rI_r5C"
   },
   "execution_count": 34,
   "outputs": [
    {
     "data": {
      "text/plain": "<Figure size 432x288 with 3 Axes>",
      "image/png": "[encoded data removed]"
     },
     "metadata": {
      "needs_background": "light"
     },
     "output_type": "display_data"
    }
   ]
  },
  {
   "cell_type": "markdown",
   "source": [
    "시각화를 통해 파악한 내용을 적어 봅시다."
   ],
   "metadata": {
    "id": "IERZck_i_r5C"
   }
  },
  {
   "cell_type": "markdown",
   "source": [
    "* 시각화의 결과로는 결혼상태와 이직률 사이에 관계가 있어보인다."
   ],
   "metadata": {
    "id": "8qA_MXni_r5C",
    "pycharm": {
     "name": "#%% md\n"
    }
   }
  },
  {
   "cell_type": "markdown",
   "source": [
    "③ 가설검정(카이제곱검정)"
   ],
   "metadata": {
    "id": "PHuRBzO-_r5C"
   }
  },
  {
   "cell_type": "code",
   "metadata": {
    "id": "a8M7jekD_r5C"
   },
   "source": [
    "table = pd.crosstab(data[val], data[target])\n",
    "\n",
    "# 카이제곱검정\n",
    "result = spst.chi2_contingency(table)\n",
    "print(f\"카이제곱통계량 : {result[0]:.5f}, p-value : {result[1]}\")"
   ],
   "execution_count": 35,
   "outputs": [
    {
     "name": "stdout",
     "output_type": "stream",
     "text": [
      "카이제곱통계량 : 53.12936, p-value : 2.9047385436211595e-12\n"
     ]
    }
   ]
  },
  {
   "cell_type": "markdown",
   "source": [
    "④ 시각화와 가설검정을 통해서 파악한 내용을 적어 봅시다."
   ],
   "metadata": {
    "id": "bti4jVny_r5C"
   }
  },
  {
   "cell_type": "markdown",
   "source": [
    "* 시각화에서 확인했던것처럼 가설검정에서도 결혼상태와 이직률에는 유의미한 관계가 있어 보인다.\n",
    "* 3개의 범주를 2개의 범주로 나누어서 확인"
   ],
   "metadata": {
    "id": "jhaf5V6u_r5C",
    "pycharm": {
     "name": "#%% md\n"
    }
   }
  },
  {
   "cell_type": "code",
   "execution_count": 132,
   "outputs": [
    {
     "data": {
      "text/plain": "Attrition                 0         1\nMaritalStatus_cut                    \n0                  0.807353  0.192647\n1                  0.878947  0.121053",
      "text/html": "<div>\n<style scoped>\n    .dataframe tbody tr th:only-of-type {\n        vertical-align: middle;\n    }\n\n    .dataframe tbody tr th {\n        vertical-align: top;\n    }\n\n    .dataframe thead th {\n        text-align: right;\n    }\n</style>\n<table border=\"1\" class=\"dataframe\">\n  <thead>\n    <tr style=\"text-align: right;\">\n      <th>Attrition</th>\n      <th>0</th>\n      <th>1</th>\n    </tr>\n    <tr>\n      <th>MaritalStatus_cut</th>\n      <th></th>\n      <th></th>\n    </tr>\n  </thead>\n  <tbody>\n    <tr>\n      <th>0</th>\n      <td>0.807353</td>\n      <td>0.192647</td>\n    </tr>\n    <tr>\n      <th>1</th>\n      <td>0.878947</td>\n      <td>0.121053</td>\n    </tr>\n  </tbody>\n</table>\n</div>"
     },
     "metadata": {},
     "output_type": "display_data"
    }
   ],
   "source": [
    "data[\"MaritalStatus_cut\"] = data[\"MaritalStatus\"].map({\"Single\":0, \"Divorced\":0, \"Married\":1})\n",
    "\n",
    "table = pd.crosstab(data[\"MaritalStatus_cut\"], data[target], normalize=\"index\")\n",
    "display(table)"
   ],
   "metadata": {
    "collapsed": false,
    "pycharm": {
     "name": "#%%\n"
    }
   }
  },
  {
   "cell_type": "code",
   "execution_count": 135,
   "outputs": [
    {
     "data": {
      "text/plain": "<Figure size 432x288 with 1 Axes>",
      "image/png": "[encoded data removed]"
     },
     "metadata": {
      "needs_background": "light"
     },
     "output_type": "display_data"
    },
    {
     "data": {
      "text/plain": "<Figure size 432x288 with 3 Axes>",
      "image/png": "[encoded data removed]"
     },
     "metadata": {
      "needs_background": "light"
     },
     "output_type": "display_data"
    }
   ],
   "source": [
    "table.plot.bar(stacked=True)\n",
    "plt.axhline(1-attrition_mean, color='r')\n",
    "plt.xticks(rotation=0)\n",
    "\n",
    "mosaic(data.sort_values([\"MaritalStatus_cut\", target]), [\"MaritalStatus_cut\", target], gap=.01)\n",
    "plt.axhline(1-attrition_mean, color='r')\n",
    "plt.show()"
   ],
   "metadata": {
    "collapsed": false,
    "pycharm": {
     "name": "#%%\n"
    }
   }
  },
  {
   "cell_type": "code",
   "execution_count": 136,
   "outputs": [
    {
     "name": "stdout",
     "output_type": "stream",
     "text": [
      "카이제곱통계량 : 117.68610, p-value : 4.2424877979580484e-09\n"
     ]
    }
   ],
   "source": [
    "table = pd.crosstab(data[val], data[target])\n",
    "\n",
    "# 카이제곱검정\n",
    "result = spst.chi2_contingency(table)\n",
    "print(f\"카이제곱통계량 : {result[0]:.5f}, p-value : {result[1]}\")"
   ],
   "metadata": {
    "collapsed": false,
    "pycharm": {
     "name": "#%%\n"
    }
   }
  },
  {
   "cell_type": "markdown",
   "metadata": {
    "id": "4UMjF0sTkr-4"
   },
   "source": [
    "#### 3) JobSatisfaction --> Attrtion"
   ]
  },
  {
   "cell_type": "code",
   "source": [
    "val = \"JobSatisfaction\""
   ],
   "metadata": {
    "id": "_peBfhAt_yBV"
   },
   "execution_count": 36,
   "outputs": []
  },
  {
   "cell_type": "markdown",
   "source": [
    "① 교차표(pd.crosstab())"
   ],
   "metadata": {
    "id": "_qfv5Ezt_yBV"
   }
  },
  {
   "cell_type": "code",
   "source": [
    "table = pd.crosstab(data[val], data[target], normalize=\"index\")\n",
    "display(table)"
   ],
   "metadata": {
    "id": "9yW_UhAh_yBV"
   },
   "execution_count": 37,
   "outputs": [
    {
     "data": {
      "text/plain": "Attrition               0         1\nJobSatisfaction                    \n1                0.788000  0.212000\n2                0.834043  0.165957\n3                0.836957  0.163043\n4                0.879093  0.120907",
      "text/html": "<div>\n<style scoped>\n    .dataframe tbody tr th:only-of-type {\n        vertical-align: middle;\n    }\n\n    .dataframe tbody tr th {\n        vertical-align: top;\n    }\n\n    .dataframe thead th {\n        text-align: right;\n    }\n</style>\n<table border=\"1\" class=\"dataframe\">\n  <thead>\n    <tr style=\"text-align: right;\">\n      <th>Attrition</th>\n      <th>0</th>\n      <th>1</th>\n    </tr>\n    <tr>\n      <th>JobSatisfaction</th>\n      <th></th>\n      <th></th>\n    </tr>\n  </thead>\n  <tbody>\n    <tr>\n      <th>1</th>\n      <td>0.788000</td>\n      <td>0.212000</td>\n    </tr>\n    <tr>\n      <th>2</th>\n      <td>0.834043</td>\n      <td>0.165957</td>\n    </tr>\n    <tr>\n      <th>3</th>\n      <td>0.836957</td>\n      <td>0.163043</td>\n    </tr>\n    <tr>\n      <th>4</th>\n      <td>0.879093</td>\n      <td>0.120907</td>\n    </tr>\n  </tbody>\n</table>\n</div>"
     },
     "metadata": {},
     "output_type": "display_data"
    }
   ]
  },
  {
   "cell_type": "markdown",
   "source": [
    "② 시각화( Stacked Bar, Mosaic)"
   ],
   "metadata": {
    "id": "XvueCs4A_yBV"
   }
  },
  {
   "cell_type": "code",
   "source": [
    "table.plot.bar(stacked=True)\n",
    "plt.axhline(1-attrition_mean, color='r')\n",
    "plt.xticks(rotation=0)\n",
    "plt.show()"
   ],
   "metadata": {
    "id": "80mI_jTj_yBV"
   },
   "execution_count": 38,
   "outputs": [
    {
     "data": {
      "text/plain": "<Figure size 432x288 with 1 Axes>",
      "image/png": "[encoded data removed]"
     },
     "metadata": {
      "needs_background": "light"
     },
     "output_type": "display_data"
    }
   ]
  },
  {
   "cell_type": "code",
   "source": [
    "mosaic(data.sort_values([val, target]), [val, target], gap=.01)\n",
    "plt.axhline(1-attrition_mean, color='r')\n",
    "plt.show()\n"
   ],
   "metadata": {
    "id": "FGoJyvWe_yBV"
   },
   "execution_count": 39,
   "outputs": [
    {
     "data": {
      "text/plain": "<Figure size 432x288 with 3 Axes>",
      "image/png": "[encoded data removed]"
     },
     "metadata": {
      "needs_background": "light"
     },
     "output_type": "display_data"
    }
   ]
  },
  {
   "cell_type": "markdown",
   "source": [
    "시각화를 통해 파악한 내용을 적어 봅시다."
   ],
   "metadata": {
    "id": "l19m7PVj_yBV"
   }
  },
  {
   "cell_type": "markdown",
   "source": [
    "* 만족도와 이직률에는 관계가 있어보인다.\n",
    "* 2점과 3점의 경우에는 비슷해보이므로 하나의 범주로 표현해서 확인 필요"
   ],
   "metadata": {
    "id": "Kw-ymp-A_yBV",
    "pycharm": {
     "name": "#%% md\n"
    }
   }
  },
  {
   "cell_type": "markdown",
   "source": [
    "③ 가설검정(카이제곱검정)"
   ],
   "metadata": {
    "id": "Hf0uQHFM_yBW"
   }
  },
  {
   "cell_type": "code",
   "metadata": {
    "id": "fXelPXVx_yBW"
   },
   "source": [
    "table = pd.crosstab(data[val], data[target])\n",
    "\n",
    "# 카이제곱검정\n",
    "result = spst.chi2_contingency(table)\n",
    "print(f\"카이제곱통계량 : {result[0]:.5f}, p-value : {result[1]}\")"
   ],
   "execution_count": 40,
   "outputs": [
    {
     "name": "stdout",
     "output_type": "stream",
     "text": [
      "카이제곱통계량 : 9.63151, p-value : 0.021972649369306214\n"
     ]
    }
   ]
  },
  {
   "cell_type": "markdown",
   "source": [
    "④ 시각화와 가설검정을 통해서 파악한 내용을 적어 봅시다."
   ],
   "metadata": {
    "id": "zpSXwBg5_yBW"
   }
  },
  {
   "cell_type": "markdown",
   "source": [
    "* 가설검정에서도 유의미한 관계가 있어보이지만 p-value가 0.02로 0.05에 근사하다.\n",
    "* 2점과 3점을 하나의 범주로 표현해서 확인"
   ],
   "metadata": {
    "collapsed": false,
    "pycharm": {
     "name": "#%% md\n"
    }
   }
  },
  {
   "cell_type": "code",
   "execution_count": 52,
   "outputs": [
    {
     "data": {
      "text/plain": "Attrition                   0         1\nJobSatisfaction_cut                    \n1                    0.788000  0.212000\n2_3                  0.835821  0.164179\n4                    0.879093  0.120907",
      "text/html": "<div>\n<style scoped>\n    .dataframe tbody tr th:only-of-type {\n        vertical-align: middle;\n    }\n\n    .dataframe tbody tr th {\n        vertical-align: top;\n    }\n\n    .dataframe thead th {\n        text-align: right;\n    }\n</style>\n<table border=\"1\" class=\"dataframe\">\n  <thead>\n    <tr style=\"text-align: right;\">\n      <th>Attrition</th>\n      <th>0</th>\n      <th>1</th>\n    </tr>\n    <tr>\n      <th>JobSatisfaction_cut</th>\n      <th></th>\n      <th></th>\n    </tr>\n  </thead>\n  <tbody>\n    <tr>\n      <th>1</th>\n      <td>0.788000</td>\n      <td>0.212000</td>\n    </tr>\n    <tr>\n      <th>2_3</th>\n      <td>0.835821</td>\n      <td>0.164179</td>\n    </tr>\n    <tr>\n      <th>4</th>\n      <td>0.879093</td>\n      <td>0.120907</td>\n    </tr>\n  </tbody>\n</table>\n</div>"
     },
     "metadata": {},
     "output_type": "display_data"
    },
    {
     "data": {
      "text/plain": "<Figure size 432x288 with 1 Axes>",
      "image/png": "[encoded data removed]"
     },
     "metadata": {
      "needs_background": "light"
     },
     "output_type": "display_data"
    },
    {
     "data": {
      "text/plain": "<Figure size 432x288 with 3 Axes>",
      "image/png": "[encoded data removed]"
     },
     "metadata": {
      "needs_background": "light"
     },
     "output_type": "display_data"
    }
   ],
   "source": [
    "data[val+\"_cut\"] = data[val].map({1:'1', 2:\"2_3\", 3:\"2_3\", 4:'4'})\n",
    "\n",
    "table = pd.crosstab(data[val+\"_cut\"], data[target], normalize=\"index\")\n",
    "display(table)\n",
    "\n",
    "table.plot.bar(stacked=True)\n",
    "plt.axhline(1-attrition_mean, color='r')\n",
    "plt.xticks(rotation=0)\n",
    "\n",
    "mosaic(data.sort_values([val+\"_cut\", target]), [val+\"_cut\", target], gap=.01)\n",
    "plt.axhline(1-attrition_mean, color='r')\n",
    "plt.show()"
   ],
   "metadata": {
    "collapsed": false,
    "pycharm": {
     "name": "#%%\n"
    }
   }
  },
  {
   "cell_type": "code",
   "execution_count": 50,
   "outputs": [
    {
     "name": "stdout",
     "output_type": "stream",
     "text": [
      "카이제곱통계량 : 9.62245, p-value : 0.008137869190485921\n"
     ]
    }
   ],
   "source": [
    "table = pd.crosstab(data[val+\"_cut\"], data[target])\n",
    "\n",
    "# 카이제곱검정\n",
    "result = spst.chi2_contingency(table)\n",
    "print(f\"카이제곱통계량 : {result[0]:.5f}, p-value : {result[1]}\")"
   ],
   "metadata": {
    "collapsed": false,
    "pycharm": {
     "name": "#%%\n"
    }
   }
  },
  {
   "cell_type": "markdown",
   "source": [
    "#### 4) 추가 --> Attrtion\n"
   ],
   "metadata": {
    "collapsed": false,
    "pycharm": {
     "name": "#%% md\n"
    }
   }
  },
  {
   "cell_type": "markdown",
   "source": [
    "① 교차표(pd.crosstab())"
   ],
   "metadata": {
    "id": "Gzlr35Gn_uGu"
   }
  },
  {
   "cell_type": "code",
   "source": [],
   "metadata": {
    "id": "bpIpMFKz_uGu"
   },
   "execution_count": null,
   "outputs": []
  },
  {
   "cell_type": "markdown",
   "source": [
    "② 시각화( Stacked Bar, Mosaic)"
   ],
   "metadata": {
    "id": "u67EBNmY_uGu"
   }
  },
  {
   "cell_type": "code",
   "source": [],
   "metadata": {
    "id": "9e2QLB1G_uGu"
   },
   "execution_count": null,
   "outputs": []
  },
  {
   "cell_type": "code",
   "source": [],
   "metadata": {
    "id": "PXHQx1___uGu"
   },
   "execution_count": null,
   "outputs": []
  },
  {
   "cell_type": "markdown",
   "source": [
    "시각화를 통해 파악한 내용을 적어 봅시다."
   ],
   "metadata": {
    "id": "omvAgD10_uGu"
   }
  },
  {
   "cell_type": "code",
   "source": [],
   "metadata": {
    "id": "Fv3eZvVc_uGu"
   },
   "execution_count": null,
   "outputs": []
  },
  {
   "cell_type": "markdown",
   "source": [
    "③ 가설검정(카이제곱검정)"
   ],
   "metadata": {
    "id": "Ww3mR_OJ_uGu"
   }
  },
  {
   "cell_type": "code",
   "metadata": {
    "id": "oHtFw7zA_uGu"
   },
   "source": [],
   "execution_count": null,
   "outputs": []
  },
  {
   "cell_type": "markdown",
   "source": [
    "④ 시각화와 가설검정을 통해서 파악한 내용을 적어 봅시다."
   ],
   "metadata": {
    "id": "DpJVUh3l_uGu"
   }
  },
  {
   "cell_type": "code",
   "source": [],
   "metadata": {
    "id": "omqqtq8C_uGu"
   },
   "execution_count": null,
   "outputs": []
  },
  {
   "cell_type": "markdown",
   "metadata": {
    "id": "Zjd0EqWpksaA"
   },
   "source": [
    "#### 5) 추가 --> Attrtion"
   ]
  },
  {
   "cell_type": "code",
   "source": [],
   "metadata": {
    "id": "yz2_8_od_1N4"
   },
   "execution_count": null,
   "outputs": []
  },
  {
   "cell_type": "markdown",
   "source": [
    "① 교차표(pd.crosstab())"
   ],
   "metadata": {
    "id": "pQ05lItH_1N5"
   }
  },
  {
   "cell_type": "code",
   "source": [],
   "metadata": {
    "id": "lv9KVmrf_1N5"
   },
   "execution_count": null,
   "outputs": []
  },
  {
   "cell_type": "markdown",
   "source": [
    "② 시각화( Stacked Bar, Mosaic)"
   ],
   "metadata": {
    "id": "8JAjFECb_1N5"
   }
  },
  {
   "cell_type": "code",
   "source": [],
   "metadata": {
    "id": "9oAj4ZPB_1N5"
   },
   "execution_count": null,
   "outputs": []
  },
  {
   "cell_type": "code",
   "source": [],
   "metadata": {
    "id": "To3NEnG0_1N5"
   },
   "execution_count": null,
   "outputs": []
  },
  {
   "cell_type": "markdown",
   "source": [
    "시각화를 통해 파악한 내용을 적어 봅시다."
   ],
   "metadata": {
    "id": "KLD26aUA_1N5"
   }
  },
  {
   "cell_type": "code",
   "source": [],
   "metadata": {
    "id": "kTejP1wY_1N5"
   },
   "execution_count": null,
   "outputs": []
  },
  {
   "cell_type": "markdown",
   "source": [
    "③ 가설검정(카이제곱검정)"
   ],
   "metadata": {
    "id": "f-sbmHkW_1N5"
   }
  },
  {
   "cell_type": "code",
   "metadata": {
    "id": "u4L9_1dv_1N5"
   },
   "source": [],
   "execution_count": null,
   "outputs": []
  },
  {
   "cell_type": "markdown",
   "source": [
    "④ 시각화와 가설검정을 통해서 파악한 내용을 적어 봅시다."
   ],
   "metadata": {
    "id": "OV7RqnWo_1N5"
   }
  },
  {
   "cell_type": "code",
   "source": [],
   "metadata": {
    "id": "MjtFsq9I_1N5"
   },
   "execution_count": null,
   "outputs": []
  },
  {
   "cell_type": "markdown",
   "metadata": {
    "id": "lUsQ0iBHMqte"
   },
   "source": [
    "### (2) 숫자형 Feature --> target\n",
    "\n",
    "* 숫자형 Feature에 대해서 Y와 비교하여 차트를 그리고 수치화 하시오.  \n",
    "    ① 그래프 : histogram, densityplot   \n",
    "    ② 수치화 : 로지스틱회귀"
   ]
  },
  {
   "cell_type": "markdown",
   "metadata": {
    "id": "F_Mugk3f_y3X"
   },
   "source": [
    "#### 1) Age --> Attrtion\n"
   ]
  },
  {
   "cell_type": "code",
   "source": [
    "val = \"Age\""
   ],
   "metadata": {
    "id": "8ROLKtUueHSn"
   },
   "execution_count": 116,
   "outputs": []
  },
  {
   "cell_type": "markdown",
   "source": [
    "① 그래프 : histogram, densityplot"
   ],
   "metadata": {
    "id": "iZwchGY8eRH_"
   }
  },
  {
   "cell_type": "code",
   "metadata": {
    "id": "Kdch3Zm-Mqtg"
   },
   "source": [
    "sns.histplot(data=data, x=val, hue=target, multiple=\"fill\", bins=20)\n",
    "plt.axhline(attrition_mean, color='r')\n",
    "plt.show()"
   ],
   "execution_count": 117,
   "outputs": [
    {
     "data": {
      "text/plain": "<Figure size 432x288 with 1 Axes>",
      "image/png": "[encoded data removed]"
     },
     "metadata": {
      "needs_background": "light"
     },
     "output_type": "display_data"
    }
   ]
  },
  {
   "cell_type": "code",
   "source": [
    "sns.kdeplot(data=data, x=val, hue=target, common_norm=False)\n",
    "plt.show()"
   ],
   "metadata": {
    "id": "NFpqDUZEemhq"
   },
   "execution_count": 118,
   "outputs": [
    {
     "data": {
      "text/plain": "<Figure size 432x288 with 1 Axes>",
      "image/png": "[encoded data removed]"
     },
     "metadata": {
      "needs_background": "light"
     },
     "output_type": "display_data"
    }
   ]
  },
  {
   "cell_type": "markdown",
   "source": [
    "시각화를 통해 파악한 내용을 적어 봅시다."
   ],
   "metadata": {
    "id": "62LpmfYBfADw"
   }
  },
  {
   "cell_type": "markdown",
   "source": [
    "* 약 30대 전후로 이직률의 차이가 있다\n",
    "* 두개의 범주(30대 전, 30대 후)로 표현해서 확인"
   ],
   "metadata": {
    "id": "rPbprP0NfADx"
   }
  },
  {
   "cell_type": "markdown",
   "source": [
    "② 수치화 : 로지스틱회귀"
   ],
   "metadata": {
    "id": "AMOh1uw2fVoO"
   }
  },
  {
   "cell_type": "code",
   "metadata": {
    "id": "B-kCeQE5G_NU"
   },
   "source": [
    "model = sm.Logit(data[target], data[val])\n",
    "result = model.fit()\n",
    "print(result.pvalues)"
   ],
   "execution_count": 119,
   "outputs": [
    {
     "name": "stdout",
     "output_type": "stream",
     "text": [
      "Optimization terminated successfully.\n",
      "         Current function value: 0.424660\n",
      "         Iterations 5\n",
      "Age    4.667821e-100\n",
      "dtype: float64\n"
     ]
    }
   ]
  },
  {
   "cell_type": "markdown",
   "source": [
    "③ 시각화와 수치화를 통해 파악한 내용을 적어 봅시다."
   ],
   "metadata": {
    "id": "1QGY11sufcJ1"
   }
  },
  {
   "cell_type": "markdown",
   "source": [
    "* 나이와 이직률간의 상관은 있어보인다.\n",
    "* 30대 전후로 이직률의 차이가 있으므로 두개의 범주 혹은 적당한 구간으로 나누어서 확인"
   ],
   "metadata": {
    "collapsed": false,
    "pycharm": {
     "name": "#%% md\n"
    }
   }
  },
  {
   "cell_type": "code",
   "execution_count": 126,
   "outputs": [],
   "source": [
    "data[\"Age_cut\"] = pd.cut(data[val], bins=[0, 30, np.inf], labels=[\"under_30\", \"over_30\"], right=False)"
   ],
   "metadata": {
    "collapsed": false,
    "pycharm": {
     "name": "#%%\n"
    }
   }
  },
  {
   "cell_type": "code",
   "execution_count": 129,
   "outputs": [
    {
     "data": {
      "text/plain": "<Figure size 432x288 with 1 Axes>",
      "image/png": "[encoded data removed]"
     },
     "metadata": {
      "needs_background": "light"
     },
     "output_type": "display_data"
    },
    {
     "data": {
      "text/plain": "<Figure size 432x288 with 3 Axes>",
      "image/png": "[encoded data removed]"
     },
     "metadata": {
      "needs_background": "light"
     },
     "output_type": "display_data"
    }
   ],
   "source": [
    "table = pd.crosstab(data[\"Age_cut\"], data[target], normalize=\"index\")\n",
    "\n",
    "table.plot.bar(stacked=True)\n",
    "plt.axhline(1-attrition_mean, color='r')\n",
    "plt.xticks(rotation=0)\n",
    "\n",
    "mosaic(data.sort_values([val+\"_cut\", target]), [val+\"_cut\", target], gap=.01)\n",
    "plt.axhline(1-attrition_mean, color='r')\n",
    "plt.show()"
   ],
   "metadata": {
    "collapsed": false,
    "pycharm": {
     "name": "#%%\n"
    }
   }
  },
  {
   "cell_type": "code",
   "execution_count": 130,
   "outputs": [
    {
     "name": "stdout",
     "output_type": "stream",
     "text": [
      "카이제곱통계량 : 44.22553, p-value : 2.9263977577460336e-11\n"
     ]
    }
   ],
   "source": [
    "table = pd.crosstab(data[\"Age_cut\"], data[target])\n",
    "\n",
    "# 카이제곱검정\n",
    "result = spst.chi2_contingency(table)\n",
    "print(f\"카이제곱통계량 : {result[0]:.5f}, p-value : {result[1]}\")"
   ],
   "metadata": {
    "collapsed": false,
    "pycharm": {
     "name": "#%%\n"
    }
   }
  },
  {
   "cell_type": "markdown",
   "metadata": {
    "id": "UVjP9xEt2pVn"
   },
   "source": [
    "#### 2) DistanceFromHome --> Attrtion\n"
   ]
  },
  {
   "cell_type": "code",
   "source": [
    "val = \"DistanceFromHome\""
   ],
   "metadata": {
    "id": "2cSWvoFm2pVn"
   },
   "execution_count": 72,
   "outputs": []
  },
  {
   "cell_type": "markdown",
   "source": [
    "① 그래프 : histogram, densityplot"
   ],
   "metadata": {
    "id": "12AvE3o22pVn"
   }
  },
  {
   "cell_type": "markdown",
   "source": [
    "* 결측치가 존재하긴하나 0.04%로 중요성이 낮아보인다.\n",
    "* 혹은 근무지와 거리가 너무 가까워 미입력 가능성이 있다"
   ],
   "metadata": {
    "id": "aXAopTJo2pVo",
    "pycharm": {
     "name": "#%% md\n"
    }
   }
  },
  {
   "cell_type": "code",
   "execution_count": 86,
   "outputs": [
    {
     "data": {
      "text/plain": "<Figure size 432x288 with 1 Axes>",
      "image/png": "[encoded data removed]"
     },
     "metadata": {
      "needs_background": "light"
     },
     "output_type": "display_data"
    }
   ],
   "source": [
    "sns.histplot(data=data, x=val, hue=target, multiple=\"fill\", bins=20)\n",
    "plt.axhline(attrition_mean, color='r')\n",
    "plt.show()"
   ],
   "metadata": {
    "collapsed": false,
    "pycharm": {
     "name": "#%%\n"
    }
   }
  },
  {
   "cell_type": "code",
   "execution_count": 79,
   "outputs": [
    {
     "data": {
      "text/plain": "<Figure size 432x288 with 1 Axes>",
      "image/png": "[encoded data removed]"
     },
     "metadata": {
      "needs_background": "light"
     },
     "output_type": "display_data"
    }
   ],
   "source": [
    "sns.kdeplot(data=data, x=val, hue=target, common_norm=False)\n",
    "plt.show()"
   ],
   "metadata": {
    "collapsed": false,
    "pycharm": {
     "name": "#%%\n"
    }
   }
  },
  {
   "cell_type": "markdown",
   "source": [
    "시각화를 통해 파악한 내용을 적어 봅시다."
   ],
   "metadata": {
    "id": "dPYSWkrN2pVo"
   }
  },
  {
   "cell_type": "markdown",
   "source": [
    "* 특정 거리에서부터 이직률이 증가한다.\n",
    "* 거리를 구간별로 나누어서 이직률을 확인"
   ],
   "metadata": {
    "collapsed": false,
    "pycharm": {
     "name": "#%% md\n"
    }
   }
  },
  {
   "cell_type": "markdown",
   "source": [
    ">"
   ],
   "metadata": {
    "id": "2B7I0LWz2pVo"
   }
  },
  {
   "cell_type": "markdown",
   "source": [
    "② 수치화 : 로지스틱회귀"
   ],
   "metadata": {
    "id": "HTZsXn1O2pVo"
   }
  },
  {
   "cell_type": "code",
   "execution_count": 96,
   "outputs": [
    {
     "name": "stdout",
     "output_type": "stream",
     "text": [
      "결측치수: 54\n",
      "결측치비율: 0.0432\n"
     ]
    }
   ],
   "source": [
    "print(\"결측치수:\", data[val].isna().sum())\n",
    "print(\"결측치비율:\", data[val].isna().sum()/len(data))"
   ],
   "metadata": {
    "collapsed": false,
    "pycharm": {
     "name": "#%%\n"
    }
   }
  },
  {
   "cell_type": "code",
   "execution_count": 94,
   "outputs": [
    {
     "name": "stdout",
     "output_type": "stream",
     "text": [
      "2.0     178\n",
      "1.0     163\n",
      "10.0     72\n",
      "7.0      69\n",
      "8.0      68\n",
      "Name: DistanceFromHome, dtype: int64\n"
     ]
    }
   ],
   "source": [
    "# 최대빈도\n",
    "print(data[val].value_counts().head())"
   ],
   "metadata": {
    "collapsed": false,
    "pycharm": {
     "name": "#%%\n"
    }
   }
  },
  {
   "cell_type": "code",
   "execution_count": 89,
   "outputs": [
    {
     "data": {
      "text/plain": "<Figure size 432x288 with 1 Axes>",
      "image/png": "[encoded data removed]"
     },
     "metadata": {
      "needs_background": "light"
     },
     "output_type": "display_data"
    }
   ],
   "source": [
    "sns.histplot(data=data, x=val)\n",
    "plt.show()"
   ],
   "metadata": {
    "collapsed": false,
    "pycharm": {
     "name": "#%%\n"
    }
   }
  },
  {
   "cell_type": "code",
   "execution_count": 105,
   "outputs": [
    {
     "name": "stdout",
     "output_type": "stream",
     "text": [
      "2.0\n"
     ]
    }
   ],
   "source": [
    "print(data[val].value_counts().index[0])"
   ],
   "metadata": {
    "collapsed": false,
    "pycharm": {
     "name": "#%%\n"
    }
   }
  },
  {
   "cell_type": "code",
   "metadata": {
    "id": "DkhOHKkE2pVo"
   },
   "source": [
    "data[\"fill_dist\"] = data[val].fillna(data[val].value_counts().index[0])\n",
    "\n",
    "model = sm.Logit(data[target], data[\"fill_dist\"])\n",
    "result = model.fit()\n",
    "print(result.pvalues)"
   ],
   "execution_count": 106,
   "outputs": [
    {
     "name": "stdout",
     "output_type": "stream",
     "text": [
      "Optimization terminated successfully.\n",
      "         Current function value: 0.570787\n",
      "         Iterations 6\n",
      "fill_dist    4.999779e-45\n",
      "dtype: float64\n"
     ]
    }
   ]
  },
  {
   "cell_type": "markdown",
   "source": [
    "③ 시각화와 수치화를 통해 파악한 내용을 적어 봅시다."
   ],
   "metadata": {
    "id": "UQqPhZwj2pVp"
   }
  },
  {
   "cell_type": "markdown",
   "source": [
    "* 거리와 이직률간의 관계는 유의미하다고 볼수 있다."
   ],
   "metadata": {
    "collapsed": false,
    "pycharm": {
     "name": "#%% md\n"
    }
   }
  },
  {
   "cell_type": "code",
   "execution_count": 139,
   "outputs": [
    {
     "data": {
      "text/plain": "<Figure size 432x288 with 1 Axes>",
      "image/png": "[encoded data removed]"
     },
     "metadata": {
      "needs_background": "light"
     },
     "output_type": "display_data"
    },
    {
     "data": {
      "text/plain": "<Figure size 432x288 with 3 Axes>",
      "image/png": "[encoded data removed]"
     },
     "metadata": {
      "needs_background": "light"
     },
     "output_type": "display_data"
    }
   ],
   "source": [
    "data[\"Dist_cut\"] = pd.cut(data[\"fill_dist\"], bins=[0, 10, np.inf], labels=[\"under_10\", \"over_10\"], right=True)\n",
    "\n",
    "table = pd.crosstab(data[\"Dist_cut\"], data[target], normalize=\"index\")\n",
    "\n",
    "table.plot.bar(stacked=True)\n",
    "plt.axhline(1-attrition_mean, color='r')\n",
    "plt.xticks(rotation=0)\n",
    "\n",
    "mosaic(data.sort_values([\"Dist_cut\", target]), [\"Dist_cut\", target], gap=.01)\n",
    "plt.axhline(1-attrition_mean, color='r')\n",
    "plt.show()"
   ],
   "metadata": {
    "collapsed": false,
    "pycharm": {
     "name": "#%%\n"
    }
   }
  },
  {
   "cell_type": "code",
   "execution_count": 140,
   "outputs": [
    {
     "name": "stdout",
     "output_type": "stream",
     "text": [
      "카이제곱통계량 : 12.04459, p-value : 0.0005194294623315527\n"
     ]
    }
   ],
   "source": [
    "table = pd.crosstab(data[\"Dist_cut\"], data[target])\n",
    "\n",
    "# 카이제곱검정\n",
    "result = spst.chi2_contingency(table)\n",
    "print(f\"카이제곱통계량 : {result[0]:.5f}, p-value : {result[1]}\")"
   ],
   "metadata": {
    "collapsed": false,
    "pycharm": {
     "name": "#%%\n"
    }
   }
  },
  {
   "cell_type": "markdown",
   "source": [
    "> "
   ],
   "metadata": {
    "id": "1tHzXavD2pVp"
   }
  },
  {
   "cell_type": "markdown",
   "metadata": {
    "id": "CfOiGI1D2pne"
   },
   "source": [
    "#### 3) MonthlyIncome --> Attrtion\n"
   ]
  },
  {
   "cell_type": "code",
   "source": [
    "val = \"MonthlyIncome\""
   ],
   "metadata": {
    "id": "bWI2_CoG2pne"
   },
   "execution_count": 107,
   "outputs": []
  },
  {
   "cell_type": "markdown",
   "source": [
    "① 그래프 : histogram, densityplot"
   ],
   "metadata": {
    "id": "46AmWboJ2pne"
   }
  },
  {
   "cell_type": "code",
   "metadata": {
    "id": "iTC2a2xk2pnf"
   },
   "source": [
    "sns.histplot(data=data, x=val, hue=target, multiple=\"fill\")\n",
    "plt.axhline(attrition_mean, color='r')\n",
    "plt.show()"
   ],
   "execution_count": 113,
   "outputs": [
    {
     "data": {
      "text/plain": "<Figure size 432x288 with 1 Axes>",
      "image/png": "[encoded data removed]"
     },
     "metadata": {
      "needs_background": "light"
     },
     "output_type": "display_data"
    }
   ]
  },
  {
   "cell_type": "code",
   "source": [
    "sns.kdeplot(data=data, x=val, hue=target, common_norm=False)\n",
    "plt.show()"
   ],
   "metadata": {
    "id": "Ad2R9A4Z2pnf"
   },
   "execution_count": 114,
   "outputs": [
    {
     "data": {
      "text/plain": "<Figure size 432x288 with 1 Axes>",
      "image/png": "[encoded data removed]"
     },
     "metadata": {
      "needs_background": "light"
     },
     "output_type": "display_data"
    }
   ]
  },
  {
   "cell_type": "markdown",
   "source": [
    "시각화를 통해 파악한 내용을 적어 봅시다."
   ],
   "metadata": {
    "id": "Qswvfv372pnf"
   }
  },
  {
   "cell_type": "markdown",
   "source": [
    "*"
   ],
   "metadata": {
    "collapsed": false,
    "pycharm": {
     "name": "#%% md\n"
    }
   }
  },
  {
   "cell_type": "markdown",
   "source": [],
   "metadata": {
    "id": "ttreuzSW2pnf"
   }
  },
  {
   "cell_type": "markdown",
   "source": [
    "② 수치화 : 로지스틱회귀"
   ],
   "metadata": {
    "id": "nrtejCDB2pnf"
   }
  },
  {
   "cell_type": "code",
   "metadata": {
    "id": "_Aq9dIe-2pnf"
   },
   "source": [
    "model = sm.Logit(data[target], data[val])\n",
    "result = model.fit()\n",
    "print(result.pvalues)"
   ],
   "execution_count": 115,
   "outputs": [
    {
     "name": "stdout",
     "output_type": "stream",
     "text": [
      "Optimization terminated successfully.\n",
      "         Current function value: 0.437401\n",
      "         Iterations 6\n",
      "MonthlyIncome    1.922717e-71\n",
      "dtype: float64\n"
     ]
    }
   ]
  },
  {
   "cell_type": "markdown",
   "source": [
    "③ 시각화와 수치화를 통해 파악한 내용을 적어 봅시다."
   ],
   "metadata": {
    "id": "l3VRFhdD2pnf"
   }
  },
  {
   "cell_type": "markdown",
   "source": [
    "> "
   ],
   "metadata": {
    "id": "lk-gTxwk2pnf"
   }
  },
  {
   "cell_type": "markdown",
   "metadata": {
    "id": "W_wzSRR82p1f"
   },
   "source": [
    "#### 4) 추가 --> Attrtion\n"
   ]
  },
  {
   "cell_type": "code",
   "source": [
    ""
   ],
   "metadata": {
    "id": "s6kzewGh2p1f"
   },
   "execution_count": null,
   "outputs": []
  },
  {
   "cell_type": "markdown",
   "source": [
    "① 그래프 : histogram, densityplot"
   ],
   "metadata": {
    "id": "0h1E36sG2p1f"
   }
  },
  {
   "cell_type": "code",
   "metadata": {
    "id": "_EyuwzeE2p1f"
   },
   "source": [
    ""
   ],
   "execution_count": null,
   "outputs": []
  },
  {
   "cell_type": "code",
   "source": [
    ""
   ],
   "metadata": {
    "id": "Kw8Nb0C72p1g"
   },
   "execution_count": null,
   "outputs": []
  },
  {
   "cell_type": "markdown",
   "source": [
    "시각화를 통해 파악한 내용을 적어 봅시다."
   ],
   "metadata": {
    "id": "kyF7aCjY2p1g"
   }
  },
  {
   "cell_type": "markdown",
   "source": [
    "> "
   ],
   "metadata": {
    "id": "A3OZqp9A2p1g"
   }
  },
  {
   "cell_type": "markdown",
   "source": [
    "② 수치화 : 로지스틱회귀"
   ],
   "metadata": {
    "id": "Gpjug1LU2p1g"
   }
  },
  {
   "cell_type": "code",
   "metadata": {
    "id": "J2RBmJAR2p1g"
   },
   "source": [
    ""
   ],
   "execution_count": null,
   "outputs": []
  },
  {
   "cell_type": "markdown",
   "source": [
    "③ 시각화와 수치화를 통해 파악한 내용을 적어 봅시다."
   ],
   "metadata": {
    "id": "C_g0cSJl2p1g"
   }
  },
  {
   "cell_type": "markdown",
   "source": [
    "> "
   ],
   "metadata": {
    "id": "X8jmmdm32p1g"
   }
  },
  {
   "cell_type": "markdown",
   "metadata": {
    "id": "aJfiHGOb2qB_"
   },
   "source": [
    "#### 5) 추가 --> Attrtion\n"
   ]
  },
  {
   "cell_type": "code",
   "source": [
    ""
   ],
   "metadata": {
    "id": "0y_8Yyoe2qB_"
   },
   "execution_count": null,
   "outputs": []
  },
  {
   "cell_type": "markdown",
   "source": [
    "① 그래프 : histogram, densityplot"
   ],
   "metadata": {
    "id": "oGKgQW3Q2qB_"
   }
  },
  {
   "cell_type": "code",
   "metadata": {
    "id": "8rHB8iIC2qB_"
   },
   "source": [
    ""
   ],
   "execution_count": null,
   "outputs": []
  },
  {
   "cell_type": "code",
   "source": [
    ""
   ],
   "metadata": {
    "id": "KPC9nQGS2qCA"
   },
   "execution_count": null,
   "outputs": []
  },
  {
   "cell_type": "markdown",
   "source": [
    "시각화를 통해 파악한 내용을 적어 봅시다."
   ],
   "metadata": {
    "id": "fNqxSdnr2qCA"
   }
  },
  {
   "cell_type": "markdown",
   "source": [
    "> "
   ],
   "metadata": {
    "id": "IdXBqrXw2qCA"
   }
  },
  {
   "cell_type": "markdown",
   "source": [
    "② 수치화 : 로지스틱회귀"
   ],
   "metadata": {
    "id": "HH7WBkZE2qCA"
   }
  },
  {
   "cell_type": "code",
   "metadata": {
    "id": "jxjACJ9a2qCA"
   },
   "source": [
    ""
   ],
   "execution_count": null,
   "outputs": []
  },
  {
   "cell_type": "markdown",
   "source": [
    "③ 시각화와 수치화를 통해 파악한 내용을 적어 봅시다."
   ],
   "metadata": {
    "id": "G89J0Yaq2qCA"
   }
  },
  {
   "cell_type": "markdown",
   "source": [
    "> "
   ],
   "metadata": {
    "id": "PCxgO05-2qCA"
   }
  },
  {
   "cell_type": "markdown",
   "metadata": {
    "id": "Jd4WbbU-jqU3"
   },
   "source": [
    "## 4.관계 정리"
   ]
  },
  {
   "cell_type": "markdown",
   "source": [
    "### 1) 강한관계의 변수"
   ],
   "metadata": {
    "id": "bKmN0rtAjto6"
   }
  },
  {
   "cell_type": "markdown",
   "source": [
    ""
   ],
   "metadata": {
    "id": "BgUuHiHbjw62"
   }
  },
  {
   "cell_type": "markdown",
   "source": [
    "### 2) 중간관계의 변수"
   ],
   "metadata": {
    "id": "u8B765zNjwp5"
   }
  },
  {
   "cell_type": "markdown",
   "source": [
    ""
   ],
   "metadata": {
    "id": "k9CJjmAljwjd"
   }
  },
  {
   "cell_type": "markdown",
   "source": [
    "### 3) (거의)관계 없음"
   ],
   "metadata": {
    "id": "eYiQ9OUijwdq"
   }
  },
  {
   "cell_type": "markdown",
   "source": [
    ""
   ],
   "metadata": {
    "id": "v0qkBnp3jwbE"
   }
  },
  {
   "cell_type": "markdown",
   "source": [
    "## 5. 추가 분석"
   ],
   "metadata": {
    "id": "nePF6KE6jlX6"
   }
  },
  {
   "cell_type": "markdown",
   "source": [
    "### 1) 분석1"
   ],
   "metadata": {
    "id": "n3TawkJa80MB"
   }
  },
  {
   "cell_type": "code",
   "source": [
    ""
   ],
   "metadata": {
    "id": "B8E9F24bkYTn"
   },
   "execution_count": null,
   "outputs": []
  },
  {
   "cell_type": "markdown",
   "source": [
    "### 2) 분석2"
   ],
   "metadata": {
    "id": "ZxRa_rYw869b"
   }
  },
  {
   "cell_type": "code",
   "source": [
    ""
   ],
   "metadata": {
    "id": "bv6Eork-869b"
   },
   "execution_count": null,
   "outputs": []
  },
  {
   "cell_type": "markdown",
   "source": [
    "### 3) 분석3"
   ],
   "metadata": {
    "id": "x_dkfWX587X8"
   }
  },
  {
   "cell_type": "code",
   "source": [
    ""
   ],
   "metadata": {
    "id": "ktSpzSW_87X8"
   },
   "execution_count": null,
   "outputs": []
  },
  {
   "cell_type": "markdown",
   "source": [
    "### 4) 분석4"
   ],
   "metadata": {
    "id": "FRUYtxdI87hu"
   }
  },
  {
   "cell_type": "code",
   "source": [
    ""
   ],
   "metadata": {
    "id": "-i_3n-It87hu"
   },
   "execution_count": null,
   "outputs": []
  }
 ]
}