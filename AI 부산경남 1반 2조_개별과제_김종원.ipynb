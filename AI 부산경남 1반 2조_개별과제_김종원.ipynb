{
 "cells": [
  {
   "cell_type": "markdown",
   "metadata": {},
   "source": [
    "**작성자** : 김종원 / **작성일자** : 2022.02.17"
   ]
  },
  {
   "cell_type": "markdown",
   "metadata": {
    "id": "mTt7qGUTCcFs"
   },
   "source": [
    "# 과제1. 직원 이직 분석"
   ]
  },
  {
   "cell_type": "markdown",
   "metadata": {
    "id": "t42CZ_o2iHvT"
   },
   "source": [
    "* 회사 인사팀에서는 AIVLER 들에게 직원의 이직여부과 관련해서 분석을 요청하였습니다.\n",
    "* 최근 이직율이 증가하는 것에 대해 우려를 갖고 있기에, 이직여부에 영향을 주는 요인에 대해 분석하여, 직원들이 회사를 떠나지 않도록 인사 프로그램을 준비하려고 합니다.\n",
    "* 필요하다면, 검색을 통해 '직원이 회사를 떠나는 이유' 등을 찾아보는 것은 데이터 분석을 하는데 도움이 될 것입니다.\n",
    "* 자, 이제 인사팀에서 제공한 데이터를 바탕으로 각각 개별 변수의 분포를 살펴보며, 비즈니스 인사이트를 최대한 도출해 봅시다.\n"
   ]
  },
  {
   "cell_type": "markdown",
   "metadata": {
    "id": "0wuYJKZHjA3d"
   },
   "source": [
    "![](https://adoptostaging.blob.core.windows.net/media/employee-attrition-reasons-9LIqMv.jpg)"
   ]
  },
  {
   "cell_type": "markdown",
   "metadata": {
    "id": "AHmt88Q5EVsj"
   },
   "source": [
    "## 0.환경설정"
   ]
  },
  {
   "cell_type": "markdown",
   "metadata": {
    "id": "KnzVh2LmkLDU"
   },
   "source": [
    "### 1) 라이브러리 로딩"
   ]
  },
  {
   "cell_type": "code",
   "execution_count": 5,
   "metadata": {
    "id": "3rsQerEaELwI"
   },
   "outputs": [],
   "source": [
    "import pandas as pd\n",
    "import numpy as np\n",
    "import matplotlib.pyplot as plt\n",
    "import seaborn as sns\n",
    "\n",
    "from statsmodels.graphics.mosaicplot import mosaic\n",
    "from scipy import stats as spst\n",
    "import statsmodels.api as sm"
   ]
  },
  {
   "cell_type": "code",
   "execution_count": 6,
   "metadata": {},
   "outputs": [],
   "source": [
    "import platform\n",
    "import seaborn as sns \n",
    "from matplotlib import font_manager, rc \n",
    "\n",
    "path = \"C:/Windows/Fonts/malgun.ttf\"\n",
    "\n",
    "if platform.system() == \"Darwin\":\n",
    "    rc(\"font\", family=\"Arial Unicode MS\")\n",
    "elif platform.system() == \"Windows\":\n",
    "    font_name = font_manager.FontProperties(fname=path).get_name()\n",
    "    rc(\"font\", family=font_name)\n",
    "else:\n",
    "    print(\"Unknown system. sorry\")"
   ]
  },
  {
   "cell_type": "markdown",
   "metadata": {
    "id": "5Qh5KYWokO_N"
   },
   "source": [
    "### 2) 데이터 로딩"
   ]
  },
  {
   "cell_type": "code",
   "execution_count": 7,
   "metadata": {
    "id": "Bw5yZwT0MJKx"
   },
   "outputs": [
    {
     "data": {
      "text/html": [
       "<div>\n",
       "<style scoped>\n",
       "    .dataframe tbody tr th:only-of-type {\n",
       "        vertical-align: middle;\n",
       "    }\n",
       "\n",
       "    .dataframe tbody tr th {\n",
       "        vertical-align: top;\n",
       "    }\n",
       "\n",
       "    .dataframe thead th {\n",
       "        text-align: right;\n",
       "    }\n",
       "</style>\n",
       "<table border=\"1\" class=\"dataframe\">\n",
       "  <thead>\n",
       "    <tr style=\"text-align: right;\">\n",
       "      <th></th>\n",
       "      <th>Attrition</th>\n",
       "      <th>Age</th>\n",
       "      <th>DistanceFromHome</th>\n",
       "      <th>Gender</th>\n",
       "      <th>JobSatisfaction</th>\n",
       "      <th>MaritalStatus</th>\n",
       "      <th>MonthlyIncome</th>\n",
       "      <th>NumCompaniesWorked</th>\n",
       "      <th>OverTime</th>\n",
       "      <th>PercentSalaryHike</th>\n",
       "      <th>RelationshipSatisfaction</th>\n",
       "      <th>TotalWorkingYears</th>\n",
       "      <th>WorkLifeBalance</th>\n",
       "    </tr>\n",
       "  </thead>\n",
       "  <tbody>\n",
       "    <tr>\n",
       "      <th>0</th>\n",
       "      <td>0</td>\n",
       "      <td>33</td>\n",
       "      <td>7.0</td>\n",
       "      <td>Male</td>\n",
       "      <td>3</td>\n",
       "      <td>Married</td>\n",
       "      <td>11691</td>\n",
       "      <td>0.0</td>\n",
       "      <td>No</td>\n",
       "      <td>11</td>\n",
       "      <td>4</td>\n",
       "      <td>14</td>\n",
       "      <td>4</td>\n",
       "    </tr>\n",
       "    <tr>\n",
       "      <th>1</th>\n",
       "      <td>0</td>\n",
       "      <td>35</td>\n",
       "      <td>18.0</td>\n",
       "      <td>Male</td>\n",
       "      <td>4</td>\n",
       "      <td>Single</td>\n",
       "      <td>9362</td>\n",
       "      <td>2.0</td>\n",
       "      <td>No</td>\n",
       "      <td>11</td>\n",
       "      <td>3</td>\n",
       "      <td>10</td>\n",
       "      <td>3</td>\n",
       "    </tr>\n",
       "    <tr>\n",
       "      <th>2</th>\n",
       "      <td>0</td>\n",
       "      <td>42</td>\n",
       "      <td>6.0</td>\n",
       "      <td>Male</td>\n",
       "      <td>1</td>\n",
       "      <td>Married</td>\n",
       "      <td>13348</td>\n",
       "      <td>9.0</td>\n",
       "      <td>No</td>\n",
       "      <td>13</td>\n",
       "      <td>2</td>\n",
       "      <td>18</td>\n",
       "      <td>4</td>\n",
       "    </tr>\n",
       "    <tr>\n",
       "      <th>3</th>\n",
       "      <td>0</td>\n",
       "      <td>46</td>\n",
       "      <td>2.0</td>\n",
       "      <td>Female</td>\n",
       "      <td>1</td>\n",
       "      <td>Married</td>\n",
       "      <td>17048</td>\n",
       "      <td>8.0</td>\n",
       "      <td>No</td>\n",
       "      <td>23</td>\n",
       "      <td>1</td>\n",
       "      <td>28</td>\n",
       "      <td>3</td>\n",
       "    </tr>\n",
       "    <tr>\n",
       "      <th>4</th>\n",
       "      <td>0</td>\n",
       "      <td>39</td>\n",
       "      <td>NaN</td>\n",
       "      <td>Male</td>\n",
       "      <td>4</td>\n",
       "      <td>Divorced</td>\n",
       "      <td>4127</td>\n",
       "      <td>2.0</td>\n",
       "      <td>No</td>\n",
       "      <td>18</td>\n",
       "      <td>4</td>\n",
       "      <td>7</td>\n",
       "      <td>3</td>\n",
       "    </tr>\n",
       "    <tr>\n",
       "      <th>5</th>\n",
       "      <td>1</td>\n",
       "      <td>22</td>\n",
       "      <td>4.0</td>\n",
       "      <td>Male</td>\n",
       "      <td>3</td>\n",
       "      <td>Single</td>\n",
       "      <td>3894</td>\n",
       "      <td>5.0</td>\n",
       "      <td>No</td>\n",
       "      <td>16</td>\n",
       "      <td>3</td>\n",
       "      <td>4</td>\n",
       "      <td>3</td>\n",
       "    </tr>\n",
       "    <tr>\n",
       "      <th>6</th>\n",
       "      <td>0</td>\n",
       "      <td>24</td>\n",
       "      <td>21.0</td>\n",
       "      <td>Male</td>\n",
       "      <td>1</td>\n",
       "      <td>Divorced</td>\n",
       "      <td>2296</td>\n",
       "      <td>0.0</td>\n",
       "      <td>No</td>\n",
       "      <td>14</td>\n",
       "      <td>2</td>\n",
       "      <td>2</td>\n",
       "      <td>3</td>\n",
       "    </tr>\n",
       "    <tr>\n",
       "      <th>7</th>\n",
       "      <td>0</td>\n",
       "      <td>34</td>\n",
       "      <td>8.0</td>\n",
       "      <td>Male</td>\n",
       "      <td>3</td>\n",
       "      <td>Married</td>\n",
       "      <td>4404</td>\n",
       "      <td>2.0</td>\n",
       "      <td>No</td>\n",
       "      <td>12</td>\n",
       "      <td>1</td>\n",
       "      <td>6</td>\n",
       "      <td>4</td>\n",
       "    </tr>\n",
       "    <tr>\n",
       "      <th>8</th>\n",
       "      <td>0</td>\n",
       "      <td>30</td>\n",
       "      <td>20.0</td>\n",
       "      <td>Male</td>\n",
       "      <td>1</td>\n",
       "      <td>Married</td>\n",
       "      <td>9957</td>\n",
       "      <td>0.0</td>\n",
       "      <td>No</td>\n",
       "      <td>15</td>\n",
       "      <td>3</td>\n",
       "      <td>7</td>\n",
       "      <td>2</td>\n",
       "    </tr>\n",
       "    <tr>\n",
       "      <th>9</th>\n",
       "      <td>0</td>\n",
       "      <td>26</td>\n",
       "      <td>6.0</td>\n",
       "      <td>Female</td>\n",
       "      <td>4</td>\n",
       "      <td>Married</td>\n",
       "      <td>2659</td>\n",
       "      <td>1.0</td>\n",
       "      <td>Yes</td>\n",
       "      <td>13</td>\n",
       "      <td>3</td>\n",
       "      <td>3</td>\n",
       "      <td>3</td>\n",
       "    </tr>\n",
       "  </tbody>\n",
       "</table>\n",
       "</div>"
      ],
      "text/plain": [
       "   Attrition  Age  DistanceFromHome  Gender  JobSatisfaction MaritalStatus  \\\n",
       "0          0   33               7.0    Male                3       Married   \n",
       "1          0   35              18.0    Male                4        Single   \n",
       "2          0   42               6.0    Male                1       Married   \n",
       "3          0   46               2.0  Female                1       Married   \n",
       "4          0   39               NaN    Male                4      Divorced   \n",
       "5          1   22               4.0    Male                3        Single   \n",
       "6          0   24              21.0    Male                1      Divorced   \n",
       "7          0   34               8.0    Male                3       Married   \n",
       "8          0   30              20.0    Male                1       Married   \n",
       "9          0   26               6.0  Female                4       Married   \n",
       "\n",
       "   MonthlyIncome  NumCompaniesWorked OverTime  PercentSalaryHike  \\\n",
       "0          11691                 0.0       No                 11   \n",
       "1           9362                 2.0       No                 11   \n",
       "2          13348                 9.0       No                 13   \n",
       "3          17048                 8.0       No                 23   \n",
       "4           4127                 2.0       No                 18   \n",
       "5           3894                 5.0       No                 16   \n",
       "6           2296                 0.0       No                 14   \n",
       "7           4404                 2.0       No                 12   \n",
       "8           9957                 0.0       No                 15   \n",
       "9           2659                 1.0      Yes                 13   \n",
       "\n",
       "   RelationshipSatisfaction  TotalWorkingYears  WorkLifeBalance  \n",
       "0                         4                 14                4  \n",
       "1                         3                 10                3  \n",
       "2                         2                 18                4  \n",
       "3                         1                 28                3  \n",
       "4                         4                  7                3  \n",
       "5                         3                  4                3  \n",
       "6                         2                  2                3  \n",
       "7                         1                  6                4  \n",
       "8                         3                  7                2  \n",
       "9                         3                  3                3  "
      ]
     },
     "execution_count": 7,
     "metadata": {},
     "output_type": "execute_result"
    }
   ],
   "source": [
    "# data data\n",
    "path = \"https://raw.githubusercontent.com/DA4BAM/dataset/master/Attrition_NA.CSV\"\n",
    "data = pd.read_csv(path)\n",
    "data.drop(['EducationField', 'Education','JobInvolvement', 'StockOptionLevel', 'BusinessTravel','YearsWithCurrManager'\n",
    ",'YearsInCurrentRole','JobRole', 'Department','EmployeeNumber','EnvironmentSatisfaction','TrainingTimesLastYear','YearsAtCompany']\n",
    "          , axis = 1, inplace = True)\n",
    "data['Attrition'] = np.where(data['Attrition']=='Yes', 1, 0)\n",
    "data.head(10)"
   ]
  },
  {
   "cell_type": "markdown",
   "metadata": {
    "id": "v50TP8BhMJKx"
   },
   "source": [
    "|\t구분\t|\t변수 명\t|\t내용\t|\ttype\t|\t비고\t|\n",
    "|\t----\t|\t----\t|\t----\t|\t----\t|\t----\t|\n",
    "|\t**Target**\t|\t**Attrition**\t|\t이직여부, Yes , No\t|\t범주\t| 1- 이직, 0- 잔류\t\t|\n",
    "|\tfeature\t|\tAge\t|\t나이\t|\t숫자\t|\t\t|\n",
    "|\tfeature\t|\tDistanceFromHome\t|\t집-직장 거리\t|\t숫자\t|\t마일\t|\n",
    "|\tfeature\t|\tGender\t|\t성별\t|\t범주\t| Male, Female\t\t|\n",
    "|\tfeature\t|\tJobSatisfaction\t|\t직무 만족도\t|\t범주\t|\t1 Low, 2 Medium, 3 High, 4 Very High\t|\n",
    "|\tfeature\t|\tMaritalStatus\t|\t결혼상태\t|\t범주\t| Single, Married, Divorced\t\t|\n",
    "|\tfeature\t|\tMonthlyIncome\t|\t월급\t|\t숫자\t| 달러\t|\n",
    "|\tfeature\t|\tNumCompaniesWorked\t|\t입사 전 근무한 회사 수\t|\t숫자\t|\t0 - 우리회사가 첫 직장\t|\n",
    "|\tfeature\t|\tRelationshipSatisfaction\t|\t동료와의 관계\t|\t범주\t| 1 Low, 2 Medium, 3 High, 4 Very High\t\t|\n",
    "|\tfeature\t|\tOverTime\t|\t야근여부\t|\t범주\t|\tYes, No\t|\n",
    "|\tfeature\t|\tPercentSalaryHike\t|\t전년대비 급여인상율\t|\t숫자\t|\t%\t|\n",
    "|\tfeature\t|\tTotalWorkingYears\t|\t총 경력 연수\t|\t숫자\t|\t\t|\n",
    "|\tfeature\t|\tWorkLifeBalance\t|\t워라밸. 일-삶 균형도\t|\t범주\t|\t1 Bad, 2 Good, 3 Better, 4 Best\t|"
   ]
  },
  {
   "cell_type": "markdown",
   "metadata": {
    "id": "bKimk8qVm8oC"
   },
   "source": [
    "----"
   ]
  },
  {
   "cell_type": "markdown",
   "metadata": {
    "id": "0bouXLxGkSSd"
   },
   "source": [
    "## 1.가설수립"
   ]
  },
  {
   "cell_type": "markdown",
   "metadata": {
    "id": "nb3mes75kUSt"
   },
   "source": [
    "* 여기서는 가설을 생략합니다."
   ]
  },
  {
   "cell_type": "markdown",
   "metadata": {
    "id": "82xzJIZhnAaX"
   },
   "source": [
    "----"
   ]
  },
  {
   "cell_type": "markdown",
   "metadata": {
    "id": "1hYPpnplEedX"
   },
   "source": [
    "## 2.단변량 분석\n",
    "\n",
    "① 변수의 비즈니스 의미  \n",
    "\n",
    "② 숫자? 범주?  \n",
    "\n",
    "③ NaN 존재 여부 및 조치 방안  \n",
    "\n",
    "④ 기초통계량  \n",
    "\n",
    "⑤ 분포  \n",
    "\n",
    "⑥ 위 정보로부터 파악한 내용(비즈니스!) 정리  \n",
    "\n",
    "⑦ 추가 분석해볼 사항 도출"
   ]
  },
  {
   "cell_type": "markdown",
   "metadata": {
    "id": "ZghJJ7yLEpDA"
   },
   "source": [
    "## 3.이변량 분석 \n",
    "* 자료의 종류에 맞게 X --> Y 에 대해서 그래프(시각화)와 가설검정(수치화)를 수행하고 결과를 평가합니다.\n",
    "* 가설검정시 다음의 항목을 참조하여 수행합니다.\n",
    "    * 유의수준 : 5%\n",
    "    * 숫자 --> 숫자 : 상관분석\n",
    "    * 범주 --> 범주 : 카이제곱검정\n",
    "    * 범주 --> 숫자 : t검정, 분산분석\n",
    "    * 숫자 --> 범주 : 로지스틱 회귀모형을 통해, 회귀계수의 P.value로 검정을 수행합니다.\n",
    "* (옵션)자료에 대한 가정 검정.(정규성, 등분산성 등)"
   ]
  },
  {
   "cell_type": "code",
   "execution_count": null,
   "metadata": {
    "id": "tUUucWz3AuhR"
   },
   "outputs": [],
   "source": []
  },
  {
   "cell_type": "markdown",
   "metadata": {
    "id": "fap08wfEMqtY"
   },
   "source": [
    "### (1) 범주형 Feature --> Target\n",
    "* 모든 범주형 Feature에 대해서 Y와 비교하여 차트를 그리고 수치화 하시오.  \n",
    "    ① 교차표(pd.crosstab())  \n",
    "    ② 시각화( Stacked Bar, Mosaic)  \n",
    "    ③ 가설검정(카이제곱검정)\n",
    "* 각 feature 별로 관계의 정도를 3가지로 정리해봅시다. "
   ]
  },
  {
   "cell_type": "markdown",
   "metadata": {
    "id": "6G2XVI7sklqQ"
   },
   "source": [
    "#### 1) Gender --> Attrtion"
   ]
  },
  {
   "cell_type": "code",
   "execution_count": 8,
   "metadata": {
    "id": "EWXtZEr_X0ok"
   },
   "outputs": [],
   "source": [
    "feature = 'Gender'"
   ]
  },
  {
   "cell_type": "markdown",
   "metadata": {
    "id": "sq4qjPyrXkS3"
   },
   "source": [
    "① 교차표(pd.crosstab())"
   ]
  },
  {
   "cell_type": "code",
   "execution_count": 9,
   "metadata": {
    "id": "qkS8v_BxX3Gk"
   },
   "outputs": [
    {
     "data": {
      "text/html": [
       "<div>\n",
       "<style scoped>\n",
       "    .dataframe tbody tr th:only-of-type {\n",
       "        vertical-align: middle;\n",
       "    }\n",
       "\n",
       "    .dataframe tbody tr th {\n",
       "        vertical-align: top;\n",
       "    }\n",
       "\n",
       "    .dataframe thead th {\n",
       "        text-align: right;\n",
       "    }\n",
       "</style>\n",
       "<table border=\"1\" class=\"dataframe\">\n",
       "  <thead>\n",
       "    <tr style=\"text-align: right;\">\n",
       "      <th>Gender</th>\n",
       "      <th>Female</th>\n",
       "      <th>Male</th>\n",
       "    </tr>\n",
       "    <tr>\n",
       "      <th>Attrition</th>\n",
       "      <th></th>\n",
       "      <th></th>\n",
       "    </tr>\n",
       "  </thead>\n",
       "  <tbody>\n",
       "    <tr>\n",
       "      <th>0</th>\n",
       "      <td>0.859184</td>\n",
       "      <td>0.827632</td>\n",
       "    </tr>\n",
       "    <tr>\n",
       "      <th>1</th>\n",
       "      <td>0.140816</td>\n",
       "      <td>0.172368</td>\n",
       "    </tr>\n",
       "  </tbody>\n",
       "</table>\n",
       "</div>"
      ],
      "text/plain": [
       "Gender       Female      Male\n",
       "Attrition                    \n",
       "0          0.859184  0.827632\n",
       "1          0.140816  0.172368"
      ]
     },
     "metadata": {},
     "output_type": "display_data"
    }
   ],
   "source": [
    "table = pd.crosstab(data[\"Attrition\"],data[feature], normalize=\"columns\")\n",
    "display(table)"
   ]
  },
  {
   "cell_type": "markdown",
   "metadata": {
    "id": "s2QiOyPmZ1Sy"
   },
   "source": [
    "② 시각화( Stacked Bar, Mosaic)"
   ]
  },
  {
   "cell_type": "code",
   "execution_count": 10,
   "metadata": {
    "id": "eLZgTrQqYciB"
   },
   "outputs": [
    {
     "data": {
      "image/png": "[encoded data removed]",
      "text/plain": [
       "<Figure size 432x288 with 1 Axes>"
      ]
     },
     "metadata": {
      "needs_background": "light"
     },
     "output_type": "display_data"
    }
   ],
   "source": [
    "table = pd.crosstab(data[feature], data[\"Attrition\"], normalize = 'index')\n",
    "table.plot.barh(stacked=True)\n",
    "plt.axvline(1-data['Attrition'].mean(), color = 'r')\n",
    "plt.title(\"성별에 따라 이직여부\",size= 18)\n",
    "plt.legend(labels= [f\"평균 이직률 {data['Attrition'].mean():.2f}\",'이직X','이직O'],\n",
    "           bbox_to_anchor=(1, 0.6))\n",
    "plt.show()"
   ]
  },
  {
   "cell_type": "code",
   "execution_count": 11,
   "metadata": {
    "id": "RVjIC6RsaQfv"
   },
   "outputs": [
    {
     "data": {
      "image/png": "[encoded data removed]",
      "text/plain": [
       "<Figure size 432x288 with 3 Axes>"
      ]
     },
     "metadata": {
      "needs_background": "light"
     },
     "output_type": "display_data"
    }
   ],
   "source": [
    "# 모자익 그래프의 색상 설정.\n",
    "props = {}\n",
    "props[('Female', '1')] = {'color': 'xkcd:orange'}\n",
    "props[('Female','0')] = {'color': 'xkcd:light orange'}\n",
    "props[('Male', '1')] = {'color': 'xkcd:orange'}\n",
    "props[('Male','0')] = {'color': 'xkcd:light orange'}\n",
    "\n",
    "\n",
    "mosaic(data.sort_values([feature,'Attrition'],\n",
    "       ascending=[False,True]), \n",
    "       [feature,'Attrition'],\n",
    "       gap=0.01,\n",
    "       title='성별에 따라 이직여부',\n",
    "       properties=props, \n",
    "       horizontal=False , \n",
    "       axes_label=True\n",
    "      )\n",
    "\n",
    "plt.axvline(1- data['Attrition'].mean(), color = 'r')\n",
    "plt.legend([f\"평균 이직률 {data['Attrition'].mean() * 100:.0f}%\"], bbox_to_anchor=(1.4, 0.5))\n",
    "\n",
    "plt.show()"
   ]
  },
  {
   "cell_type": "markdown",
   "metadata": {
    "id": "V1pyYZ3ibCyO"
   },
   "source": [
    "시각화를 통해 파악한 내용을 적어 봅시다."
   ]
  },
  {
   "cell_type": "markdown",
   "metadata": {
    "id": "ACUmG-fj_k9m"
   },
   "source": [
    "* 1차 분석 결과\n",
    "\n",
    "    성비에 따라 이직여부는 큰 차이로 보이지 않는다. 하지만 여성이 남성에 비해 상대적으로 이직을 하지 않는 것을 알 수 있다."
   ]
  },
  {
   "cell_type": "markdown",
   "metadata": {
    "id": "8MX4b9jZbGal"
   },
   "source": [
    "③ 가설검정(카이제곱검정)"
   ]
  },
  {
   "cell_type": "code",
   "execution_count": 12,
   "metadata": {
    "id": "ZIhdTgsSnE_P"
   },
   "outputs": [
    {
     "name": "stdout",
     "output_type": "stream",
     "text": [
      "카이제곱통계량 1.97825  p-value : 0.15957492990528155\n"
     ]
    }
   ],
   "source": [
    "table = pd.crosstab(data[\"Attrition\"],data[feature])\n",
    "\n",
    "# 카이제곱검정\n",
    "result = spst.chi2_contingency(table)\n",
    "print(f'카이제곱통계량 {result[0]:.5f}  p-value : {result[1]}')"
   ]
  },
  {
   "cell_type": "markdown",
   "metadata": {},
   "source": [
    "* 2차 분석 결과\n",
    "    \n",
    "    p_value(유의확률)이 유의수준 5%보다 크기에 대립가설인 성별에 따라 이직 여부의 차이가 있다 라는 가설을 기각하고 귀무가설인 성별에 따라 이직 여부의 차이가 없다. 라는 가설을 채택합니다."
   ]
  },
  {
   "cell_type": "markdown",
   "metadata": {
    "id": "wuH_fPA6bTE1"
   },
   "source": [
    "④ 시각화와 가설검정을 통해서 파악한 내용을 적어 봅시다."
   ]
  },
  {
   "cell_type": "markdown",
   "metadata": {
    "id": "w0z8Jopd_neN"
   },
   "source": [
    "* 최종 3차 분석 결과\n",
    "    \n",
    "    성별에 따라 이직여부의 차이가 있다. 라는 가설이 카이제곱 통계량에 p_value로 인해 기각되었고, 시각화된 결과를 보았을때도 성별에 따라 이직여부의 차이가 크게 발생하지 않기에 성별에 따라 이직여부는 차이가 없다 라고 도출하였습니다."
   ]
  },
  {
   "cell_type": "markdown",
   "metadata": {
    "id": "Dh2UW7_S-yoq"
   },
   "source": [
    "#### 2) MaritalStatus --> Attrtion"
   ]
  },
  {
   "cell_type": "code",
   "execution_count": 13,
   "metadata": {
    "id": "f1VqOTCI_r5B"
   },
   "outputs": [],
   "source": [
    "feature = 'MaritalStatus'"
   ]
  },
  {
   "cell_type": "markdown",
   "metadata": {
    "id": "_pZCSo7a_r5B"
   },
   "source": [
    "① 교차표(pd.crosstab())"
   ]
  },
  {
   "cell_type": "code",
   "execution_count": 14,
   "metadata": {
    "id": "cxeF94rX_r5B"
   },
   "outputs": [
    {
     "data": {
      "text/html": [
       "<div>\n",
       "<style scoped>\n",
       "    .dataframe tbody tr th:only-of-type {\n",
       "        vertical-align: middle;\n",
       "    }\n",
       "\n",
       "    .dataframe tbody tr th {\n",
       "        vertical-align: top;\n",
       "    }\n",
       "\n",
       "    .dataframe thead th {\n",
       "        text-align: right;\n",
       "    }\n",
       "</style>\n",
       "<table border=\"1\" class=\"dataframe\">\n",
       "  <thead>\n",
       "    <tr style=\"text-align: right;\">\n",
       "      <th>MaritalStatus</th>\n",
       "      <th>Divorced</th>\n",
       "      <th>Married</th>\n",
       "      <th>Single</th>\n",
       "    </tr>\n",
       "    <tr>\n",
       "      <th>Attrition</th>\n",
       "      <th></th>\n",
       "      <th></th>\n",
       "      <th></th>\n",
       "    </tr>\n",
       "  </thead>\n",
       "  <tbody>\n",
       "    <tr>\n",
       "      <th>0</th>\n",
       "      <td>0.916667</td>\n",
       "      <td>0.878947</td>\n",
       "      <td>0.732673</td>\n",
       "    </tr>\n",
       "    <tr>\n",
       "      <th>1</th>\n",
       "      <td>0.083333</td>\n",
       "      <td>0.121053</td>\n",
       "      <td>0.267327</td>\n",
       "    </tr>\n",
       "  </tbody>\n",
       "</table>\n",
       "</div>"
      ],
      "text/plain": [
       "MaritalStatus  Divorced   Married    Single\n",
       "Attrition                                  \n",
       "0              0.916667  0.878947  0.732673\n",
       "1              0.083333  0.121053  0.267327"
      ]
     },
     "metadata": {},
     "output_type": "display_data"
    }
   ],
   "source": [
    "table = pd.crosstab(data[\"Attrition\"],data[feature], normalize=\"columns\")\n",
    "display(table)"
   ]
  },
  {
   "cell_type": "markdown",
   "metadata": {
    "id": "inJiW9SV_r5B"
   },
   "source": [
    "② 시각화( Stacked Bar, Mosaic)"
   ]
  },
  {
   "cell_type": "code",
   "execution_count": 15,
   "metadata": {
    "id": "6kNlRTmg_r5B"
   },
   "outputs": [
    {
     "data": {
      "image/png": "[encoded data removed]",
      "text/plain": [
       "<Figure size 432x288 with 1 Axes>"
      ]
     },
     "metadata": {
      "needs_background": "light"
     },
     "output_type": "display_data"
    }
   ],
   "source": [
    "table = pd.crosstab(data[feature], data[\"Attrition\"], normalize = 'index')\n",
    "table.plot.barh(stacked=True)\n",
    "plt.axvline(1-data['Attrition'].mean(), color = 'r')\n",
    "plt.title(\"결혼상태 따라 이직여부\",size= 18)\n",
    "plt.legend(labels= [f\"평균 이직률 {data['Attrition'].mean():.2f}\",'이직X','이직O'],\n",
    "           bbox_to_anchor=(1, 0.6))\n",
    "plt.show()"
   ]
  },
  {
   "cell_type": "code",
   "execution_count": 16,
   "metadata": {
    "id": "Ao19t9rI_r5C"
   },
   "outputs": [
    {
     "data": {
      "image/png": "[encoded data removed]",
      "text/plain": [
       "<Figure size 432x288 with 3 Axes>"
      ]
     },
     "metadata": {
      "needs_background": "light"
     },
     "output_type": "display_data"
    }
   ],
   "source": [
    "# 모자익 그래프의 색상 설정.\n",
    "props = {}\n",
    "props[('Single', '1')] = {'color': 'xkcd:orange'}\n",
    "props[('Single','0')] = {'color': 'xkcd:light orange'}\n",
    "props[('Married', '1')] = {'color': 'xkcd:orange'}\n",
    "props[('Married','0')] = {'color': 'xkcd:light orange'}\n",
    "props[('Divorced', '1')] = {'color': 'xkcd:orange'}\n",
    "props[('Divorced','0')] = {'color': 'xkcd:light orange'}\n",
    "\n",
    "mosaic(data.sort_values([feature,'Attrition'],\n",
    "       ascending=[True,True]), \n",
    "       [feature,'Attrition'],\n",
    "       gap=0.01,\n",
    "       title='성별에 따라 이직여부',\n",
    "       properties=props, \n",
    "       horizontal=False , \n",
    "       axes_label=True\n",
    "      )\n",
    "\n",
    "plt.axvline(1- data['Attrition'].mean(), color = 'r')\n",
    "\n",
    "plt.legend([f\"평균  이직률 {data['Attrition'].mean() * 100:.0f}%\"], bbox_to_anchor=(1.4, 0.5))\n",
    "plt.show()"
   ]
  },
  {
   "cell_type": "markdown",
   "metadata": {
    "id": "IERZck_i_r5C"
   },
   "source": [
    "시각화를 통해 파악한 내용을 적어 봅시다."
   ]
  },
  {
   "cell_type": "markdown",
   "metadata": {
    "id": "8qA_MXni_r5C"
   },
   "source": [
    "* 1차 분석 결과\n",
    "\n",
    "    싱글일때 이직을 많이하고 결혼했을때 이직율이 평균에 비해 떨어지며 이혼을 하였을때는 이직율이 결혼한 상태에 비해 떨어지는 것으로 보여진다.\n",
    "\n",
    "    이것으로 결혼상태에 따라 이직여부가 차이가 있는것으로 보여진다. 하지만 눈으로 본 결과이기에 통계적검증을 통해 수치화된 결과로 결혼 상태에 따라 이직여부가 차이가 발생하는 것인지 파악하도록 하겠습니다.\n",
    "    \n",
    "    "
   ]
  },
  {
   "cell_type": "markdown",
   "metadata": {
    "id": "PHuRBzO-_r5C"
   },
   "source": [
    "③ 가설검정(카이제곱검정)"
   ]
  },
  {
   "cell_type": "code",
   "execution_count": 17,
   "metadata": {
    "id": "a8M7jekD_r5C"
   },
   "outputs": [
    {
     "name": "stdout",
     "output_type": "stream",
     "text": [
      "카이제곱통계량 53.12936  p-value : 2.9047385436211595e-12\n"
     ]
    }
   ],
   "source": [
    "table = pd.crosstab(data[\"Attrition\"],data[feature])\n",
    "\n",
    "# 카이제곱검정\n",
    "result = spst.chi2_contingency(table)\n",
    "print(f'카이제곱통계량 {result[0]:.5f}  p-value : {result[1]}')"
   ]
  },
  {
   "cell_type": "markdown",
   "metadata": {
    "id": "jhaf5V6u_r5C"
   },
   "source": [
    "* 2차 분석 결과\n",
    "    \n",
    "    p_value(유의 확률)가 유의수준 0.05보다 작기에 귀무가설을 기각하고 대립가설인 \"결혼 상태에 따른 이직 여부에 차이가 있다\"라는 가설을 채택합니다."
   ]
  },
  {
   "cell_type": "markdown",
   "metadata": {
    "id": "bti4jVny_r5C"
   },
   "source": [
    "④ 시각화와 가설검정을 통해서 파악한 내용을 적어 봅시다."
   ]
  },
  {
   "cell_type": "markdown",
   "metadata": {},
   "source": [
    "* 최종 3차 분석 결과\n",
    "    \n",
    "   결혼상태에 따라 이직여부의 차이가 있다. 라는 가설이 통계적 검증을 통해 p_value가 유의수준 0.05 보다 작기에 귀무가설을 기각하고 대립가설인 \"결혼 상태에 따른 이직 여부에 차이가 있다\" 라는 대립가설을 채택하였기에, `결혼상태가 이직여부에 영향을 끼친다는 분석 결과를 도출할 수 있겠습니다.`"
   ]
  },
  {
   "cell_type": "markdown",
   "metadata": {
    "id": "4UMjF0sTkr-4"
   },
   "source": [
    "#### 3) JobSatisfaction --> Attrtion"
   ]
  },
  {
   "cell_type": "code",
   "execution_count": 18,
   "metadata": {
    "id": "_peBfhAt_yBV"
   },
   "outputs": [],
   "source": [
    "feature = 'JobSatisfaction'"
   ]
  },
  {
   "cell_type": "markdown",
   "metadata": {
    "id": "_qfv5Ezt_yBV"
   },
   "source": [
    "① 교차표(pd.crosstab())"
   ]
  },
  {
   "cell_type": "code",
   "execution_count": 19,
   "metadata": {
    "id": "9yW_UhAh_yBV"
   },
   "outputs": [
    {
     "data": {
      "text/html": [
       "<div>\n",
       "<style scoped>\n",
       "    .dataframe tbody tr th:only-of-type {\n",
       "        vertical-align: middle;\n",
       "    }\n",
       "\n",
       "    .dataframe tbody tr th {\n",
       "        vertical-align: top;\n",
       "    }\n",
       "\n",
       "    .dataframe thead th {\n",
       "        text-align: right;\n",
       "    }\n",
       "</style>\n",
       "<table border=\"1\" class=\"dataframe\">\n",
       "  <thead>\n",
       "    <tr style=\"text-align: right;\">\n",
       "      <th>JobSatisfaction</th>\n",
       "      <th>1</th>\n",
       "      <th>2</th>\n",
       "      <th>3</th>\n",
       "      <th>4</th>\n",
       "    </tr>\n",
       "    <tr>\n",
       "      <th>Attrition</th>\n",
       "      <th></th>\n",
       "      <th></th>\n",
       "      <th></th>\n",
       "      <th></th>\n",
       "    </tr>\n",
       "  </thead>\n",
       "  <tbody>\n",
       "    <tr>\n",
       "      <th>0</th>\n",
       "      <td>0.788</td>\n",
       "      <td>0.834043</td>\n",
       "      <td>0.836957</td>\n",
       "      <td>0.879093</td>\n",
       "    </tr>\n",
       "    <tr>\n",
       "      <th>1</th>\n",
       "      <td>0.212</td>\n",
       "      <td>0.165957</td>\n",
       "      <td>0.163043</td>\n",
       "      <td>0.120907</td>\n",
       "    </tr>\n",
       "  </tbody>\n",
       "</table>\n",
       "</div>"
      ],
      "text/plain": [
       "JobSatisfaction      1         2         3         4\n",
       "Attrition                                           \n",
       "0                0.788  0.834043  0.836957  0.879093\n",
       "1                0.212  0.165957  0.163043  0.120907"
      ]
     },
     "metadata": {},
     "output_type": "display_data"
    }
   ],
   "source": [
    "table = pd.crosstab(data[\"Attrition\"],data[feature], normalize=\"columns\")\n",
    "display(table)"
   ]
  },
  {
   "cell_type": "markdown",
   "metadata": {
    "id": "XvueCs4A_yBV"
   },
   "source": [
    "② 시각화( Stacked Bar, Mosaic)"
   ]
  },
  {
   "cell_type": "markdown",
   "metadata": {},
   "source": [
    "* Stacked Bar"
   ]
  },
  {
   "cell_type": "code",
   "execution_count": 20,
   "metadata": {
    "id": "80mI_jTj_yBV"
   },
   "outputs": [
    {
     "data": {
      "image/png": "[encoded data removed]",
      "text/plain": [
       "<Figure size 432x288 with 1 Axes>"
      ]
     },
     "metadata": {
      "needs_background": "light"
     },
     "output_type": "display_data"
    }
   ],
   "source": [
    "table = pd.crosstab(data[feature], data[\"Attrition\"], normalize = 'index')\n",
    "table.plot.barh(stacked=True)\n",
    "plt.axvline(1-data['Attrition'].mean(), color = 'r')\n",
    "plt.title(\"직무 만족도에 따라 이직여부\",size= 18)\n",
    "plt.legend(labels= [f\"평균만족도 {data['Attrition'].mean():.2f}\",'이직X','이직O'],\n",
    "           bbox_to_anchor=(1, 0.6))\n",
    "plt.show()"
   ]
  },
  {
   "cell_type": "markdown",
   "metadata": {
    "id": "FGoJyvWe_yBV"
   },
   "source": [
    "* Mosaic"
   ]
  },
  {
   "cell_type": "code",
   "execution_count": 21,
   "metadata": {},
   "outputs": [
    {
     "data": {
      "image/png": "[encoded data removed]",
      "text/plain": [
       "<Figure size 432x288 with 3 Axes>"
      ]
     },
     "metadata": {
      "needs_background": "light"
     },
     "output_type": "display_data"
    }
   ],
   "source": [
    "# 모자익 그래프의 색상 설정.\n",
    "props = {}\n",
    "props[('1', '1')] = {'color': 'xkcd:orange'}\n",
    "props[('1','0')] = {'color': 'xkcd:light orange'}\n",
    "props[('2', '1')] = {'color': 'xkcd:orange'}\n",
    "props[('2','0')] = {'color': 'xkcd:light orange'}\n",
    "props[('3', '1')] = {'color': 'xkcd:orange'}\n",
    "props[('3','0')] = {'color': 'xkcd:light orange'}\n",
    "props[('4', '1')] = {'color': 'xkcd:orange'}\n",
    "props[('4','0')] = {'color': 'xkcd:light orange'}\n",
    "\n",
    "mosaic(data.sort_values([feature,'Attrition'],\n",
    "       ascending=[False,True]), \n",
    "       [feature,'Attrition'],\n",
    "       gap=0.01,\n",
    "       title='직무 만족도에 따라 이직여부',\n",
    "       properties=props, \n",
    "       horizontal=False , \n",
    "       axes_label=True\n",
    "      )\n",
    "\n",
    "plt.axvline(1- data['Attrition'].mean(), color = 'r')\n",
    "\n",
    "plt.legend([f\"평균  이직률 {data['Attrition'].mean() * 100:.0f}%\"], bbox_to_anchor=(1.4, 0.5))\n",
    "plt.show()"
   ]
  },
  {
   "cell_type": "markdown",
   "metadata": {
    "id": "l19m7PVj_yBV"
   },
   "source": [
    "시각화를 통해 파악한 내용을 적어 봅시다."
   ]
  },
  {
   "cell_type": "markdown",
   "metadata": {
    "id": "Kw-ymp-A_yBV"
   },
   "source": [
    "* 1차 분석 결과\n",
    "\n",
    "    만족도가 1일때 이직여부가 평균 이직률보다 크고, 만족도가 4일때 평균 이직률 보다 작다. 하지만 만족도 2와 3은 평균이직률과 유사하다. 이를 통해 직무 만족도에 따라 이직여부의 차이가 있는 것으로 판단되고, 만족도 2와 3인경우 평균 이직률이 비슷하기에 두개의 값을 하나로 묶어서 표현하는게 좋아보입니다.\n",
    "    "
   ]
  },
  {
   "cell_type": "markdown",
   "metadata": {
    "id": "Hf0uQHFM_yBW"
   },
   "source": [
    "③ 가설검정(카이제곱검정)"
   ]
  },
  {
   "cell_type": "code",
   "execution_count": 22,
   "metadata": {
    "id": "fXelPXVx_yBW"
   },
   "outputs": [
    {
     "name": "stdout",
     "output_type": "stream",
     "text": [
      "카이제곱통계량 9.63151  p-value : 0.021972649369306214\n"
     ]
    }
   ],
   "source": [
    "table = pd.crosstab(data[\"Attrition\"],data[feature])\n",
    "\n",
    "# 카이제곱검정\n",
    "result = spst.chi2_contingency(table)\n",
    "print(f'카이제곱통계량 {result[0]:.5f}  p-value : {result[1]}')"
   ]
  },
  {
   "cell_type": "markdown",
   "metadata": {},
   "source": [
    "* 2차 분석 결과\n",
    "\n",
    "    p_value(유의 확률)가 유의수준 0.05보다 작기에 귀무가설을 기각하고 대립가설인 \"직무 만족도에 따른 이직 여부에 차이가 있다\" 가설을 채택하지만, 큰 차이가 있다고 보여지지 않기에, 바로 1차 분석 결과에서 도출된 정보를 가지고 데이터를 그룹핑을 하고자 합니다."
   ]
  },
  {
   "cell_type": "markdown",
   "metadata": {},
   "source": [
    "* 추가분석\n",
    "    1. 데이터 그룹핑\n",
    "    2. 이변량 분석"
   ]
  },
  {
   "cell_type": "code",
   "execution_count": 24,
   "metadata": {},
   "outputs": [],
   "source": [
    "data.loc[data[feature] ==1, \"JobSatisfaction_grop\"] = 1\n",
    "data.loc[data[feature] ==2, \"JobSatisfaction_grop\"] = 2\n",
    "data.loc[data[feature] ==3, \"JobSatisfaction_grop\"] = 2\n",
    "data.loc[data[feature] ==4, \"JobSatisfaction_grop\"] = 3"
   ]
  },
  {
   "cell_type": "code",
   "execution_count": 25,
   "metadata": {},
   "outputs": [
    {
     "data": {
      "text/plain": [
       "0"
      ]
     },
     "execution_count": 25,
     "metadata": {},
     "output_type": "execute_result"
    }
   ],
   "source": [
    "data[\"JobSatisfaction_grop\"].isnull().sum()"
   ]
  },
  {
   "cell_type": "markdown",
   "metadata": {},
   "source": [
    "* 시각화\n",
    "    \n",
    "    - Mosaic"
   ]
  },
  {
   "cell_type": "code",
   "execution_count": 27,
   "metadata": {},
   "outputs": [
    {
     "data": {
      "image/png": "[encoded data removed]",
      "text/plain": [
       "<Figure size 432x288 with 3 Axes>"
      ]
     },
     "metadata": {
      "needs_background": "light"
     },
     "output_type": "display_data"
    }
   ],
   "source": [
    "# 모자익 그래프의 색상 설정.\n",
    "feature = \"JobSatisfaction_grop\"\n",
    "props = {}\n",
    "props[('1.0', '1')] = {'color': 'xkcd:orange'}\n",
    "props[('1.0','0')] = {'color': 'xkcd:light orange'}\n",
    "props[('2.0', '1')] = {'color': 'xkcd:orange'}\n",
    "props[('2.0','0')] = {'color': 'xkcd:light orange'}\n",
    "props[('3.0', '1')] = {'color': 'xkcd:orange'}\n",
    "props[('3.0','0')] = {'color': 'xkcd:light orange'}\n",
    "\n",
    "mosaic(data.sort_values([feature,'Attrition'],\n",
    "       ascending=[False,True]), \n",
    "       [feature,'Attrition'],\n",
    "       gap=0.01,\n",
    "       title='직무 만족도에 따라 이직여부',\n",
    "       properties=props, \n",
    "       horizontal=False , \n",
    "       axes_label=True\n",
    "      )\n",
    "\n",
    "plt.axvline(1- data['Attrition'].mean(), color = 'r')\n",
    "\n",
    "plt.legend([f\"평균  이직률 {data['Attrition'].mean() * 100:.0f}%\"], bbox_to_anchor=(1.4, 0.5))\n",
    "plt.show()"
   ]
  },
  {
   "cell_type": "code",
   "execution_count": 28,
   "metadata": {},
   "outputs": [
    {
     "name": "stdout",
     "output_type": "stream",
     "text": [
      "카이제곱통계량 9.62245  p-value : 0.008137869190485921\n"
     ]
    }
   ],
   "source": [
    "table = pd.crosstab(data[\"Attrition\"],data[feature])\n",
    "\n",
    "# 카이제곱검정\n",
    "result = spst.chi2_contingency(table)\n",
    "print(f'카이제곱통계량 {result[0]:.5f}  p-value : {result[1]}')"
   ]
  },
  {
   "cell_type": "markdown",
   "metadata": {},
   "source": [
    "* 3차 분석 결과\n",
    "    \n",
    "    데이터를 재그룹핑을 하여 시각화하고 카이제곱 통계량을 구하여 통계적 검증을 하였지만 2차 분석때 나온 결과와 유사하며 p_value가 올라가게 된 결과를 알 수 있습니다. 하지만 p_value(유의 확률)가 유의수준 0.05보다 작기에 귀무가설을 기각하고 대립가설인 \"직무 만족도에 따른 이직 여부에 차이가 있다\" 가설을 채택하지만, 큰 차이가 있다고 보여지지 않습니다."
   ]
  },
  {
   "cell_type": "markdown",
   "metadata": {
    "id": "zpSXwBg5_yBW"
   },
   "source": [
    "④ 시각화와 가설검정을 통해서 파악한 내용을 적어 봅시다."
   ]
  },
  {
   "cell_type": "markdown",
   "metadata": {
    "id": "lhX0s1u6_yBW"
   },
   "source": [
    "* 최종 4차 분석 결과\n",
    "\n",
    "    직무 만족도에 따른 이직여부의 차이가 크지 않게 있다고 결과를 도출하였습니다."
   ]
  },
  {
   "cell_type": "markdown",
   "metadata": {
    "id": "lUsQ0iBHMqte"
   },
   "source": [
    "### (2) 숫자형 Feature --> target\n",
    "\n",
    "* 숫자형 Feature에 대해서 Y와 비교하여 차트를 그리고 수치화 하시오.  \n",
    "    ① 그래프 : histogram, densityplot   \n",
    "    ② 수치화 : 로지스틱회귀"
   ]
  },
  {
   "cell_type": "markdown",
   "metadata": {
    "id": "F_Mugk3f_y3X"
   },
   "source": [
    "#### 1) Age --> Attrtion\n"
   ]
  },
  {
   "cell_type": "code",
   "execution_count": 44,
   "metadata": {
    "id": "8ROLKtUueHSn"
   },
   "outputs": [],
   "source": [
    "feature = 'Age'"
   ]
  },
  {
   "cell_type": "markdown",
   "metadata": {
    "id": "iZwchGY8eRH_"
   },
   "source": [
    "① 그래프 : histogram, densityplot"
   ]
  },
  {
   "cell_type": "code",
   "execution_count": 45,
   "metadata": {
    "id": "Kdch3Zm-Mqtg"
   },
   "outputs": [
    {
     "data": {
      "image/png": "[encoded data removed]",
      "text/plain": [
       "<Figure size 1296x576 with 4 Axes>"
      ]
     },
     "metadata": {
      "needs_background": "light"
     },
     "output_type": "display_data"
    }
   ],
   "source": [
    "mean_val = data[\"Attrition\"].mean()\n",
    "\n",
    "plt.figure(figsize= (18,8))\n",
    "plt.subplot(2,2,1)\n",
    "sns.kdeplot(data = data, x= feature,hue=\"Attrition\",common_norm=False)\n",
    "plt.title(\"나이에 따른 이직여부의 확률밀도 함수\",size= 18)\n",
    "plt.ylabel(\"확률\",size = 13)\n",
    "plt.xlabel(\"나이\",size = 13)\n",
    "\n",
    "\n",
    "plt.subplot(2,2,2)\n",
    "sns.kdeplot(data = data, x= feature, hue=\"Attrition\", multiple='fill')\n",
    "plt.axhline(mean_val,color='r',linewidth=2)\n",
    "plt.text(1,0.15,f\"평균 이직률 : {mean_val*100:.0f}%\",color='r',size=17)\n",
    "\n",
    "plt.title(\"나이에 따른 이직여부의 확률밀도 함수\",size= 18)\n",
    "plt.ylabel(\"확률\",size = 13)\n",
    "plt.xlabel(\"나이\",size = 13)\n",
    "plt.legend(labels= [f\"평균 이직률 {mean_val:.2f}\",'이직O','이직X'],bbox_to_anchor=(1.24, 0.6))\n",
    "\n",
    "\n",
    "plt.subplot(2,2,3)\n",
    "sns.histplot( data=data, x=feature , hue=\"Attrition\", bins = 32)\n",
    "plt.title(\"나이에 따른 이직여부의 히스토그램\",size= 18)\n",
    "plt.ylabel(\"확률\",size = 13)\n",
    "plt.xlabel(\"나이\",size = 13)\n",
    "\n",
    "\n",
    "plt.subplot(2,2,4)\n",
    "sns.histplot( data=data, x=feature , hue=\"Attrition\", bins = 32, multiple='fill')\n",
    "plt.axhline(mean_val,color='r',linewidth=2)\n",
    "\n",
    "plt.title(\"나이에 따른 이직여부의 히스토그램\",size= 18)\n",
    "plt.ylabel(\"확률\",size = 13)\n",
    "plt.xlabel(\"나이\",size = 13)\n",
    "plt.legend(labels= [f\"평균 이직률 {mean_val:.2f}\",'이직O','이직X'],bbox_to_anchor=(1, 0.6))\n",
    "\n",
    "plt.tight_layout()\n",
    "plt.show()"
   ]
  },
  {
   "cell_type": "markdown",
   "metadata": {
    "id": "62LpmfYBfADw"
   },
   "source": [
    "시각화를 통해 파악한 내용을 적어 봅시다."
   ]
  },
  {
   "cell_type": "markdown",
   "metadata": {
    "id": "rPbprP0NfADx"
   },
   "source": [
    "* 1차 분석 결과\n",
    "\n",
    "    히스토그램과 밀도함수를 보았을때, 나이가 젊을 수록 이직율이 평균에 비해 높으며, 약 30대초반까지, 30대 후반 이후로는 이직률이 떨어진다. 아마 앞에서 분석한 결혼상태에 따라 이직률이 달라지는 것 처럼, 30대 이후에는 결혼을 하였기에 이직률이 떨어지는 것으로 추정된다. 하지만 50살에 이직을 하기에 이 시기에는 정년 퇴직을 하기 전 이직을 한것으로 추정된다."
   ]
  },
  {
   "cell_type": "markdown",
   "metadata": {
    "id": "AMOh1uw2fVoO"
   },
   "source": [
    "② 수치화 : 로지스틱회귀"
   ]
  },
  {
   "cell_type": "code",
   "execution_count": 40,
   "metadata": {
    "id": "B-kCeQE5G_NU"
   },
   "outputs": [
    {
     "name": "stdout",
     "output_type": "stream",
     "text": [
      "Optimization terminated successfully.\n",
      "         Current function value: 0.424660\n",
      "         Iterations 5\n",
      "Age    4.667821e-100\n",
      "dtype: float64\n"
     ]
    }
   ],
   "source": [
    "# 로지스틱 모형을 만들고 통계량을 구해 봅시다.\n",
    "model = sm.Logit(data['Attrition'], data[feature])\n",
    "result = model.fit()\n",
    "print(result.pvalues)"
   ]
  },
  {
   "cell_type": "markdown",
   "metadata": {},
   "source": [
    "* 2차 분석결과\n",
    "\n",
    "    로지스틱 회귀모델을 통해 나이에 따른 이직여부에 대한 관련이 있는지 구해봤는데, p_value가 0.05보다 작기에 나이에 따른 이직여부가 관련이 있다고 판단되었습니다."
   ]
  },
  {
   "cell_type": "markdown",
   "metadata": {
    "id": "1QGY11sufcJ1"
   },
   "source": [
    "③ 시각화와 수치화를 통해 파악한 내용을 적어 봅시다."
   ]
  },
  {
   "cell_type": "markdown",
   "metadata": {
    "id": "iRgq5a36fhGD"
   },
   "source": [
    "* 최종 3차 분석 결과\n",
    "\n",
    "    히스토그램과 밀도함수를 시각화하였을때, 나이에 따른 이직여부의 차이가 두드러지게 보여졌다. 이것을 로지스틱 회귀모델을 통해 수치화 하였을때, p_value가 0.05보다 작기에 나이에 따른 이직여부가 달라진다 라고 결과를 도출할 수 있겠습니다. 추가적으로 나이대가 30대 초반 전 후 기준으로 나이를 구분하여 이직여부를 분석해도 좋을 것으로 판단됩니다."
   ]
  },
  {
   "cell_type": "markdown",
   "metadata": {
    "id": "UVjP9xEt2pVn"
   },
   "source": [
    "#### 2) DistanceFromHome --> Attrtion\n"
   ]
  },
  {
   "cell_type": "code",
   "execution_count": 52,
   "metadata": {
    "id": "2cSWvoFm2pVn"
   },
   "outputs": [],
   "source": [
    "feature = 'DistanceFromHome'"
   ]
  },
  {
   "cell_type": "markdown",
   "metadata": {},
   "source": [
    "* nan값 유무"
   ]
  },
  {
   "cell_type": "code",
   "execution_count": 60,
   "metadata": {},
   "outputs": [
    {
     "data": {
      "text/plain": [
       "0"
      ]
     },
     "execution_count": 60,
     "metadata": {},
     "output_type": "execute_result"
    }
   ],
   "source": [
    "data[feature].isnull().sum()"
   ]
  },
  {
   "cell_type": "code",
   "execution_count": 59,
   "metadata": {},
   "outputs": [],
   "source": [
    "data[feature].fillna(data[feature].mean(),inplace=True)"
   ]
  },
  {
   "cell_type": "markdown",
   "metadata": {},
   "source": [
    "Nan값이 54개가 있어서 해당 값을 평균값으로 대치하였다."
   ]
  },
  {
   "cell_type": "markdown",
   "metadata": {
    "id": "12AvE3o22pVn"
   },
   "source": [
    "① 그래프 : histogram, densityplot"
   ]
  },
  {
   "cell_type": "code",
   "execution_count": 61,
   "metadata": {
    "id": "ae6yrGJm2pVn"
   },
   "outputs": [
    {
     "name": "stderr",
     "output_type": "stream",
     "text": [
      "C:\\Users\\User\\anaconda3\\lib\\site-packages\\matplotlib\\backends\\backend_agg.py:238: RuntimeWarning: Glyph 8722 missing from current font.\n",
      "  font.set_text(s, 0.0, flags=flags)\n",
      "C:\\Users\\User\\anaconda3\\lib\\site-packages\\matplotlib\\backends\\backend_agg.py:201: RuntimeWarning: Glyph 8722 missing from current font.\n",
      "  font.set_text(s, 0, flags=flags)\n"
     ]
    },
    {
     "data": {
      "image/png": "[encoded data removed]",
      "text/plain": [
       "<Figure size 1296x576 with 4 Axes>"
      ]
     },
     "metadata": {
      "needs_background": "light"
     },
     "output_type": "display_data"
    }
   ],
   "source": [
    "mean_val = data[\"Attrition\"].mean()\n",
    "\n",
    "plt.figure(figsize= (18,8))\n",
    "plt.subplot(2,2,1)\n",
    "sns.kdeplot(data = data, x= feature,hue=\"Attrition\",common_norm=False)\n",
    "plt.title(\"직장-집 거리에 따른 이직여부의 확률밀도 함수\",size= 18)\n",
    "plt.ylabel(\"확률\",size = 13)\n",
    "plt.xlabel(\"직장-집 거리\",size = 13)\n",
    "\n",
    "\n",
    "plt.subplot(2,2,2)\n",
    "sns.kdeplot(data = data, x= feature, hue=\"Attrition\", multiple='fill')\n",
    "plt.axhline(mean_val,color='r',linewidth=2)\n",
    "plt.text(1,0.15,f\"평균 이직률 : {mean_val*100:.0f}%\",color='r',size=17)\n",
    "\n",
    "plt.title(\"직장-집 거리에 따른 이직여부의 확률밀도 함수\",size= 18)\n",
    "plt.ylabel(\"확률\",size = 13)\n",
    "plt.xlabel(\"직장-집 거리\",size = 13)\n",
    "plt.legend(labels= [f\"평균 이직률 {mean_val:.2f}\",'이직O','이직X'],bbox_to_anchor=(1.24, 0.6))\n",
    "\n",
    "\n",
    "plt.subplot(2,2,3)\n",
    "sns.histplot( data=data, x=feature , hue=\"Attrition\", bins = 32)\n",
    "plt.title(\"직장-집 거리에 따른 이직여부의 히스토그램\",size= 18)\n",
    "plt.ylabel(\"확률\",size = 13)\n",
    "plt.xlabel(\"직장-집 거리\",size = 13)\n",
    "\n",
    "\n",
    "plt.subplot(2,2,4)\n",
    "sns.histplot( data=data, x=feature , hue=\"Attrition\", bins = 32, multiple='fill')\n",
    "plt.axhline(mean_val,color='r',linewidth=2)\n",
    "\n",
    "plt.title(\"직장-집 거리에 따른 이직여부의 히스토그램\",size= 18)\n",
    "plt.ylabel(\"확률\",size = 13)\n",
    "plt.xlabel(\"직장-집 거리\",size = 13)\n",
    "plt.legend(labels= [f\"평균 이직률 {mean_val:.2f}\",'이직O','이직X'],bbox_to_anchor=(1, 0.6))\n",
    "\n",
    "plt.tight_layout()\n",
    "plt.show()"
   ]
  },
  {
   "cell_type": "markdown",
   "metadata": {
    "id": "dPYSWkrN2pVo"
   },
   "source": [
    "시각화를 통해 파악한 내용을 적어 봅시다."
   ]
  },
  {
   "cell_type": "markdown",
   "metadata": {
    "id": "2B7I0LWz2pVo"
   },
   "source": [
    "* 1차 분석결과\n",
    "    \n",
    "    히스토그램을 보았을때 직장과 집 거리가 멀 수록 이직율이 높아지는 것을 빈번히 볼수 있지만, 직장과 집의 거리가 멀다고 이직율이 높아진다고 시각화된 결과로 판단하기가 어렵다. 그렇기에 수치화를 통해 관련이 있는지 파악하겠습니다."
   ]
  },
  {
   "cell_type": "markdown",
   "metadata": {
    "id": "HTZsXn1O2pVo"
   },
   "source": [
    "② 수치화 : 로지스틱회귀"
   ]
  },
  {
   "cell_type": "code",
   "execution_count": 62,
   "metadata": {
    "id": "DkhOHKkE2pVo"
   },
   "outputs": [
    {
     "name": "stdout",
     "output_type": "stream",
     "text": [
      "Optimization terminated successfully.\n",
      "         Current function value: 0.562055\n",
      "         Iterations 6\n",
      "DistanceFromHome    5.890702e-48\n",
      "dtype: float64\n"
     ]
    }
   ],
   "source": [
    "# 로지스틱 모형을 만들고 통계량을 구해 봅시다.\n",
    "model = sm.Logit(data['Attrition'], data[feature])\n",
    "result = model.fit()\n",
    "print(result.pvalues)"
   ]
  },
  {
   "cell_type": "markdown",
   "metadata": {},
   "source": [
    "* 2차 분석결과\n",
    "\n",
    "    로지스틱 회귀모델을 통해 직장 집 거리에 따른 이직여부에 대한 관련이 있는지 구해봤는데, p_value가 0.05보다 작기에 직장 집 거리에 따른 이직여부가 관련이 있다고 판단되었습니다."
   ]
  },
  {
   "cell_type": "markdown",
   "metadata": {
    "id": "UQqPhZwj2pVp"
   },
   "source": [
    "③ 시각화와 수치화를 통해 파악한 내용을 적어 봅시다."
   ]
  },
  {
   "cell_type": "markdown",
   "metadata": {
    "id": "1tHzXavD2pVp"
   },
   "source": [
    "* 최종 3차 분석 결과\n",
    "\n",
    "    히스토그램과 밀도함수를 시각화하였을때, 직장 집 거리에 따른 이직여부의 차이가 두드러지게 보여진다고 판단할 수 없었기에, 로지스틱 회귀모델을 통해 p_value를 구해보았고, 해당 값이 0.05보다 작기에 집과 직장의 거리에 따른 이직여부가 관련이 있다고 판단되었습니다."
   ]
  },
  {
   "cell_type": "markdown",
   "metadata": {
    "id": "CfOiGI1D2pne"
   },
   "source": [
    "#### 3) MonthlyIncome --> Attrtion\n"
   ]
  },
  {
   "cell_type": "code",
   "execution_count": 63,
   "metadata": {
    "id": "bWI2_CoG2pne"
   },
   "outputs": [],
   "source": [
    "feature = 'MonthlyIncome'"
   ]
  },
  {
   "cell_type": "markdown",
   "metadata": {
    "id": "46AmWboJ2pne"
   },
   "source": [
    "① 그래프 : histogram, densityplot"
   ]
  },
  {
   "cell_type": "code",
   "execution_count": 65,
   "metadata": {
    "id": "iTC2a2xk2pnf"
   },
   "outputs": [
    {
     "data": {
      "image/png": "[encoded data removed]",
      "text/plain": [
       "<Figure size 1296x576 with 4 Axes>"
      ]
     },
     "metadata": {
      "needs_background": "light"
     },
     "output_type": "display_data"
    }
   ],
   "source": [
    "mean_val = data[\"Attrition\"].mean()\n",
    "\n",
    "plt.figure(figsize= (18,8))\n",
    "plt.subplot(2,2,1)\n",
    "sns.kdeplot(data = data, x= feature,hue=\"Attrition\",common_norm=False)\n",
    "plt.title(\"월급에 따른 이직여부의 확률밀도 함수\",size= 18)\n",
    "plt.ylabel(\"확률\",size = 13)\n",
    "plt.xlabel(\"월급\",size = 13)\n",
    "\n",
    "\n",
    "plt.subplot(2,2,2)\n",
    "sns.kdeplot(data = data, x= feature, hue=\"Attrition\", multiple='fill')\n",
    "plt.axhline(mean_val,color='r',linewidth=2)\n",
    "plt.text(1,0.15,f\"평균 이직률 : {mean_val*100:.0f}%\",color='r',size=17)\n",
    "\n",
    "plt.title(\"월급에 따른 이직여부의 확률밀도 함수\",size= 18)\n",
    "plt.ylabel(\"확률\",size = 13)\n",
    "plt.xlabel(\"월급\",size = 13)\n",
    "plt.legend(labels= [f\"평균 이직률 {mean_val:.2f}\",'이직O','이직X'],bbox_to_anchor=(1.24, 0.6))\n",
    "\n",
    "\n",
    "plt.subplot(2,2,3)\n",
    "sns.histplot( data=data, x=feature , hue=\"Attrition\", bins = 32)\n",
    "plt.title(\"월급에 따른 이직여부의 히스토그램\",size= 18)\n",
    "plt.ylabel(\"확률\",size = 13)\n",
    "plt.xlabel(\"월급\",size = 13)\n",
    "\n",
    "plt.subplot(2,2,4)\n",
    "sns.histplot( data=data, x=feature , hue=\"Attrition\", bins = 32, multiple='fill')\n",
    "plt.axhline(mean_val,color='r',linewidth=2)\n",
    "\n",
    "plt.title(\"월급에 따른 이직여부의 히스토그램\",size= 18)\n",
    "plt.ylabel(\"확률\",size = 13)\n",
    "plt.xlabel(\"월급\",size = 13)\n",
    "plt.legend(labels= [f\"평균 이직률 {mean_val:.2f}\",'이직O','이직X'],bbox_to_anchor=(1, 0.6))\n",
    "\n",
    "plt.tight_layout()\n",
    "plt.show()"
   ]
  },
  {
   "cell_type": "markdown",
   "metadata": {
    "id": "Qswvfv372pnf"
   },
   "source": [
    "시각화를 통해 파악한 내용을 적어 봅시다."
   ]
  },
  {
   "cell_type": "markdown",
   "metadata": {
    "id": "Ad2R9A4Z2pnf"
   },
   "source": [
    "* 1차 분석 결과\n",
    "\n",
    "    히스토그램이나 확률 밀도 함수를 보았을때, 월급이 낮을 수록 이직이 다른 월급에 비해 높은 것으로 보여진다."
   ]
  },
  {
   "cell_type": "markdown",
   "metadata": {
    "id": "nrtejCDB2pnf"
   },
   "source": [
    "② 수치화 : 로지스틱회귀"
   ]
  },
  {
   "cell_type": "code",
   "execution_count": 66,
   "metadata": {
    "id": "_Aq9dIe-2pnf"
   },
   "outputs": [
    {
     "name": "stdout",
     "output_type": "stream",
     "text": [
      "Optimization terminated successfully.\n",
      "         Current function value: 0.437401\n",
      "         Iterations 6\n",
      "MonthlyIncome    1.922717e-71\n",
      "dtype: float64\n"
     ]
    }
   ],
   "source": [
    "# 로지스틱 모형을 만들고 통계량을 구해 봅시다.\n",
    "model = sm.Logit(data['Attrition'], data[feature])\n",
    "result = model.fit()\n",
    "print(result.pvalues)"
   ]
  },
  {
   "cell_type": "markdown",
   "metadata": {},
   "source": [
    "* 2차 분석결과\n",
    "\n",
    "    로지스틱 회귀모델을 통해 월급에 따른 이직여부에 대한 관련이 있는지 구해봤는데, p_value가 0.05보다 작기에 월급에 따른 이직여부가 관련이 있다고 판단되었습니다."
   ]
  },
  {
   "cell_type": "markdown",
   "metadata": {
    "id": "l3VRFhdD2pnf"
   },
   "source": [
    "③ 시각화와 수치화를 통해 파악한 내용을 적어 봅시다."
   ]
  },
  {
   "cell_type": "markdown",
   "metadata": {
    "id": "lk-gTxwk2pnf"
   },
   "source": [
    "* 최종 3차 분석 결과\n",
    "\n",
    "    히스토그램과 밀도함수를 시각화하였을때, 월급에 따른 이직여부의 차이가 보여졌고, 그 결과를 로지스틱 회귀모델을 통해 p_value를 구해보았을때, 해당 값이 0.05보다 작기에 월급에 따른 이직여부가 관련이 있다고 판단되었습니다. 또한 히스토그램을 보았을때 아에 이직이 없는 구간도 보여집니다. 그래서 추후 월급을 구간을 나눠서 마치 회사의 직급을 나누는 듯이 나눠서 살펴보면 재미있는 결과를 얻을 거라고 생각됩니다."
   ]
  },
  {
   "cell_type": "markdown",
   "metadata": {
    "id": "Jd4WbbU-jqU3"
   },
   "source": [
    "## 4.관계 정리"
   ]
  },
  {
   "cell_type": "markdown",
   "metadata": {
    "id": "bKmN0rtAjto6"
   },
   "source": [
    "### 1) 강한관계의 변수"
   ]
  },
  {
   "cell_type": "markdown",
   "metadata": {
    "id": "BgUuHiHbjw62"
   },
   "source": [
    "> 결혼상태, 나이, 월급"
   ]
  },
  {
   "cell_type": "markdown",
   "metadata": {
    "id": "u8B765zNjwp5"
   },
   "source": [
    "### 2) 중간관계의 변수"
   ]
  },
  {
   "cell_type": "markdown",
   "metadata": {
    "id": "k9CJjmAljwjd"
   },
   "source": [
    "> 직원 만족도, 직장-집 거리, "
   ]
  },
  {
   "cell_type": "markdown",
   "metadata": {
    "id": "eYiQ9OUijwdq"
   },
   "source": [
    "### 3) (거의)관계 없음"
   ]
  },
  {
   "cell_type": "markdown",
   "metadata": {
    "id": "v0qkBnp3jwbE"
   },
   "source": [
    "> 성별"
   ]
  }
 ],
 "metadata": {
  "colab": {
   "collapsed_sections": [
    "4UMjF0sTkr-4",
    "F_Mugk3f_y3X",
    "UVjP9xEt2pVn",
    "CfOiGI1D2pne"
   ],
   "name": "과제1. 직원 이직 분석_이변량분석.ipynb",
   "provenance": [],
   "toc_visible": true
  },
  "kernelspec": {
   "display_name": "Python 3",
   "language": "python",
   "name": "python3"
  },
  "language_info": {
   "codemirror_mode": {
    "name": "ipython",
    "version": 3
   },
   "file_extension": ".py",
   "mimetype": "text/x-python",
   "name": "python",
   "nbconvert_exporter": "python",
   "pygments_lexer": "ipython3",
   "version": "3.8.8"
  }
 },
 "nbformat": 4,
 "nbformat_minor": 1
}
