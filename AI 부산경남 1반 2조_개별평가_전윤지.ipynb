{
 "cells": [
  {
   "cell_type": "markdown",
   "metadata": {
    "id": "mTt7qGUTCcFs"
   },
   "source": [
    "# 과제2. [평가]Mobile 고객 이탈 분석"
   ]
  },
  {
   "cell_type": "markdown",
   "metadata": {
    "id": "cdQaCT5I0IL_"
   },
   "source": [
    "* 여러분은 OO 통신화사 데이터분석가 입니다.\n",
    "* 회사는 약정기간이 끝난 고객이 번호이동(이탈)해 가는 문제를 해결하고자 합니다.\n",
    "* 그래서 여러분에게, 어떤 고객이 번호이동(이탈)해 가는지 데이터분석을 의뢰하였습니다.\n",
    "* 고객 이탈여부(CHURN)에 영향을 주는 요인을 찾아 봅시다."
   ]
  },
  {
   "cell_type": "markdown",
   "metadata": {
    "id": "0wuYJKZHjA3d"
   },
   "source": [
    "![](https://d18lkz4dllo6v2.cloudfront.net/cumulus_uploads/entry/23964/mobile%20phones.png)"
   ]
  },
  {
   "cell_type": "markdown",
   "metadata": {
    "id": "AHmt88Q5EVsj"
   },
   "source": [
    "## 0.환경설정"
   ]
  },
  {
   "cell_type": "markdown",
   "metadata": {
    "id": "KnzVh2LmkLDU"
   },
   "source": [
    "### 1) 라이브러리 로딩"
   ]
  },
  {
   "cell_type": "code",
   "execution_count": 1,
   "metadata": {
    "id": "3rsQerEaELwI"
   },
   "outputs": [],
   "source": [
    "import pandas as pd\n",
    "import numpy as np\n",
    "import matplotlib.pyplot as plt\n",
    "import seaborn as sns\n",
    "\n",
    "from statsmodels.graphics.mosaicplot import mosaic\n",
    "from scipy import stats as spst\n",
    "import statsmodels.api as sm"
   ]
  },
  {
   "cell_type": "markdown",
   "metadata": {
    "id": "5Qh5KYWokO_N"
   },
   "source": [
    "### 2) 데이터 로딩"
   ]
  },
  {
   "cell_type": "code",
   "execution_count": 2,
   "metadata": {
    "id": "lM3HN6OwEL3d"
   },
   "outputs": [
    {
     "data": {
      "text/html": [
       "<div>\n",
       "<style scoped>\n",
       "    .dataframe tbody tr th:only-of-type {\n",
       "        vertical-align: middle;\n",
       "    }\n",
       "\n",
       "    .dataframe tbody tr th {\n",
       "        vertical-align: top;\n",
       "    }\n",
       "\n",
       "    .dataframe thead th {\n",
       "        text-align: right;\n",
       "    }\n",
       "</style>\n",
       "<table border=\"1\" class=\"dataframe\">\n",
       "  <thead>\n",
       "    <tr style=\"text-align: right;\">\n",
       "      <th></th>\n",
       "      <th>COLLEGE</th>\n",
       "      <th>INCOME</th>\n",
       "      <th>OVERAGE</th>\n",
       "      <th>LEFTOVER</th>\n",
       "      <th>HOUSE</th>\n",
       "      <th>HANDSET_PRICE</th>\n",
       "      <th>AVERAGE_CALL_DURATION</th>\n",
       "      <th>REPORTED_SATISFACTION</th>\n",
       "      <th>CONSIDERING_CHANGE_OF_PLAN</th>\n",
       "      <th>CHURN</th>\n",
       "    </tr>\n",
       "  </thead>\n",
       "  <tbody>\n",
       "    <tr>\n",
       "      <th>0</th>\n",
       "      <td>1</td>\n",
       "      <td>47711</td>\n",
       "      <td>183</td>\n",
       "      <td>17</td>\n",
       "      <td>730589.0</td>\n",
       "      <td>192</td>\n",
       "      <td>5</td>\n",
       "      <td>unsat</td>\n",
       "      <td>considering</td>\n",
       "      <td>0</td>\n",
       "    </tr>\n",
       "    <tr>\n",
       "      <th>1</th>\n",
       "      <td>0</td>\n",
       "      <td>74132</td>\n",
       "      <td>191</td>\n",
       "      <td>43</td>\n",
       "      <td>535092.0</td>\n",
       "      <td>349</td>\n",
       "      <td>2</td>\n",
       "      <td>unsat</td>\n",
       "      <td>no</td>\n",
       "      <td>1</td>\n",
       "    </tr>\n",
       "    <tr>\n",
       "      <th>2</th>\n",
       "      <td>1</td>\n",
       "      <td>150419</td>\n",
       "      <td>0</td>\n",
       "      <td>14</td>\n",
       "      <td>204004.0</td>\n",
       "      <td>682</td>\n",
       "      <td>6</td>\n",
       "      <td>unsat</td>\n",
       "      <td>considering</td>\n",
       "      <td>0</td>\n",
       "    </tr>\n",
       "    <tr>\n",
       "      <th>3</th>\n",
       "      <td>0</td>\n",
       "      <td>159567</td>\n",
       "      <td>0</td>\n",
       "      <td>58</td>\n",
       "      <td>281969.0</td>\n",
       "      <td>634</td>\n",
       "      <td>1</td>\n",
       "      <td>very_unsat</td>\n",
       "      <td>never_thought</td>\n",
       "      <td>0</td>\n",
       "    </tr>\n",
       "    <tr>\n",
       "      <th>4</th>\n",
       "      <td>1</td>\n",
       "      <td>23392</td>\n",
       "      <td>0</td>\n",
       "      <td>0</td>\n",
       "      <td>216707.0</td>\n",
       "      <td>233</td>\n",
       "      <td>15</td>\n",
       "      <td>unsat</td>\n",
       "      <td>no</td>\n",
       "      <td>1</td>\n",
       "    </tr>\n",
       "  </tbody>\n",
       "</table>\n",
       "</div>"
      ],
      "text/plain": [
       "   COLLEGE  INCOME  OVERAGE  LEFTOVER     HOUSE  HANDSET_PRICE  \\\n",
       "0        1   47711      183        17  730589.0            192   \n",
       "1        0   74132      191        43  535092.0            349   \n",
       "2        1  150419        0        14  204004.0            682   \n",
       "3        0  159567        0        58  281969.0            634   \n",
       "4        1   23392        0         0  216707.0            233   \n",
       "\n",
       "   AVERAGE_CALL_DURATION REPORTED_SATISFACTION CONSIDERING_CHANGE_OF_PLAN  \\\n",
       "0                      5                 unsat                considering   \n",
       "1                      2                 unsat                         no   \n",
       "2                      6                 unsat                considering   \n",
       "3                      1            very_unsat              never_thought   \n",
       "4                     15                 unsat                         no   \n",
       "\n",
       "   CHURN  \n",
       "0      0  \n",
       "1      1  \n",
       "2      0  \n",
       "3      0  \n",
       "4      1  "
      ]
     },
     "execution_count": 2,
     "metadata": {},
     "output_type": "execute_result"
    }
   ],
   "source": [
    "# mobile data\n",
    "data_path = \"https://raw.githubusercontent.com/DA4BAM/dataset/master/mobile_NA2.csv\"\n",
    "mobile = pd.read_csv(data_path)\n",
    "mobile.drop(['id', 'REPORTED_USAGE_LEVEL','OVER_15MINS_CALLS_PER_MONTH'], axis = 1, inplace = True)\n",
    "mobile.head()"
   ]
  },
  {
   "cell_type": "markdown",
   "metadata": {
    "id": "JtiF310fjmJy"
   },
   "source": [
    "|변수 명|내용|구분|\n",
    "|\t----\t|\t----\t|\t----\t|\n",
    "|\tCOLLEGE\t|\t대학졸업 여부(1,0)\t|\t\t|\n",
    "|\tINCOME\t|\t연 수입액(달러)\t|\t\t|\n",
    "|\tOVERAGE\t|\t월 초과사용 시간(분)\t|\t\t|\n",
    "|\tLEFTOVER\t|\t월 사용 잔여시간(%)\t|\t\t|\n",
    "|\tHOUSE\t|\t집 가격(달러)\t|\t\t|\n",
    "|\tHANDSET_PRICE\t|\t핸드폰 가격(달러)\t|\t\t|\n",
    "|\tAVERAGE_CALL_DURATION\t|\t평균 통화시간(분)\t|\t\t|\n",
    "|\tREPORTED_SATISFACTION\t|\t만족도 설문('very_unsat', 'unsat', 'avg', 'sat', 'very_sat' )\t|\t\t|\n",
    "|\tCONSIDERING_CHANGE_OF_PLAN\t|\t변경 계획 설문('never_thought', 'no', 'perhaps', 'considering',   'actively_looking_into_it')\t|\t\t|\n",
    "|\t**CHURN**\t|\t이탈여부(1 : 이탈, 0 : 잔류)\t|\tLabel\t|\n"
   ]
  },
  {
   "cell_type": "markdown",
   "metadata": {
    "id": "bKimk8qVm8oC"
   },
   "source": [
    "----"
   ]
  },
  {
   "cell_type": "markdown",
   "metadata": {
    "id": "0bouXLxGkSSd"
   },
   "source": [
    "## 1.가설수립"
   ]
  },
  {
   "cell_type": "markdown",
   "metadata": {
    "id": "69Q5jPGu1JQ0"
   },
   "source": [
    "* 숫자형 최소 3개이상, 범주형 최소 2개 이상씩, 전체 6개의 변수를 도출, 가설을 수립하시오."
   ]
  },
  {
   "cell_type": "markdown",
   "metadata": {
    "id": "ydh7lwR6EHuL"
   },
   "source": [
    "* 가설1 : 만족도와 이탈여부는 관련이 있다."
   ]
  },
  {
   "cell_type": "markdown",
   "metadata": {
    "id": "haK-v6pXEHuL"
   },
   "source": [
    "* 가설2 : 핸드폰 가격과 이탈여부는 관련이 있다."
   ]
  },
  {
   "cell_type": "markdown",
   "metadata": {
    "id": "bXpNRpDcEHuL"
   },
   "source": [
    "* 가설3 : 집 가격과 이탈여부는 관련이 있다."
   ]
  },
  {
   "cell_type": "markdown",
   "metadata": {
    "id": "zvZmmfXOEHuL"
   },
   "source": [
    "* 가설4 : "
   ]
  },
  {
   "cell_type": "markdown",
   "metadata": {
    "id": "b0LB5ArmEHuM"
   },
   "source": [
    "* 가설5 : "
   ]
  },
  {
   "cell_type": "markdown",
   "metadata": {
    "id": "3kIuQfdJ_i0L"
   },
   "source": [
    "* 가설6 : "
   ]
  },
  {
   "cell_type": "markdown",
   "metadata": {
    "id": "82xzJIZhnAaX"
   },
   "source": [
    "----"
   ]
  },
  {
   "cell_type": "markdown",
   "metadata": {
    "id": "1hYPpnplEedX"
   },
   "source": [
    "## 2.단변량 분석\n",
    "\n",
    "① 변수의 비즈니스 의미  \n",
    "\n",
    "② 숫자? 범주?  \n",
    "\n",
    "③ 전처리 사항\n",
    "   - NaN 존재 여부 및 조치 방안  \n",
    "   - 가변수화 대상여부  \n",
    "   \n",
    "④ 기초통계량\n",
    "\n",
    "⑤ 분포  \n",
    "\n",
    "⑥ 위 정보로부터 파악한 내용(비즈니스!) 정리  \n",
    "\n",
    "⑦ 추가 분석해볼 사항 도출"
   ]
  },
  {
   "cell_type": "code",
   "execution_count": 3,
   "metadata": {},
   "outputs": [],
   "source": [
    "def univariate_meaning(variable_type, meaning):\n",
    "    print('변수 유형은 ', variable_type, '형이고, ', meaning, '입니다.')\n",
    "    print('='*50)"
   ]
  },
  {
   "cell_type": "code",
   "execution_count": 4,
   "metadata": {},
   "outputs": [],
   "source": [
    "def univariate_preprocessing(data, feature, variable_type, change_var=False):\n",
    "    print('전처리')\n",
    "    print('-'*50)\n",
    "    data2 = pd.DataFrame()\n",
    "    if data[feature].isnull().sum() > 0:\n",
    "        data2 = data.dropna(subset=[feature]).copy()\n",
    "    if (change_var == True) & (variable_type == '범주'):\n",
    "        pre_feature = {key: i for i, key in enumerate(data2[feature].unique())}\n",
    "        data2['pre_' + feature] = data2[feature].map(pre_feature)\n",
    "    elif (variable_type != '숫자') & (variable_type != '범주'):\n",
    "        print('variable_type을 확인해주세요')\n",
    "    print('='*50)\n",
    "    return data2, 'pre_'+feature"
   ]
  },
  {
   "cell_type": "code",
   "execution_count": 5,
   "metadata": {},
   "outputs": [],
   "source": [
    "def univariate_stats(data, feature, variable_type):\n",
    "    print('기초통계량')\n",
    "    print('-'*50)\n",
    "    if variable_type == '범주':\n",
    "        print(data[feature].value_counts())\n",
    "        print('-'*50)\n",
    "        print(data[feature].value_counts()/len(data[feature]))\n",
    "    elif('숫자'):\n",
    "        print(data[feature].describe())\n",
    "        feature_median = data[feature].median()\n",
    "        feature_mode = data[feature].mode()\n",
    "        print('중앙값: ', feature_median, '\\n최빈값: ', feature_mode)\n",
    "    else:\n",
    "        print('variable_type을 확인해주세요')\n",
    "    print('='*50)"
   ]
  },
  {
   "cell_type": "code",
   "execution_count": 6,
   "metadata": {},
   "outputs": [],
   "source": [
    "def univariate_distribution(data, feature, variable_type, bins=10):\n",
    "    print('분포')\n",
    "    print('-'*50)\n",
    "    if variable_type == '범주':\n",
    "        data_feature = mobile[feature].value_counts()\n",
    "        print(data_feature)\n",
    "        print('-'*50)\n",
    "        plt.figure(figsize=(10, 4))\n",
    "        plt.subplot(1, 2, 1)\n",
    "        plt.bar(data_feature.index, data_feature.values)\n",
    "        plt.subplot(1, 2, 2)\n",
    "        plt.pie(data_feature.values, labels=data_feature.index, autopct = '%.2f%%')\n",
    "        plt.tight_layout()\n",
    "        plt.show()\n",
    "    elif('숫자'):\n",
    "        plt.figure(figsize=(8, 6))\n",
    "        plt.subplot(2, 2, 1)\n",
    "        data_hist = plt.hist(data[feature], bins = bins, edgecolor = 'gray')\n",
    "        plt.xlabel(feature)\n",
    "        plt.ylabel('Frequency')\n",
    "        plt.subplot(2, 2, 2)\n",
    "        data_feature = data[feature].plot(kind = 'kde')\n",
    "        print('빈도수 : ', data_hist[0])\n",
    "        print('구간값 : ', data_hist[1])\n",
    "        plt.subplot(2, 2, 3)\n",
    "        plt.boxplot(data[feature], vert=False)\n",
    "        plt.subplot(2, 2, 4)\n",
    "        plt.violinplot(data[feature], vert = False, showmeans=True)\n",
    "        plt.text(data[feature].mean() - 1, 0.85 , data[feature].mean())\n",
    "        plt.tight_layout()\n",
    "        plt.show()\n",
    "    else:\n",
    "        print('variable_type을 확인해주세요')\n",
    "    print('='*50)"
   ]
  },
  {
   "cell_type": "markdown",
   "metadata": {
    "id": "BP8iBi7We3AI",
    "tags": [],
    "toc-hr-collapsed": true
   },
   "source": [
    "### 1) REPORTED_SATISFACTION"
   ]
  },
  {
   "cell_type": "code",
   "execution_count": 7,
   "metadata": {},
   "outputs": [
    {
     "data": {
      "text/html": [
       "<div>\n",
       "<style scoped>\n",
       "    .dataframe tbody tr th:only-of-type {\n",
       "        vertical-align: middle;\n",
       "    }\n",
       "\n",
       "    .dataframe tbody tr th {\n",
       "        vertical-align: top;\n",
       "    }\n",
       "\n",
       "    .dataframe thead th {\n",
       "        text-align: right;\n",
       "    }\n",
       "</style>\n",
       "<table border=\"1\" class=\"dataframe\">\n",
       "  <thead>\n",
       "    <tr style=\"text-align: right;\">\n",
       "      <th></th>\n",
       "      <th>COLLEGE</th>\n",
       "      <th>INCOME</th>\n",
       "      <th>OVERAGE</th>\n",
       "      <th>LEFTOVER</th>\n",
       "      <th>HOUSE</th>\n",
       "      <th>HANDSET_PRICE</th>\n",
       "      <th>AVERAGE_CALL_DURATION</th>\n",
       "      <th>REPORTED_SATISFACTION</th>\n",
       "      <th>CONSIDERING_CHANGE_OF_PLAN</th>\n",
       "      <th>CHURN</th>\n",
       "    </tr>\n",
       "  </thead>\n",
       "  <tbody>\n",
       "    <tr>\n",
       "      <th>0</th>\n",
       "      <td>1</td>\n",
       "      <td>47711</td>\n",
       "      <td>183</td>\n",
       "      <td>17</td>\n",
       "      <td>730589.0</td>\n",
       "      <td>192</td>\n",
       "      <td>5</td>\n",
       "      <td>unsat</td>\n",
       "      <td>considering</td>\n",
       "      <td>0</td>\n",
       "    </tr>\n",
       "    <tr>\n",
       "      <th>1</th>\n",
       "      <td>0</td>\n",
       "      <td>74132</td>\n",
       "      <td>191</td>\n",
       "      <td>43</td>\n",
       "      <td>535092.0</td>\n",
       "      <td>349</td>\n",
       "      <td>2</td>\n",
       "      <td>unsat</td>\n",
       "      <td>no</td>\n",
       "      <td>1</td>\n",
       "    </tr>\n",
       "    <tr>\n",
       "      <th>2</th>\n",
       "      <td>1</td>\n",
       "      <td>150419</td>\n",
       "      <td>0</td>\n",
       "      <td>14</td>\n",
       "      <td>204004.0</td>\n",
       "      <td>682</td>\n",
       "      <td>6</td>\n",
       "      <td>unsat</td>\n",
       "      <td>considering</td>\n",
       "      <td>0</td>\n",
       "    </tr>\n",
       "    <tr>\n",
       "      <th>3</th>\n",
       "      <td>0</td>\n",
       "      <td>159567</td>\n",
       "      <td>0</td>\n",
       "      <td>58</td>\n",
       "      <td>281969.0</td>\n",
       "      <td>634</td>\n",
       "      <td>1</td>\n",
       "      <td>very_unsat</td>\n",
       "      <td>never_thought</td>\n",
       "      <td>0</td>\n",
       "    </tr>\n",
       "    <tr>\n",
       "      <th>4</th>\n",
       "      <td>1</td>\n",
       "      <td>23392</td>\n",
       "      <td>0</td>\n",
       "      <td>0</td>\n",
       "      <td>216707.0</td>\n",
       "      <td>233</td>\n",
       "      <td>15</td>\n",
       "      <td>unsat</td>\n",
       "      <td>no</td>\n",
       "      <td>1</td>\n",
       "    </tr>\n",
       "  </tbody>\n",
       "</table>\n",
       "</div>"
      ],
      "text/plain": [
       "   COLLEGE  INCOME  OVERAGE  LEFTOVER     HOUSE  HANDSET_PRICE  \\\n",
       "0        1   47711      183        17  730589.0            192   \n",
       "1        0   74132      191        43  535092.0            349   \n",
       "2        1  150419        0        14  204004.0            682   \n",
       "3        0  159567        0        58  281969.0            634   \n",
       "4        1   23392        0         0  216707.0            233   \n",
       "\n",
       "   AVERAGE_CALL_DURATION REPORTED_SATISFACTION CONSIDERING_CHANGE_OF_PLAN  \\\n",
       "0                      5                 unsat                considering   \n",
       "1                      2                 unsat                         no   \n",
       "2                      6                 unsat                considering   \n",
       "3                      1            very_unsat              never_thought   \n",
       "4                     15                 unsat                         no   \n",
       "\n",
       "   CHURN  \n",
       "0      0  \n",
       "1      1  \n",
       "2      0  \n",
       "3      0  \n",
       "4      1  "
      ]
     },
     "execution_count": 7,
     "metadata": {},
     "output_type": "execute_result"
    }
   ],
   "source": [
    "mobile.head()"
   ]
  },
  {
   "cell_type": "code",
   "execution_count": 8,
   "metadata": {},
   "outputs": [],
   "source": [
    "feature = 'REPORTED_SATISFACTION'\n",
    "variable_type = '범주'\n",
    "meaning = '만족도 설문'"
   ]
  },
  {
   "cell_type": "code",
   "execution_count": 9,
   "metadata": {},
   "outputs": [
    {
     "name": "stdout",
     "output_type": "stream",
     "text": [
      "변수 유형은  범주 형이고,  만족도 설문 입니다.\n",
      "==================================================\n"
     ]
    }
   ],
   "source": [
    "univariate_meaning(variable_type, meaning)"
   ]
  },
  {
   "cell_type": "code",
   "execution_count": 10,
   "metadata": {},
   "outputs": [
    {
     "name": "stdout",
     "output_type": "stream",
     "text": [
      "전처리\n",
      "--------------------------------------------------\n",
      "==================================================\n"
     ]
    }
   ],
   "source": [
    "pre_mobile, pre_feature = univariate_preprocessing(mobile, feature, variable_type)"
   ]
  },
  {
   "cell_type": "code",
   "execution_count": 11,
   "metadata": {
    "id": "LdfsedUEEMP6"
   },
   "outputs": [
    {
     "name": "stdout",
     "output_type": "stream",
     "text": [
      "기초통계량\n",
      "--------------------------------------------------\n",
      "very_unsat    7072\n",
      "very_sat      4562\n",
      "unsat         3590\n",
      "avg           1806\n",
      "sat            932\n",
      "Name: REPORTED_SATISFACTION, dtype: int64\n",
      "--------------------------------------------------\n",
      "very_unsat    0.392889\n",
      "very_sat      0.253444\n",
      "unsat         0.199444\n",
      "avg           0.100333\n",
      "sat           0.051778\n",
      "Name: REPORTED_SATISFACTION, dtype: float64\n",
      "==================================================\n"
     ]
    }
   ],
   "source": [
    "univariate_stats(mobile, feature, variable_type)"
   ]
  },
  {
   "cell_type": "code",
   "execution_count": 12,
   "metadata": {
    "id": "n53LBx0fEMMs"
   },
   "outputs": [
    {
     "name": "stdout",
     "output_type": "stream",
     "text": [
      "분포\n",
      "--------------------------------------------------\n",
      "very_unsat    7072\n",
      "very_sat      4562\n",
      "unsat         3590\n",
      "avg           1806\n",
      "sat            932\n",
      "Name: REPORTED_SATISFACTION, dtype: int64\n",
      "--------------------------------------------------\n"
     ]
    },
    {
     "data": {
      "image/png": "[encoded data removed]",
      "text/plain": [
       "<Figure size 720x288 with 2 Axes>"
      ]
     },
     "metadata": {
      "needs_background": "light"
     },
     "output_type": "display_data"
    },
    {
     "name": "stdout",
     "output_type": "stream",
     "text": [
      "==================================================\n"
     ]
    }
   ],
   "source": [
    "univariate_distribution(mobile, feature, variable_type)"
   ]
  },
  {
   "cell_type": "markdown",
   "metadata": {
    "id": "M-dKqpwTEMJe"
   },
   "source": [
    "##### 파악한 내용"
   ]
  },
  {
   "cell_type": "markdown",
   "metadata": {
    "id": "-67MJSNHEMF6"
   },
   "source": [
    "만족도에서 강한 호불호를 나타낸 사람이 많다.\n",
    "통신사의 어떤 부분이 선호되는 부분이고, 비선호되는 부분인지 확인지 필요하다.\n",
    "\n",
    "또한 Very_unsat과 unsat이 도합 60%를 넘어설 정도로 많은데, 특정 사건이 일어난 뒤에 한 만족도 조사인지, 그렇다면 그 사건이 무엇이고 보상 혹은 해결 방안이 무엇인지 확인해야한다.\n",
    "\n",
    "만약, 특별한 사건이 없었는데 이런 결과가 나온 것이라면 전체적인 서비스 점검이 필요하다.."
   ]
  },
  {
   "cell_type": "markdown",
   "metadata": {
    "id": "cYkgwG47evaF",
    "toc-hr-collapsed": true
   },
   "source": [
    "### 2) COLLEGE"
   ]
  },
  {
   "cell_type": "code",
   "execution_count": 13,
   "metadata": {},
   "outputs": [
    {
     "data": {
      "text/html": [
       "<div>\n",
       "<style scoped>\n",
       "    .dataframe tbody tr th:only-of-type {\n",
       "        vertical-align: middle;\n",
       "    }\n",
       "\n",
       "    .dataframe tbody tr th {\n",
       "        vertical-align: top;\n",
       "    }\n",
       "\n",
       "    .dataframe thead th {\n",
       "        text-align: right;\n",
       "    }\n",
       "</style>\n",
       "<table border=\"1\" class=\"dataframe\">\n",
       "  <thead>\n",
       "    <tr style=\"text-align: right;\">\n",
       "      <th></th>\n",
       "      <th>COLLEGE</th>\n",
       "      <th>INCOME</th>\n",
       "      <th>OVERAGE</th>\n",
       "      <th>LEFTOVER</th>\n",
       "      <th>HOUSE</th>\n",
       "      <th>HANDSET_PRICE</th>\n",
       "      <th>AVERAGE_CALL_DURATION</th>\n",
       "      <th>REPORTED_SATISFACTION</th>\n",
       "      <th>CONSIDERING_CHANGE_OF_PLAN</th>\n",
       "      <th>CHURN</th>\n",
       "    </tr>\n",
       "  </thead>\n",
       "  <tbody>\n",
       "    <tr>\n",
       "      <th>0</th>\n",
       "      <td>1</td>\n",
       "      <td>47711</td>\n",
       "      <td>183</td>\n",
       "      <td>17</td>\n",
       "      <td>730589.0</td>\n",
       "      <td>192</td>\n",
       "      <td>5</td>\n",
       "      <td>unsat</td>\n",
       "      <td>considering</td>\n",
       "      <td>0</td>\n",
       "    </tr>\n",
       "    <tr>\n",
       "      <th>1</th>\n",
       "      <td>0</td>\n",
       "      <td>74132</td>\n",
       "      <td>191</td>\n",
       "      <td>43</td>\n",
       "      <td>535092.0</td>\n",
       "      <td>349</td>\n",
       "      <td>2</td>\n",
       "      <td>unsat</td>\n",
       "      <td>no</td>\n",
       "      <td>1</td>\n",
       "    </tr>\n",
       "    <tr>\n",
       "      <th>2</th>\n",
       "      <td>1</td>\n",
       "      <td>150419</td>\n",
       "      <td>0</td>\n",
       "      <td>14</td>\n",
       "      <td>204004.0</td>\n",
       "      <td>682</td>\n",
       "      <td>6</td>\n",
       "      <td>unsat</td>\n",
       "      <td>considering</td>\n",
       "      <td>0</td>\n",
       "    </tr>\n",
       "    <tr>\n",
       "      <th>3</th>\n",
       "      <td>0</td>\n",
       "      <td>159567</td>\n",
       "      <td>0</td>\n",
       "      <td>58</td>\n",
       "      <td>281969.0</td>\n",
       "      <td>634</td>\n",
       "      <td>1</td>\n",
       "      <td>very_unsat</td>\n",
       "      <td>never_thought</td>\n",
       "      <td>0</td>\n",
       "    </tr>\n",
       "    <tr>\n",
       "      <th>4</th>\n",
       "      <td>1</td>\n",
       "      <td>23392</td>\n",
       "      <td>0</td>\n",
       "      <td>0</td>\n",
       "      <td>216707.0</td>\n",
       "      <td>233</td>\n",
       "      <td>15</td>\n",
       "      <td>unsat</td>\n",
       "      <td>no</td>\n",
       "      <td>1</td>\n",
       "    </tr>\n",
       "  </tbody>\n",
       "</table>\n",
       "</div>"
      ],
      "text/plain": [
       "   COLLEGE  INCOME  OVERAGE  LEFTOVER     HOUSE  HANDSET_PRICE  \\\n",
       "0        1   47711      183        17  730589.0            192   \n",
       "1        0   74132      191        43  535092.0            349   \n",
       "2        1  150419        0        14  204004.0            682   \n",
       "3        0  159567        0        58  281969.0            634   \n",
       "4        1   23392        0         0  216707.0            233   \n",
       "\n",
       "   AVERAGE_CALL_DURATION REPORTED_SATISFACTION CONSIDERING_CHANGE_OF_PLAN  \\\n",
       "0                      5                 unsat                considering   \n",
       "1                      2                 unsat                         no   \n",
       "2                      6                 unsat                considering   \n",
       "3                      1            very_unsat              never_thought   \n",
       "4                     15                 unsat                         no   \n",
       "\n",
       "   CHURN  \n",
       "0      0  \n",
       "1      1  \n",
       "2      0  \n",
       "3      0  \n",
       "4      1  "
      ]
     },
     "execution_count": 13,
     "metadata": {},
     "output_type": "execute_result"
    }
   ],
   "source": [
    "mobile.head()"
   ]
  },
  {
   "cell_type": "code",
   "execution_count": 14,
   "metadata": {
    "id": "bUzXvik-Ka88"
   },
   "outputs": [
    {
     "name": "stdout",
     "output_type": "stream",
     "text": [
      "변수 유형은  범주 형이고,  대학졸업 여부 입니다.\n",
      "==================================================\n",
      "전처리\n",
      "--------------------------------------------------\n",
      "==================================================\n",
      "기초통계량\n",
      "--------------------------------------------------\n",
      "1    9049\n",
      "0    8951\n",
      "Name: COLLEGE, dtype: int64\n",
      "--------------------------------------------------\n",
      "1    0.502722\n",
      "0    0.497278\n",
      "Name: COLLEGE, dtype: float64\n",
      "==================================================\n",
      "분포\n",
      "--------------------------------------------------\n",
      "1    9049\n",
      "0    8951\n",
      "Name: COLLEGE, dtype: int64\n",
      "--------------------------------------------------\n"
     ]
    },
    {
     "data": {
      "image/png": "[encoded data removed]",
      "text/plain": [
       "<Figure size 720x288 with 2 Axes>"
      ]
     },
     "metadata": {
      "needs_background": "light"
     },
     "output_type": "display_data"
    },
    {
     "name": "stdout",
     "output_type": "stream",
     "text": [
      "==================================================\n"
     ]
    }
   ],
   "source": [
    "feature = 'COLLEGE'\n",
    "variable_type = '범주'\n",
    "meaning = '대학졸업 여부'\n",
    "\n",
    "univariate_meaning(variable_type, meaning)\n",
    "\n",
    "pre_mobile, pre_feature = univariate_preprocessing(mobile, feature, variable_type)\n",
    "\n",
    "univariate_stats(mobile, feature, variable_type)\n",
    "\n",
    "univariate_distribution(mobile, feature, variable_type)"
   ]
  },
  {
   "cell_type": "markdown",
   "metadata": {
    "id": "-wJGhdutEPTS",
    "tags": [],
    "toc-hr-collapsed": true
   },
   "source": [
    "##### 파악한 내용"
   ]
  },
  {
   "cell_type": "markdown",
   "metadata": {
    "id": "_aotNSmkEPQR"
   },
   "source": [
    "대학 졸업 여부가 약 반반 정도로 매우 유사한 분포를 보이고 있다."
   ]
  },
  {
   "cell_type": "markdown",
   "metadata": {
    "id": "UNgJNBEIfB1p",
    "toc-hr-collapsed": true
   },
   "source": [
    "### 3) CONSIDERING_CHANGE_OF_PLAN"
   ]
  },
  {
   "cell_type": "code",
   "execution_count": 15,
   "metadata": {
    "id": "7FsVbJ_mKi15"
   },
   "outputs": [
    {
     "name": "stdout",
     "output_type": "stream",
     "text": [
      "변수 유형은  범주 형이고,  변경 계획 설문 입니다.\n",
      "==================================================\n",
      "전처리\n",
      "--------------------------------------------------\n",
      "==================================================\n",
      "기초통계량\n",
      "--------------------------------------------------\n",
      "considering                 7141\n",
      "actively_looking_into_it    4453\n",
      "no                          3644\n",
      "never_thought               1804\n",
      "perhaps                      958\n",
      "Name: CONSIDERING_CHANGE_OF_PLAN, dtype: int64\n",
      "--------------------------------------------------\n",
      "considering                 0.396722\n",
      "actively_looking_into_it    0.247389\n",
      "no                          0.202444\n",
      "never_thought               0.100222\n",
      "perhaps                     0.053222\n",
      "Name: CONSIDERING_CHANGE_OF_PLAN, dtype: float64\n",
      "==================================================\n",
      "분포\n",
      "--------------------------------------------------\n",
      "considering                 7141\n",
      "actively_looking_into_it    4453\n",
      "no                          3644\n",
      "never_thought               1804\n",
      "perhaps                      958\n",
      "Name: CONSIDERING_CHANGE_OF_PLAN, dtype: int64\n",
      "--------------------------------------------------\n"
     ]
    },
    {
     "data": {
      "image/png": "[encoded data removed]",
      "text/plain": [
       "<Figure size 720x288 with 2 Axes>"
      ]
     },
     "metadata": {
      "needs_background": "light"
     },
     "output_type": "display_data"
    },
    {
     "name": "stdout",
     "output_type": "stream",
     "text": [
      "==================================================\n"
     ]
    }
   ],
   "source": [
    "feature = 'CONSIDERING_CHANGE_OF_PLAN'\n",
    "variable_type = '범주'\n",
    "meaning = '변경 계획 설문'\n",
    "\n",
    "univariate_meaning(variable_type, meaning)\n",
    "\n",
    "pre_mobile, pre_feature = univariate_preprocessing(mobile, feature, variable_type)\n",
    "\n",
    "univariate_stats(mobile, feature, variable_type)\n",
    "\n",
    "univariate_distribution(mobile, feature, variable_type)"
   ]
  },
  {
   "cell_type": "markdown",
   "metadata": {
    "id": "5bpbg_e7ERk3"
   },
   "source": [
    "##### 파악한 내용"
   ]
  },
  {
   "cell_type": "markdown",
   "metadata": {
    "id": "QYb8bCyrERh_"
   },
   "source": [
    "통신사 변경을 고려하거나, 찾는 중이라는 고객이 과반수 이상을 차지하고 있다.\n",
    "\n",
    "위에서 보았던 만족도 설문과 더불어, 만족도가 낮은 사람들이 변경을 고려 중인지 확인해보는 것이 필요하다."
   ]
  },
  {
   "cell_type": "markdown",
   "metadata": {
    "id": "e3QPEq8efB1r"
   },
   "source": [
    "### 4) INCOME"
   ]
  },
  {
   "cell_type": "code",
   "execution_count": 16,
   "metadata": {
    "id": "H4Oa5BnzKme9"
   },
   "outputs": [
    {
     "name": "stdout",
     "output_type": "stream",
     "text": [
      "변수 유형은  숫자 형이고,  연 수입액(달러) 입니다.\n",
      "==================================================\n",
      "전처리\n",
      "--------------------------------------------------\n",
      "==================================================\n",
      "기초통계량\n",
      "--------------------------------------------------\n",
      "count     18000.000000\n",
      "mean      80314.400278\n",
      "std       41703.420130\n",
      "min       20007.000000\n",
      "25%       42151.500000\n",
      "50%       75501.500000\n",
      "75%      116082.250000\n",
      "max      159983.000000\n",
      "Name: INCOME, dtype: float64\n",
      "중앙값:  75501.5 \n",
      "최빈값:  0    28798\n",
      "1    57467\n",
      "dtype: int64\n",
      "==================================================\n",
      "분포\n",
      "--------------------------------------------------\n",
      "빈도수 :  [1892. 1909. 1827. 1239. 1089. 1112. 1132. 1064. 1045.  930.  944.  944.\n",
      "  933.  923. 1017.]\n",
      "구간값 :  [ 20007.          29338.73333333  38670.46666667  48002.2\n",
      "  57333.93333333  66665.66666667  75997.4         85329.13333333\n",
      "  94660.86666667 103992.6        113324.33333333 122656.06666667\n",
      " 131987.8        141319.53333333 150651.26666667 159983.        ]\n"
     ]
    },
    {
     "data": {
      "image/png": "[encoded data removed]",
      "text/plain": [
       "<Figure size 576x432 with 4 Axes>"
      ]
     },
     "metadata": {
      "needs_background": "light"
     },
     "output_type": "display_data"
    },
    {
     "name": "stdout",
     "output_type": "stream",
     "text": [
      "==================================================\n"
     ]
    }
   ],
   "source": [
    "feature = 'INCOME'\n",
    "variable_type = '숫자'\n",
    "meaning = '연 수입액(달러)'\n",
    "\n",
    "univariate_meaning(variable_type, meaning)\n",
    "\n",
    "pre_mobile, pre_feature = univariate_preprocessing(mobile, feature, variable_type)\n",
    "\n",
    "univariate_stats(mobile, feature, variable_type)\n",
    "\n",
    "univariate_distribution(mobile, feature, variable_type, bins=15)"
   ]
  },
  {
   "cell_type": "markdown",
   "metadata": {
    "id": "nb1zmTAgEUS3"
   },
   "source": [
    "##### 파악한 내용"
   ]
  },
  {
   "cell_type": "markdown",
   "metadata": {},
   "source": [
    "약 50000달러를 기준으로 그 이하인 사람들의 빈도가 높다.\n",
    "이는 통신사 국가 임금분포와의 비교가 필요한 부분이라고 생각된다.\n",
    "아마 국가 내의 임금 분포가 이런 식이지는 않을까?"
   ]
  },
  {
   "cell_type": "markdown",
   "metadata": {
    "id": "E5rB6CiofI_d"
   },
   "source": [
    "### 5) OVERAGE"
   ]
  },
  {
   "cell_type": "code",
   "execution_count": 17,
   "metadata": {
    "id": "BoOX0VRsKped"
   },
   "outputs": [
    {
     "name": "stdout",
     "output_type": "stream",
     "text": [
      "변수 유형은  숫자 형이고,  월 초과사용 시간(분) 입니다.\n",
      "==================================================\n",
      "전처리\n",
      "--------------------------------------------------\n",
      "==================================================\n",
      "기초통계량\n",
      "--------------------------------------------------\n",
      "count    18000.000000\n",
      "mean        86.014833\n",
      "std         85.963981\n",
      "min         -2.000000\n",
      "25%          0.000000\n",
      "50%         59.000000\n",
      "75%        179.000000\n",
      "max        335.000000\n",
      "Name: OVERAGE, dtype: float64\n",
      "중앙값:  59.0 \n",
      "최빈값:  0    0\n",
      "dtype: int64\n",
      "==================================================\n",
      "분포\n",
      "--------------------------------------------------\n",
      "빈도수 :  [6.143e+03 7.200e+02 3.101e+03 1.826e+03 2.000e+02 7.400e+01 3.800e+02\n",
      " 9.640e+02 1.678e+03 1.592e+03 9.610e+02 3.000e+02 5.600e+01 4.000e+00\n",
      " 1.000e+00]\n",
      "구간값 :  [ -2.          20.46666667  42.93333333  65.4         87.86666667\n",
      " 110.33333333 132.8        155.26666667 177.73333333 200.2\n",
      " 222.66666667 245.13333333 267.6        290.06666667 312.53333333\n",
      " 335.        ]\n"
     ]
    },
    {
     "data": {
      "image/png": "[encoded data removed]",
      "text/plain": [
       "<Figure size 576x432 with 4 Axes>"
      ]
     },
     "metadata": {
      "needs_background": "light"
     },
     "output_type": "display_data"
    },
    {
     "name": "stdout",
     "output_type": "stream",
     "text": [
      "==================================================\n"
     ]
    }
   ],
   "source": [
    "feature = 'OVERAGE'\n",
    "variable_type = '숫자'\n",
    "meaning = '월 초과사용 시간(분)'\n",
    "\n",
    "univariate_meaning(variable_type, meaning)\n",
    "\n",
    "pre_mobile, pre_feature = univariate_preprocessing(mobile, feature, variable_type)\n",
    "\n",
    "univariate_stats(mobile, feature, variable_type)\n",
    "\n",
    "univariate_distribution(mobile, feature, variable_type, bins=15)"
   ]
  },
  {
   "cell_type": "markdown",
   "metadata": {
    "id": "e0BoQmeOEWgF"
   },
   "source": [
    "##### 파악한 내용"
   ]
  },
  {
   "cell_type": "markdown",
   "metadata": {},
   "source": [
    "0에 가까운 초과사용시간을 가진 고객들이 눈에 띄게 많으며, 이 고객들은 어떤 이탈 분포를 가지고 있는지 확인해보면 좋을 것 같다."
   ]
  },
  {
   "cell_type": "markdown",
   "metadata": {
    "id": "Es3rqfErEb4L"
   },
   "source": [
    "### 6) HANDSET_PRICE"
   ]
  },
  {
   "cell_type": "code",
   "execution_count": 18,
   "metadata": {
    "id": "CokPil3nLCc7"
   },
   "outputs": [
    {
     "name": "stdout",
     "output_type": "stream",
     "text": [
      "변수 유형은  숫자 형이고,  핸드폰 가격(달러) 입니다.\n",
      "==================================================\n",
      "전처리\n",
      "--------------------------------------------------\n",
      "==================================================\n",
      "기초통계량\n",
      "--------------------------------------------------\n",
      "count    18000.000000\n",
      "mean       390.096667\n",
      "std        214.239639\n",
      "min        130.000000\n",
      "25%        219.000000\n",
      "50%        326.000000\n",
      "75%        536.000000\n",
      "max        899.000000\n",
      "Name: HANDSET_PRICE, dtype: float64\n",
      "중앙값:  326.0 \n",
      "최빈값:  0    209\n",
      "dtype: int64\n",
      "==================================================\n",
      "분포\n",
      "--------------------------------------------------\n",
      "빈도수 :  [3851. 3465. 3036. 1983.  911.  939.  959. 1002.  916.  938.]\n",
      "구간값 :  [130.  206.9 283.8 360.7 437.6 514.5 591.4 668.3 745.2 822.1 899. ]\n"
     ]
    },
    {
     "data": {
      "image/png": "[encoded data removed]",
      "text/plain": [
       "<Figure size 576x432 with 4 Axes>"
      ]
     },
     "metadata": {
      "needs_background": "light"
     },
     "output_type": "display_data"
    },
    {
     "name": "stdout",
     "output_type": "stream",
     "text": [
      "==================================================\n"
     ]
    }
   ],
   "source": [
    "feature = 'HANDSET_PRICE'\n",
    "variable_type = '숫자'\n",
    "meaning = '핸드폰 가격(달러)'\n",
    "\n",
    "univariate_meaning(variable_type, meaning)\n",
    "\n",
    "pre_mobile, pre_feature = univariate_preprocessing(mobile, feature, variable_type)\n",
    "\n",
    "univariate_stats(mobile, feature, variable_type)\n",
    "\n",
    "univariate_distribution(mobile, feature, variable_type)"
   ]
  },
  {
   "cell_type": "markdown",
   "metadata": {
    "id": "bURrEvizEYy6"
   },
   "source": [
    "##### 파악한 내용"
   ]
  },
  {
   "cell_type": "markdown",
   "metadata": {},
   "source": [
    "약 400달러를 기준으로 이하인 고객이 많으며, 이상인 고객들이 적다. \n",
    "400달러 정도를 기준으로 프리미엄폰 가격이 형성되는 것으로 추정된다. 확인이 필요하다."
   ]
  },
  {
   "cell_type": "markdown",
   "metadata": {
    "id": "78iry0XpLCc0"
   },
   "source": [
    "### 7) CHURN(target)"
   ]
  },
  {
   "cell_type": "code",
   "execution_count": 19,
   "metadata": {
    "id": "XJ0YIFJrEb4R"
   },
   "outputs": [
    {
     "name": "stdout",
     "output_type": "stream",
     "text": [
      "변수 유형은  범주 형이고,  이탈여부 입니다.\n",
      "==================================================\n",
      "전처리\n",
      "--------------------------------------------------\n",
      "==================================================\n",
      "기초통계량\n",
      "--------------------------------------------------\n",
      "0    9131\n",
      "1    8869\n",
      "Name: CHURN, dtype: int64\n",
      "--------------------------------------------------\n",
      "0    0.507278\n",
      "1    0.492722\n",
      "Name: CHURN, dtype: float64\n",
      "==================================================\n",
      "분포\n",
      "--------------------------------------------------\n",
      "0    9131\n",
      "1    8869\n",
      "Name: CHURN, dtype: int64\n",
      "--------------------------------------------------\n"
     ]
    },
    {
     "data": {
      "image/png": "[encoded data removed]",
      "text/plain": [
       "<Figure size 720x288 with 2 Axes>"
      ]
     },
     "metadata": {
      "needs_background": "light"
     },
     "output_type": "display_data"
    },
    {
     "name": "stdout",
     "output_type": "stream",
     "text": [
      "==================================================\n"
     ]
    }
   ],
   "source": [
    "feature = 'CHURN'\n",
    "variable_type = '범주'\n",
    "meaning = '이탈여부'\n",
    "\n",
    "univariate_meaning(variable_type, meaning)\n",
    "\n",
    "pre_mobile, pre_feature = univariate_preprocessing(mobile, feature, variable_type)\n",
    "\n",
    "univariate_stats(mobile, feature, variable_type)\n",
    "\n",
    "univariate_distribution(mobile, feature, variable_type)"
   ]
  },
  {
   "cell_type": "markdown",
   "metadata": {
    "id": "626cRSYjEb4R"
   },
   "source": [
    "##### 파악한 내용"
   ]
  },
  {
   "cell_type": "markdown",
   "metadata": {
    "id": "vXTWiazJEb4R"
   },
   "source": [
    "이탈여부가 반반에 가까우며, 이탈고객이 약 1% 정도 적다.\n",
    "이탈 고객과 잔류 고객의 만족도 차이를 보면 좋을 것 같다."
   ]
  },
  {
   "cell_type": "code",
   "execution_count": null,
   "metadata": {
    "id": "_J4LqspjEb4R"
   },
   "outputs": [],
   "source": []
  },
  {
   "cell_type": "code",
   "execution_count": null,
   "metadata": {
    "id": "L5_tBDWkEb4R"
   },
   "outputs": [],
   "source": []
  },
  {
   "cell_type": "markdown",
   "metadata": {
    "id": "I_LEx3qrElFy"
   },
   "source": [
    "### 8) 추가1"
   ]
  },
  {
   "cell_type": "code",
   "execution_count": null,
   "metadata": {
    "id": "wyvZvb9mElF0"
   },
   "outputs": [],
   "source": []
  },
  {
   "cell_type": "code",
   "execution_count": null,
   "metadata": {
    "id": "DeY24rCtElF1"
   },
   "outputs": [],
   "source": []
  },
  {
   "cell_type": "code",
   "execution_count": null,
   "metadata": {
    "id": "BENvl52-ElF1"
   },
   "outputs": [],
   "source": []
  },
  {
   "cell_type": "code",
   "execution_count": null,
   "metadata": {
    "id": "HV42AiIgElF2"
   },
   "outputs": [],
   "source": []
  },
  {
   "cell_type": "code",
   "execution_count": null,
   "metadata": {
    "id": "lZXqKrYlElF3"
   },
   "outputs": [],
   "source": []
  },
  {
   "cell_type": "markdown",
   "metadata": {
    "id": "2V44ES-3ElPI"
   },
   "source": [
    "### 9) 추가2"
   ]
  },
  {
   "cell_type": "code",
   "execution_count": null,
   "metadata": {
    "id": "NJUgw3cLElPJ"
   },
   "outputs": [],
   "source": []
  },
  {
   "cell_type": "code",
   "execution_count": null,
   "metadata": {
    "id": "R242REBYElPJ"
   },
   "outputs": [],
   "source": []
  },
  {
   "cell_type": "code",
   "execution_count": null,
   "metadata": {
    "id": "O0ljvKB9ElPK"
   },
   "outputs": [],
   "source": []
  },
  {
   "cell_type": "code",
   "execution_count": null,
   "metadata": {
    "id": "33eOZSyHElPK"
   },
   "outputs": [],
   "source": []
  },
  {
   "cell_type": "code",
   "execution_count": null,
   "metadata": {
    "id": "7xrvgA3xElPL"
   },
   "outputs": [],
   "source": []
  },
  {
   "cell_type": "markdown",
   "metadata": {
    "id": "JtuaNNKyEmOL"
   },
   "source": [
    "### 10) 추가3"
   ]
  },
  {
   "cell_type": "code",
   "execution_count": null,
   "metadata": {
    "id": "iFeD-vwlEmOM"
   },
   "outputs": [],
   "source": []
  },
  {
   "cell_type": "code",
   "execution_count": null,
   "metadata": {
    "id": "tkf9ymn_EmOM"
   },
   "outputs": [],
   "source": []
  },
  {
   "cell_type": "code",
   "execution_count": null,
   "metadata": {
    "id": "LKhKlHlHEmOM"
   },
   "outputs": [],
   "source": []
  },
  {
   "cell_type": "code",
   "execution_count": null,
   "metadata": {
    "id": "wwaJxVOAEmOM"
   },
   "outputs": [],
   "source": []
  },
  {
   "cell_type": "code",
   "execution_count": null,
   "metadata": {
    "id": "QVzAdTHyEmON"
   },
   "outputs": [],
   "source": []
  },
  {
   "cell_type": "markdown",
   "metadata": {
    "id": "ZghJJ7yLEpDA"
   },
   "source": [
    "## 3.이변량 분석 \n",
    "* 자료의 종류에 맞게 X --> Y 에 대해서 그래프(시각화)와 가설검정(수치화)를 수행하고 결과를 평가합니다.\n",
    "* 가설검정시 다음의 항목을 참조하여 수행합니다.\n",
    "    * 유의수준 : 5%\n",
    "    * 숫자 --> 숫자 : 상관분석\n",
    "    * 범주 --> 범주 : 카이제곱검정\n",
    "    * 범주 --> 숫자 : t검정, 분산분석\n",
    "    * 숫자 --> 범주 : 로지스틱 회귀모형을 통해, 회귀계수의 P.value로 검정을 수행합니다.\n"
   ]
  },
  {
   "cell_type": "code",
   "execution_count": 20,
   "metadata": {
    "id": "qiWKeotjGkLp"
   },
   "outputs": [],
   "source": [
    "target = 'CHURN'"
   ]
  },
  {
   "cell_type": "markdown",
   "metadata": {
    "id": "fap08wfEMqtY"
   },
   "source": [
    "### (1) 범주형 Feature --> CHURN\n",
    "* 모든 범주형 Feature에 대해서 Y와 비교하여 차트를 그리고 수치화 하시오.  \n",
    "    ① 교차표(pd.crosstab())  \n",
    "    ② 시각화( Stacked Bar, Mosaic)  \n",
    "    ③ 가설검정(카이제곱검정)\n",
    "* 각 feature 별로 관계의 정도를 3가지로 정리해봅시다. "
   ]
  },
  {
   "cell_type": "code",
   "execution_count": 21,
   "metadata": {},
   "outputs": [],
   "source": [
    "def cat2cat_crosstab(data, target, feature):\n",
    "    print(pd.crosstab(data[target], data[feature]))\n",
    "    print('-'*50)\n",
    "    print(pd.crosstab(data[target], data[feature], normalize = 'columns'))\n",
    "    print('-'*50)\n",
    "    print(pd.crosstab(data[target], data[feature], normalize = 'index'))\n",
    "    print('-'*50)\n",
    "    print(pd.crosstab(data[target], data[feature], normalize = 'all'))\n",
    "    print('='*100)"
   ]
  },
  {
   "cell_type": "code",
   "execution_count": 22,
   "metadata": {},
   "outputs": [],
   "source": [
    "def cat2cat_visualization(data, target, feature):\n",
    "    temp = pd.crosstab(data[feature], data[target], normalize = 'index')\n",
    "    print(temp)\n",
    "\n",
    "    temp.plot.bar(stacked=True)\n",
    "    plt.axhline(1-data[target].mean(), color = 'r')\n",
    "    plt.tight_layout()\n",
    "    plt.show()\n",
    "    mosaic(data.sort_values([feature, target]), [feature, target], gap = 0.01)\n",
    "    plt.axhline(1- data[target].mean(), color = 'r')\n",
    "    plt.tight_layout()\n",
    "    plt.show()\n",
    "    print('='*100)"
   ]
  },
  {
   "cell_type": "code",
   "execution_count": 23,
   "metadata": {},
   "outputs": [],
   "source": [
    "def cat2cat_stats(data, target, feature):\n",
    "    # 먼저 집계\n",
    "    table = pd.crosstab(data[feature], data[target])\n",
    "    print('교차표\\n', table)\n",
    "    print('-' * 100)\n",
    "\n",
    "    # 카이제곱검정\n",
    "    result = spst.chi2_contingency(table)\n",
    "    print('카이제곱통계량', result[0])\n",
    "    print('p-value', result[1])\n",
    "    print('자유도', result[2])\n",
    "    print('기대빈도\\n',result[3])"
   ]
  },
  {
   "cell_type": "markdown",
   "metadata": {
    "id": "Dh2UW7_S-yoq"
   },
   "source": [
    "#### 1) REPORTED_SATISFACTION --> CHURN"
   ]
  },
  {
   "cell_type": "code",
   "execution_count": 24,
   "metadata": {
    "id": "EWXtZEr_X0ok"
   },
   "outputs": [
    {
     "name": "stdout",
     "output_type": "stream",
     "text": [
      "REPORTED_SATISFACTION  avg  sat  unsat  very_sat  very_unsat\n",
      "CHURN                                                       \n",
      "0                      952  492   1792      2334        3543\n",
      "1                      854  440   1798      2228        3529\n",
      "--------------------------------------------------\n",
      "REPORTED_SATISFACTION       avg       sat     unsat  very_sat  very_unsat\n",
      "CHURN                                                                    \n",
      "0                      0.527132  0.527897  0.499164  0.511618     0.50099\n",
      "1                      0.472868  0.472103  0.500836  0.488382     0.49901\n",
      "--------------------------------------------------\n",
      "REPORTED_SATISFACTION       avg       sat     unsat  very_sat  very_unsat\n",
      "CHURN                                                                    \n",
      "0                      0.104466  0.053989  0.196642  0.256118    0.388785\n",
      "1                      0.096508  0.049723  0.203187  0.251780    0.398802\n",
      "--------------------------------------------------\n",
      "REPORTED_SATISFACTION       avg       sat     unsat  very_sat  very_unsat\n",
      "CHURN                                                                    \n",
      "0                      0.053001  0.027391  0.099766  0.129941     0.19725\n",
      "1                      0.047545  0.024496  0.100100  0.124040     0.19647\n",
      "====================================================================================================\n",
      "CHURN                         0         1\n",
      "REPORTED_SATISFACTION                    \n",
      "avg                    0.527132  0.472868\n",
      "sat                    0.527897  0.472103\n",
      "unsat                  0.499164  0.500836\n",
      "very_sat               0.511618  0.488382\n",
      "very_unsat             0.500990  0.499010\n"
     ]
    },
    {
     "data": {
      "image/png": "[encoded data removed]",
      "text/plain": [
       "<Figure size 432x288 with 1 Axes>"
      ]
     },
     "metadata": {
      "needs_background": "light"
     },
     "output_type": "display_data"
    },
    {
     "data": {
      "image/png": "[encoded data removed]",
      "text/plain": [
       "<Figure size 432x288 with 3 Axes>"
      ]
     },
     "metadata": {
      "needs_background": "light"
     },
     "output_type": "display_data"
    },
    {
     "name": "stdout",
     "output_type": "stream",
     "text": [
      "====================================================================================================\n",
      "교차표\n",
      " CHURN                     0     1\n",
      "REPORTED_SATISFACTION            \n",
      "avg                     952   854\n",
      "sat                     492   440\n",
      "unsat                  1792  1798\n",
      "very_sat               2334  2228\n",
      "very_unsat             3543  3529\n",
      "----------------------------------------------------------------------------------------------------\n",
      "카이제곱통계량 6.841100957205645\n",
      "p-value 0.14452738878905058\n",
      "자유도 4\n",
      "기대빈도\n",
      " [[ 916.27201871  889.72798129]\n",
      " [ 472.84912593  459.15087407]\n",
      " [1821.38236277 1768.61763723]\n",
      " [2314.5254426  2247.4745574 ]\n",
      " [3587.97104999 3484.02895001]]\n"
     ]
    }
   ],
   "source": [
    "target = 'CHURN'\n",
    "feature = 'REPORTED_SATISFACTION'\n",
    "\n",
    "cat2cat_crosstab(mobile, target, feature)\n",
    "cat2cat_visualization(mobile, target, feature)\n",
    "cat2cat_stats(mobile, target, feature)"
   ]
  },
  {
   "cell_type": "markdown",
   "metadata": {
    "id": "T1VEUO2DFQZd"
   },
   "source": [
    ">##### 파악한 내용(없음)"
   ]
  },
  {
   "cell_type": "markdown",
   "metadata": {
    "id": "iRNinsgWFQGF"
   },
   "source": [
    "그래프와 카이제곱 통계량을 보았을 때, 유의하지 않은 변수로 보인다.\n",
    "만족도와 이탈은 상관이 없는걸까? \n",
    "\n",
    "만약, 만족도설문의 시점과 이탈 시점이 동일하다면 만족도보다는 다른 요소들의 영향을 크게 받았을 것이며 시점이 상이하다면 이탈 시점에 만족도가 달라졌을 수도 있다고 고려된다."
   ]
  },
  {
   "cell_type": "code",
   "execution_count": null,
   "metadata": {
    "id": "rnJwF8-dFQCg"
   },
   "outputs": [],
   "source": []
  },
  {
   "cell_type": "code",
   "execution_count": null,
   "metadata": {
    "id": "Ch0ZeVooFP-g"
   },
   "outputs": [],
   "source": []
  },
  {
   "cell_type": "markdown",
   "metadata": {
    "id": "4Xeo68yeLU98"
   },
   "source": [
    "#### 2) CONSIDERING_CHANGE_OF_PLAN --> CHURN"
   ]
  },
  {
   "cell_type": "code",
   "execution_count": 25,
   "metadata": {
    "id": "rA7_WcWzLU-E"
   },
   "outputs": [
    {
     "name": "stdout",
     "output_type": "stream",
     "text": [
      "CONSIDERING_CHANGE_OF_PLAN  actively_looking_into_it  considering  \\\n",
      "CHURN                                                               \n",
      "0                                               2278         3648   \n",
      "1                                               2175         3493   \n",
      "\n",
      "CONSIDERING_CHANGE_OF_PLAN  never_thought    no  perhaps  \n",
      "CHURN                                                     \n",
      "0                                     926  1823      456  \n",
      "1                                     878  1821      502  \n",
      "--------------------------------------------------\n",
      "CONSIDERING_CHANGE_OF_PLAN  actively_looking_into_it  considering  \\\n",
      "CHURN                                                               \n",
      "0                                           0.511565     0.510853   \n",
      "1                                           0.488435     0.489147   \n",
      "\n",
      "CONSIDERING_CHANGE_OF_PLAN  never_thought        no   perhaps  \n",
      "CHURN                                                          \n",
      "0                                0.513304  0.500274  0.475992  \n",
      "1                                0.486696  0.499726  0.524008  \n",
      "--------------------------------------------------\n",
      "CONSIDERING_CHANGE_OF_PLAN  actively_looking_into_it  considering  \\\n",
      "CHURN                                                               \n",
      "0                                           0.249480     0.399518   \n",
      "1                                           0.245236     0.393844   \n",
      "\n",
      "CONSIDERING_CHANGE_OF_PLAN  never_thought        no   perhaps  \n",
      "CHURN                                                          \n",
      "0                                0.101413  0.199650  0.049940  \n",
      "1                                0.098997  0.205322  0.056602  \n",
      "--------------------------------------------------\n",
      "CONSIDERING_CHANGE_OF_PLAN  actively_looking_into_it  considering  \\\n",
      "CHURN                                                               \n",
      "0                                           0.126556     0.202667   \n",
      "1                                           0.120833     0.194056   \n",
      "\n",
      "CONSIDERING_CHANGE_OF_PLAN  never_thought        no   perhaps  \n",
      "CHURN                                                          \n",
      "0                                0.051444  0.101278  0.025333  \n",
      "1                                0.048778  0.101167  0.027889  \n",
      "====================================================================================================\n",
      "CHURN                              0         1\n",
      "CONSIDERING_CHANGE_OF_PLAN                    \n",
      "actively_looking_into_it    0.511565  0.488435\n",
      "considering                 0.510853  0.489147\n",
      "never_thought               0.513304  0.486696\n",
      "no                          0.500274  0.499726\n",
      "perhaps                     0.475992  0.524008\n"
     ]
    },
    {
     "data": {
      "image/png": "[encoded data removed]",
      "text/plain": [
       "<Figure size 432x288 with 1 Axes>"
      ]
     },
     "metadata": {
      "needs_background": "light"
     },
     "output_type": "display_data"
    },
    {
     "data": {
      "image/png": "[encoded data removed]",
      "text/plain": [
       "<Figure size 432x288 with 3 Axes>"
      ]
     },
     "metadata": {
      "needs_background": "light"
     },
     "output_type": "display_data"
    },
    {
     "name": "stdout",
     "output_type": "stream",
     "text": [
      "====================================================================================================\n",
      "교차표\n",
      " CHURN                          0     1\n",
      "CONSIDERING_CHANGE_OF_PLAN            \n",
      "actively_looking_into_it    2278  2175\n",
      "considering                 3648  3493\n",
      "never_thought                926   878\n",
      "no                          1823  1821\n",
      "perhaps                      456   502\n",
      "----------------------------------------------------------------------------------------------------\n",
      "카이제곱통계량 5.421434419620688\n",
      "p-value 0.24672225866799702\n",
      "자유도 4\n",
      "기대빈도\n",
      " [[2258.90794444 2194.09205556]\n",
      " [3622.47061111 3518.52938889]\n",
      " [ 915.12911111  888.87088889]\n",
      " [1848.52022222 1795.47977778]\n",
      " [ 485.97211111  472.02788889]]\n"
     ]
    }
   ],
   "source": [
    "target = 'CHURN'\n",
    "feature = 'CONSIDERING_CHANGE_OF_PLAN'\n",
    "\n",
    "cat2cat_crosstab(mobile, target, feature)\n",
    "cat2cat_visualization(mobile, target, feature)\n",
    "cat2cat_stats(mobile, target, feature)"
   ]
  },
  {
   "cell_type": "markdown",
   "metadata": {
    "id": "3ZYBcWJ8FSNv"
   },
   "source": [
    ">##### 파악한 내용(없음)"
   ]
  },
  {
   "cell_type": "markdown",
   "metadata": {
    "id": "H8r6fiOjFSKP"
   },
   "source": [
    "변경을 고려 중이라고 하였는데 이탈과 잔류가 유사하게 나타났다.\n",
    "\n",
    "특히 주목해야 할 부분은 actively_looking_into_it의 잔류율이 생각보다 높다는 점인데, 이 경우 핸드폰과 통신사를 선택할 때 신중하게 고민하기 때문에 아직 나가지 않았지만 나갈 예정인 것으로 받아들일 수도 있을 것으로 보인다.\n",
    "actively_looking_into_it의 만족도 설문 분포를 확인하는 것이 좋을 것 같다.\n",
    "\n",
    "perhaps의 경우 유일하게 이탈이 잔류보다 높은데, 이는 중간 정도를 선택하는 심리인 사람들이 많아서 그런 것으로 보인다. (이 통신사, 저 통신사 다 괜찮고.. 나갈 것 같긴 하니 적당한 통신사를 찾아간 것)"
   ]
  },
  {
   "cell_type": "markdown",
   "metadata": {
    "id": "-lZ7bHbDFSG-"
   },
   "source": [
    ">##### 추가분석"
   ]
  },
  {
   "cell_type": "code",
   "execution_count": 26,
   "metadata": {
    "id": "zMUj1rePFSDg"
   },
   "outputs": [
    {
     "name": "stdout",
     "output_type": "stream",
     "text": [
      "변수 유형은  범주 형이고,  매우 불만족인 사람의 변경 계획 입니다.\n",
      "==================================================\n",
      "전처리\n",
      "--------------------------------------------------\n",
      "==================================================\n",
      "분포\n",
      "--------------------------------------------------\n",
      "considering                 7141\n",
      "actively_looking_into_it    4453\n",
      "no                          3644\n",
      "never_thought               1804\n",
      "perhaps                      958\n",
      "Name: CONSIDERING_CHANGE_OF_PLAN, dtype: int64\n",
      "--------------------------------------------------\n"
     ]
    },
    {
     "data": {
      "image/png": "[encoded data removed]",
      "text/plain": [
       "<Figure size 720x288 with 2 Axes>"
      ]
     },
     "metadata": {
      "needs_background": "light"
     },
     "output_type": "display_data"
    },
    {
     "name": "stdout",
     "output_type": "stream",
     "text": [
      "==================================================\n",
      "전처리\n",
      "--------------------------------------------------\n",
      "==================================================\n",
      "분포\n",
      "--------------------------------------------------\n",
      "considering                 7141\n",
      "actively_looking_into_it    4453\n",
      "no                          3644\n",
      "never_thought               1804\n",
      "perhaps                      958\n",
      "Name: CONSIDERING_CHANGE_OF_PLAN, dtype: int64\n",
      "--------------------------------------------------\n"
     ]
    },
    {
     "data": {
      "image/png": "[encoded data removed]",
      "text/plain": [
       "<Figure size 720x288 with 2 Axes>"
      ]
     },
     "metadata": {
      "needs_background": "light"
     },
     "output_type": "display_data"
    },
    {
     "name": "stdout",
     "output_type": "stream",
     "text": [
      "==================================================\n"
     ]
    }
   ],
   "source": [
    "data = mobile[mobile['REPORTED_SATISFACTION'] == 'very_unsat']\n",
    "feature = 'CONSIDERING_CHANGE_OF_PLAN'\n",
    "variable_type = '범주'\n",
    "meaning = '매우 불만족인 사람의 변경 계획'\n",
    "\n",
    "univariate_meaning(variable_type, meaning)\n",
    "\n",
    "pre_mobile, pre_feature = univariate_preprocessing(mobile, feature, variable_type)\n",
    "univariate_distribution(mobile, feature, variable_type)\n",
    "\n",
    "pre_mobile, pre_feature = univariate_preprocessing(data, feature, variable_type)\n",
    "univariate_distribution(pre_mobile, feature, variable_type)"
   ]
  },
  {
   "cell_type": "code",
   "execution_count": null,
   "metadata": {},
   "outputs": [],
   "source": []
  },
  {
   "cell_type": "markdown",
   "metadata": {
    "id": "bdWZCugILZAz"
   },
   "source": [
    "#### 3) COLLEGE --> CHURN"
   ]
  },
  {
   "cell_type": "code",
   "execution_count": 27,
   "metadata": {
    "id": "H7UDK6CKLZAz"
   },
   "outputs": [
    {
     "name": "stdout",
     "output_type": "stream",
     "text": [
      "COLLEGE     0     1\n",
      "CHURN              \n",
      "0        4616  4515\n",
      "1        4335  4534\n",
      "--------------------------------------------------\n",
      "COLLEGE         0        1\n",
      "CHURN                     \n",
      "0        0.515697  0.49895\n",
      "1        0.484303  0.50105\n",
      "--------------------------------------------------\n",
      "COLLEGE         0         1\n",
      "CHURN                      \n",
      "0        0.505531  0.494469\n",
      "1        0.488781  0.511219\n",
      "--------------------------------------------------\n",
      "COLLEGE         0         1\n",
      "CHURN                      \n",
      "0        0.256444  0.250833\n",
      "1        0.240833  0.251889\n",
      "====================================================================================================\n",
      "CHURN           0         1\n",
      "COLLEGE                    \n",
      "0        0.515697  0.484303\n",
      "1        0.498950  0.501050\n"
     ]
    },
    {
     "data": {
      "image/png": "[encoded data removed]",
      "text/plain": [
       "<Figure size 432x288 with 1 Axes>"
      ]
     },
     "metadata": {
      "needs_background": "light"
     },
     "output_type": "display_data"
    },
    {
     "data": {
      "image/png": "[encoded data removed]",
      "text/plain": [
       "<Figure size 432x288 with 3 Axes>"
      ]
     },
     "metadata": {
      "needs_background": "light"
     },
     "output_type": "display_data"
    },
    {
     "name": "stdout",
     "output_type": "stream",
     "text": [
      "====================================================================================================\n",
      "교차표\n",
      " CHURN       0     1\n",
      "COLLEGE            \n",
      "0        4616  4335\n",
      "1        4515  4534\n",
      "----------------------------------------------------------------------------------------------------\n",
      "카이제곱통계량 4.982102934693502\n",
      "p-value 0.02561083347822053\n",
      "자유도 1\n",
      "기대빈도\n",
      " [[4540.64338889 4410.35661111]\n",
      " [4590.35661111 4458.64338889]]\n"
     ]
    }
   ],
   "source": [
    "target = 'CHURN'\n",
    "feature = 'COLLEGE'\n",
    "\n",
    "cat2cat_crosstab(mobile, target, feature)\n",
    "cat2cat_visualization(mobile, target, feature)\n",
    "cat2cat_stats(mobile, target, feature)"
   ]
  },
  {
   "cell_type": "markdown",
   "metadata": {},
   "source": [
    ">##### 파악한 내용(약)"
   ]
  },
  {
   "cell_type": "markdown",
   "metadata": {
    "id": "yzB6q17JFUu2"
   },
   "source": [
    "연령대와 관련이 있을까? 데이터에 연령대가 없어서 확인할 수는 없지만 아주 어리거나 아주 나이가 많은 사람일 경우, 대학을 졸업하지 않은 사람들이 많을 확률이 높으며 핸드폰과 통신사를 자주 교체하지 않을 확률이 높을 것으로 보인다.\n",
    "\n",
    "p-value < .05로 유의하게 나왔지만 실제로 관계가 높아보이지는 않는다.\n",
    "\n",
    "아마 대학졸업 여부를 제외한 다른 연관 요소 (ex. 나이, 연 수입액) 등의 영향이 있을 것으로 보이는데, 사회생활이 활발한 사람의 경우 통신사/핸드폰을 자주 변경할 가능성이 높기 때문이다."
   ]
  },
  {
   "cell_type": "markdown",
   "metadata": {
    "id": "6ks7Mts5ZOIO"
   },
   "source": [
    "#### 4) feature --> CHURN"
   ]
  },
  {
   "cell_type": "code",
   "execution_count": null,
   "metadata": {
    "id": "7vueK_Q2ZOIO"
   },
   "outputs": [],
   "source": []
  },
  {
   "cell_type": "code",
   "execution_count": null,
   "metadata": {
    "id": "ImB9bLtbZOIO"
   },
   "outputs": [],
   "source": []
  },
  {
   "cell_type": "code",
   "execution_count": null,
   "metadata": {
    "id": "a9cd7QE4ZOIO"
   },
   "outputs": [],
   "source": []
  },
  {
   "cell_type": "code",
   "execution_count": null,
   "metadata": {
    "id": "7WEnk6KAZOIO"
   },
   "outputs": [],
   "source": []
  },
  {
   "cell_type": "code",
   "execution_count": null,
   "metadata": {
    "id": "N8r5_bWEZOIO"
   },
   "outputs": [],
   "source": []
  },
  {
   "cell_type": "markdown",
   "metadata": {
    "id": "lUsQ0iBHMqte"
   },
   "source": [
    "### (2) 숫자형 Feature --> CHURN\n",
    "\n",
    "* 숫자형 Feature에 대해서 Y와 비교하여 차트를 그리고 수치화 하시오.  \n",
    "    ① 그래프 : histogram, densityplot   \n",
    "    ② 수치화 : 로지스틱회귀"
   ]
  },
  {
   "cell_type": "code",
   "execution_count": 28,
   "metadata": {},
   "outputs": [],
   "source": [
    "def num2cat_visualization(data, target, feature, bins=10):\n",
    "    plt.figure(figsize=(16, 4))\n",
    "\n",
    "    plt.subplot(1, 4, 1)\n",
    "    sns.histplot(x=feature, data = data, hue = target)\n",
    "\n",
    "    plt.subplot(1, 4, 2)\n",
    "    sns.kdeplot(x=feature, data = data, hue = target, common_norm = False)\n",
    "\n",
    "    plt.subplot(1, 4, 3)\n",
    "    sns.kdeplot(x=feature, data = data, hue = target\n",
    "                , multiple = 'fill')\n",
    "    plt.axhline(data[target].mean(), color = 'r')\n",
    "\n",
    "    plt.subplot(1, 4, 4)\n",
    "    sns.histplot(x=feature, data = data, bins = bins, hue = target, multiple = 'fill')\n",
    "    plt.axhline(data[target].mean(), color = 'r')\n",
    "    plt.suptitle(feature+' Title', fontsize=20)\n",
    "    plt.tight_layout()\n",
    "    plt.show()\n",
    "#     print('='*50)"
   ]
  },
  {
   "cell_type": "code",
   "execution_count": 29,
   "metadata": {},
   "outputs": [],
   "source": [
    "def num2cat_stats(data, target, feature):\n",
    "    # 로지스틱 모형을 만들고 통계량을 구해 봅시다.\n",
    "    print(feature, ' 로지스틱 통계량')\n",
    "    temp = data.loc[data[feature].notnull()]\n",
    "    model = sm.Logit(temp[target], temp[feature])\n",
    "    result = model.fit()\n",
    "#     print(result.summary())\n",
    "    print(result.pvalues)"
   ]
  },
  {
   "cell_type": "markdown",
   "metadata": {
    "id": "F_Mugk3f_y3X"
   },
   "source": [
    "#### 1) HANDSET_PRICE --> CHURN\n"
   ]
  },
  {
   "cell_type": "code",
   "execution_count": 30,
   "metadata": {
    "id": "8ROLKtUueHSn"
   },
   "outputs": [
    {
     "data": {
      "image/png": "[encoded data removed]",
      "text/plain": [
       "<Figure size 1152x288 with 4 Axes>"
      ]
     },
     "metadata": {
      "needs_background": "light"
     },
     "output_type": "display_data"
    },
    {
     "name": "stdout",
     "output_type": "stream",
     "text": [
      "HANDSET_PRICE  로지스틱 통계량\n",
      "Optimization terminated successfully.\n",
      "         Current function value: 0.692730\n",
      "         Iterations 3\n",
      "HANDSET_PRICE    0.000107\n",
      "dtype: float64\n"
     ]
    }
   ],
   "source": [
    "target = 'CHURN'\n",
    "feature = 'HANDSET_PRICE'\n",
    "bins = 10\n",
    "num2cat_visualization(mobile, target, feature, bins)\n",
    "\n",
    "num2cat_stats(mobile, target, feature,)"
   ]
  },
  {
   "cell_type": "markdown",
   "metadata": {},
   "source": [
    ">##### 파악한 내용 (중간)"
   ]
  },
  {
   "cell_type": "markdown",
   "metadata": {
    "id": "V716mlpmFdUE"
   },
   "source": [
    "통신사를 이동함에 있어 영향을 받는 것 중 하나는 핸드폰이다.\n",
    "\n",
    "분석 결과, 크게 핸드폰 가격이 낮은 그룹(약 400달러 기준)과 높은 그룹(약 400달러 이상)으로 나누어져서 낮은 그룹은 잔류가 많고, 높은 그룹은 이탈이 많이 나타난다.\n",
    "- 중간 관계 정도로 보이지만, 그룹을 나누어 분석할 경우 강한 상관 관계를 보일 것 같다.\n",
    "\n",
    "이는 보통 핸드폰(특히, 최신형)에 대한 관심이 많은 사람들이 최근에 나온 가격이 높은 핸드폰을 구매하는 경향이 크기 때문으로 보인다.\n",
    "최신 핸드폰의 경우, 통신사에서 번호이동 시 혜택이 많거나 할인 폭이 큰 경우가 있기 때문에 통신사를 자주 옮기며 핸드폰을 구입하는 사람들이 많다.\n",
    "또한 최신 핸드폰을 구매하는 사람들은 빠르고 새로운 정보를 기반으로 빠르게 행동하기 때문에 이에 따른 이동이 상대적으로 크게 나타난다.\n",
    "\n",
    "핸드폰에 대한 기본 기능만을 필요로 하는 사람들은 값싸고 익숙한 핸드폰을 사용하는 것을 선호하는 경향이 있다.\n",
    "그렇기 때문에 핸드폰이 고장나거나 기능이 크게 저하되지 않는다면 핸드폰을 바꿀 필요성을 느끼지 못하며, 통신사 이동에 대한 필요성도 굳이 느끼지 못해 사용하던 대로 유지하는 경향이 크다."
   ]
  },
  {
   "cell_type": "markdown",
   "metadata": {
    "id": "RGQGnk8JFdQf"
   },
   "source": [
    ">##### 추가분석(그룹핑)"
   ]
  },
  {
   "cell_type": "code",
   "execution_count": 31,
   "metadata": {
    "id": "8z58caznFdNU"
   },
   "outputs": [],
   "source": [
    "import math\n",
    "mobile['HP_group'] = pd.cut(mobile['HANDSET_PRICE'], bins=[0, 400, math.inf], labels=['low', 'high'])"
   ]
  },
  {
   "cell_type": "code",
   "execution_count": 32,
   "metadata": {},
   "outputs": [
    {
     "name": "stdout",
     "output_type": "stream",
     "text": [
      "HP_group   low  high\n",
      "CHURN               \n",
      "0         6470  2661\n",
      "1         5429  3440\n",
      "--------------------------------------------------\n",
      "HP_group       low      high\n",
      "CHURN                       \n",
      "0         0.543743  0.436158\n",
      "1         0.456257  0.563842\n",
      "--------------------------------------------------\n",
      "HP_group       low      high\n",
      "CHURN                       \n",
      "0         0.708575  0.291425\n",
      "1         0.612132  0.387868\n",
      "--------------------------------------------------\n",
      "HP_group       low      high\n",
      "CHURN                       \n",
      "0         0.359444  0.147833\n",
      "1         0.301611  0.191111\n",
      "====================================================================================================\n",
      "CHURN            0         1\n",
      "HP_group                    \n",
      "low       0.543743  0.456257\n",
      "high      0.436158  0.563842\n"
     ]
    },
    {
     "data": {
      "image/png": "[encoded data removed]",
      "text/plain": [
       "<Figure size 432x288 with 1 Axes>"
      ]
     },
     "metadata": {
      "needs_background": "light"
     },
     "output_type": "display_data"
    },
    {
     "data": {
      "image/png": "[encoded data removed]",
      "text/plain": [
       "<Figure size 432x288 with 3 Axes>"
      ]
     },
     "metadata": {
      "needs_background": "light"
     },
     "output_type": "display_data"
    },
    {
     "name": "stdout",
     "output_type": "stream",
     "text": [
      "====================================================================================================\n",
      "교차표\n",
      " CHURN        0     1\n",
      "HP_group            \n",
      "low       6470  5429\n",
      "high      2661  3440\n",
      "----------------------------------------------------------------------------------------------------\n",
      "카이제곱통계량 186.3349381793259\n",
      "p-value 2.0062033420842426e-42\n",
      "자유도 1\n",
      "기대빈도\n",
      " [[6036.09827778 5862.90172222]\n",
      " [3094.90172222 3006.09827778]]\n"
     ]
    }
   ],
   "source": [
    "target = 'CHURN'\n",
    "feature = 'HP_group'\n",
    "\n",
    "cat2cat_crosstab(mobile, target, feature)\n",
    "cat2cat_visualization(mobile, target, feature)\n",
    "cat2cat_stats(mobile, target, feature)"
   ]
  },
  {
   "cell_type": "markdown",
   "metadata": {},
   "source": [
    "프리미엄 핸드폰으로 추정되는 가격 구간을 기준으로 그룹을 나누었더니, 차이가 더 커 보임."
   ]
  },
  {
   "cell_type": "markdown",
   "metadata": {
    "id": "QwikcGXELsny"
   },
   "source": [
    "#### 2) OVERAGE --> CHURN\n"
   ]
  },
  {
   "cell_type": "code",
   "execution_count": 33,
   "metadata": {
    "id": "bGWLTAg9Lsny"
   },
   "outputs": [
    {
     "data": {
      "image/png": "[encoded data removed]",
      "text/plain": [
       "<Figure size 1152x288 with 4 Axes>"
      ]
     },
     "metadata": {
      "needs_background": "light"
     },
     "output_type": "display_data"
    },
    {
     "name": "stdout",
     "output_type": "stream",
     "text": [
      "OVERAGE  로지스틱 통계량\n",
      "Optimization terminated successfully.\n",
      "         Current function value: 0.680553\n",
      "         Iterations 4\n",
      "OVERAGE    3.521095e-97\n",
      "dtype: float64\n"
     ]
    }
   ],
   "source": [
    "target = 'CHURN'\n",
    "feature = 'OVERAGE'\n",
    "bins = 10\n",
    "num2cat_visualization(mobile, target, feature, bins)\n",
    "\n",
    "num2cat_stats(mobile, target, feature,)"
   ]
  },
  {
   "cell_type": "markdown",
   "metadata": {
    "id": "R4crpBV9FfAM"
   },
   "source": [
    ">##### 파악한 내용(강)"
   ]
  },
  {
   "cell_type": "markdown",
   "metadata": {
    "id": "Wk4QkkXyFe8_"
   },
   "source": [
    "0에 가까운 추가 사용량을 가진 고객일 수록 잔류할 가능성이 높다.\n",
    "\n",
    "핸드폰을 자주 사용하지 않는 다는 얘기이며, 이에 따라 핸드폰의 기본 기능, 권장에 따라 통신사를 변경할 확률이 높은 것으로 보인다.\n",
    "\n",
    "반면에 100을 넘어가는 고객의 경우에는 이탈률이 높은데, 과금으로 인한 불만족일 수도 있다. 고객의 핸드폰 사용량에 따른 요금제 추천을 고려해보자."
   ]
  },
  {
   "cell_type": "code",
   "execution_count": 34,
   "metadata": {
    "id": "V-ohsvLDFe5f"
   },
   "outputs": [],
   "source": [
    "mobile_OVER = mobile[mobile['OVERAGE'] < 20]"
   ]
  },
  {
   "cell_type": "code",
   "execution_count": 35,
   "metadata": {
    "id": "Ol5A6fIwFe2L"
   },
   "outputs": [
    {
     "data": {
      "text/plain": [
       "67529"
      ]
     },
     "execution_count": 35,
     "metadata": {},
     "output_type": "execute_result"
    }
   ],
   "source": [
    "mobile_OVER.size"
   ]
  },
  {
   "cell_type": "code",
   "execution_count": null,
   "metadata": {},
   "outputs": [],
   "source": []
  },
  {
   "cell_type": "markdown",
   "metadata": {
    "id": "KkyjTXOqLsyK"
   },
   "source": [
    "#### 3) INCOME --> CHURN\n"
   ]
  },
  {
   "cell_type": "code",
   "execution_count": 36,
   "metadata": {
    "id": "ZNHDXzGALsyK"
   },
   "outputs": [
    {
     "data": {
      "image/png": "[encoded data removed]",
      "text/plain": [
       "<Figure size 1152x288 with 4 Axes>"
      ]
     },
     "metadata": {
      "needs_background": "light"
     },
     "output_type": "display_data"
    },
    {
     "name": "stdout",
     "output_type": "stream",
     "text": [
      "INCOME  로지스틱 통계량\n",
      "Optimization terminated successfully.\n",
      "         Current function value: 0.692683\n",
      "         Iterations 2\n",
      "INCOME    0.000044\n",
      "dtype: float64\n"
     ]
    }
   ],
   "source": [
    "target = 'CHURN'\n",
    "feature = 'INCOME'\n",
    "bins = 10\n",
    "num2cat_visualization(mobile, target, feature, bins)\n",
    "\n",
    "num2cat_stats(mobile, target, feature,)"
   ]
  },
  {
   "cell_type": "markdown",
   "metadata": {
    "id": "zdX0gPMOFggG"
   },
   "source": [
    ">##### 파악한 내용(강)"
   ]
  },
  {
   "cell_type": "markdown",
   "metadata": {
    "id": "Fb_Y9eIsFgc-"
   },
   "source": [
    "연 수입액이 높을 수록 이탈률이 높다.\n",
    "\n",
    "수입액이 높을 수록 높은 요금제를 사용할 것 같은데, 아니라면 초과 사용량이 있는게 아닐까? 확인해보면 좋을 것 같다. \n",
    "\n",
    "또한 그룹화했을 경우에 더 높은 상관을 보일 것 같다."
   ]
  },
  {
   "cell_type": "code",
   "execution_count": null,
   "metadata": {
    "id": "FFVmR4hXFgaM"
   },
   "outputs": [],
   "source": []
  },
  {
   "cell_type": "code",
   "execution_count": null,
   "metadata": {
    "id": "iosQzJv4FgXG"
   },
   "outputs": [],
   "source": []
  },
  {
   "cell_type": "markdown",
   "metadata": {
    "id": "wv6nX82-ZIG4"
   },
   "source": [
    "#### 4) AVERAGE_CALL_DURATION --> CHURN\n"
   ]
  },
  {
   "cell_type": "code",
   "execution_count": 37,
   "metadata": {
    "id": "DNWTAgOAZIG5"
   },
   "outputs": [
    {
     "data": {
      "image/png": "[encoded data removed]",
      "text/plain": [
       "<Figure size 1152x288 with 4 Axes>"
      ]
     },
     "metadata": {
      "needs_background": "light"
     },
     "output_type": "display_data"
    },
    {
     "name": "stdout",
     "output_type": "stream",
     "text": [
      "AVERAGE_CALL_DURATION  로지스틱 통계량\n",
      "Optimization terminated successfully.\n",
      "         Current function value: 0.693027\n",
      "         Iterations 3\n",
      "AVERAGE_CALL_DURATION    0.03783\n",
      "dtype: float64\n"
     ]
    }
   ],
   "source": [
    "target = 'CHURN'\n",
    "feature = 'AVERAGE_CALL_DURATION'\n",
    "bins = 10\n",
    "num2cat_visualization(mobile, target, feature, bins)\n",
    "\n",
    "num2cat_stats(mobile, target, feature,)"
   ]
  },
  {
   "cell_type": "code",
   "execution_count": null,
   "metadata": {
    "id": "sysFFUnCZIG5"
   },
   "outputs": [],
   "source": []
  },
  {
   "cell_type": "markdown",
   "metadata": {
    "id": "vjHOKBRAZIG5"
   },
   "source": [
    "2.5를 기준으로 나뉜다.\n",
    "\n",
    "2.5보다 낮을 경우, 이탈률이 높다. \n",
    "전화보다 다른 기능 사용이 많은 것이 아닌지 확인해 볼 필요가 있다."
   ]
  },
  {
   "cell_type": "code",
   "execution_count": null,
   "metadata": {
    "id": "toL7DMIPZIG5"
   },
   "outputs": [],
   "source": []
  },
  {
   "cell_type": "code",
   "execution_count": null,
   "metadata": {
    "id": "4_SdzqpmZIG5"
   },
   "outputs": [],
   "source": []
  },
  {
   "cell_type": "markdown",
   "metadata": {
    "id": "Jd4WbbU-jqU3"
   },
   "source": [
    "## 4.관계 정리"
   ]
  },
  {
   "cell_type": "markdown",
   "metadata": {
    "id": "bKmN0rtAjto6"
   },
   "source": [
    "### 1) 강한관계의 변수"
   ]
  },
  {
   "cell_type": "markdown",
   "metadata": {
    "id": "lx6Np73PL0YS"
   },
   "source": [
    "OVERAGE, INCOME, HANDSET_PRICE"
   ]
  },
  {
   "cell_type": "markdown",
   "metadata": {
    "id": "u8B765zNjwp5"
   },
   "source": [
    "### 2) 약한관계의 변수"
   ]
  },
  {
   "cell_type": "markdown",
   "metadata": {
    "id": "kg8-QylzL1kE"
   },
   "source": [
    "AVERAGE_CALL_DURATION, COLLEGE"
   ]
  },
  {
   "cell_type": "markdown",
   "metadata": {
    "id": "eYiQ9OUijwdq"
   },
   "source": [
    "### 3) 관계 없음"
   ]
  },
  {
   "cell_type": "markdown",
   "metadata": {
    "id": "K0o6lwH5L2Wj"
   },
   "source": [
    "PREPORTED_SATISFACTION, CONSIDERING_CHANGE_OF_PLAN"
   ]
  },
  {
   "cell_type": "markdown",
   "metadata": {
    "id": "nePF6KE6jlX6"
   },
   "source": [
    "## 5.추가 분석"
   ]
  },
  {
   "cell_type": "code",
   "execution_count": null,
   "metadata": {
    "id": "B8E9F24bkYTn"
   },
   "outputs": [],
   "source": []
  },
  {
   "cell_type": "code",
   "execution_count": null,
   "metadata": {
    "id": "DUL6jc1SL5QL"
   },
   "outputs": [],
   "source": []
  },
  {
   "cell_type": "code",
   "execution_count": null,
   "metadata": {
    "id": "rW-_G3TiL5HV"
   },
   "outputs": [],
   "source": []
  }
 ],
 "metadata": {
  "colab": {
   "collapsed_sections": [
    "bdWZCugILZAz",
    "6ks7Mts5ZOIO",
    "KkyjTXOqLsyK",
    "wv6nX82-ZIG4"
   ],
   "name": "과제2. Mobile 고객 이탈 분석.ipynb",
   "provenance": []
  },
  "kernelspec": {
   "display_name": "Python 3",
   "language": "python",
   "name": "python3"
  },
  "language_info": {
   "codemirror_mode": {
    "name": "ipython",
    "version": 3
   },
   "file_extension": ".py",
   "mimetype": "text/x-python",
   "name": "python",
   "nbconvert_exporter": "python",
   "pygments_lexer": "ipython3",
   "version": "3.8.8"
  }
 },
 "nbformat": 4,
 "nbformat_minor": 4
}
